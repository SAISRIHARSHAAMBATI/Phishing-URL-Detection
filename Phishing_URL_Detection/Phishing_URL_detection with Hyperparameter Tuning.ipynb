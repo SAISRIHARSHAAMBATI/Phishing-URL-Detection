{
 "cells": [
  {
   "cell_type": "code",
   "execution_count": 1,
   "id": "c6c9e5f4",
   "metadata": {},
   "outputs": [],
   "source": [
    "#importing required packages\n",
    "import pandas as pd\n",
    "import numpy as np\n",
    "import seaborn as sns\n",
    "import matplotlib.pyplot as plt"
   ]
  },
  {
   "cell_type": "markdown",
   "id": "42363f15",
   "metadata": {},
   "source": [
    "# Legitimate data"
   ]
  },
  {
   "cell_type": "code",
   "execution_count": 2,
   "id": "4ae16664",
   "metadata": {},
   "outputs": [
    {
     "data": {
      "text/plain": [
       "(5000, 16)"
      ]
     },
     "execution_count": 2,
     "metadata": {},
     "output_type": "execute_result"
    }
   ],
   "source": [
    "#Load legitimate URL extracted features\n",
    "legit_data=pd.read_csv(r\"C:\\Users\\Student\\Desktop\\EA6360\\Project\\Modelling\\legitimate_extracted.csv\")\n",
    "legit_data.shape"
   ]
  },
  {
   "cell_type": "code",
   "execution_count": 3,
   "id": "e8ba46e2",
   "metadata": {},
   "outputs": [
    {
     "data": {
      "text/html": [
       "<div>\n",
       "<style scoped>\n",
       "    .dataframe tbody tr th:only-of-type {\n",
       "        vertical-align: middle;\n",
       "    }\n",
       "\n",
       "    .dataframe tbody tr th {\n",
       "        vertical-align: top;\n",
       "    }\n",
       "\n",
       "    .dataframe thead th {\n",
       "        text-align: right;\n",
       "    }\n",
       "</style>\n",
       "<table border=\"1\" class=\"dataframe\">\n",
       "  <thead>\n",
       "    <tr style=\"text-align: right;\">\n",
       "      <th></th>\n",
       "      <th>Domain</th>\n",
       "      <th>Have_IP</th>\n",
       "      <th>Have_At</th>\n",
       "      <th>URL_Length</th>\n",
       "      <th>URL_Depth</th>\n",
       "      <th>Redirection</th>\n",
       "      <th>https_Domain</th>\n",
       "      <th>Tiny_URL</th>\n",
       "      <th>Prefix/Suffix</th>\n",
       "      <th>DNS_Record</th>\n",
       "      <th>Web_Traffic</th>\n",
       "      <th>Domain_Age</th>\n",
       "      <th>iFrame</th>\n",
       "      <th>Right_Click</th>\n",
       "      <th>Web_Forwards</th>\n",
       "      <th>label</th>\n",
       "    </tr>\n",
       "  </thead>\n",
       "  <tbody>\n",
       "    <tr>\n",
       "      <th>0</th>\n",
       "      <td>graphicriver.net</td>\n",
       "      <td>0</td>\n",
       "      <td>0</td>\n",
       "      <td>1</td>\n",
       "      <td>1</td>\n",
       "      <td>0</td>\n",
       "      <td>0</td>\n",
       "      <td>0</td>\n",
       "      <td>0</td>\n",
       "      <td>0</td>\n",
       "      <td>1</td>\n",
       "      <td>1</td>\n",
       "      <td>0</td>\n",
       "      <td>1</td>\n",
       "      <td>0</td>\n",
       "      <td>0</td>\n",
       "    </tr>\n",
       "    <tr>\n",
       "      <th>1</th>\n",
       "      <td>ecnavi.jp</td>\n",
       "      <td>0</td>\n",
       "      <td>0</td>\n",
       "      <td>1</td>\n",
       "      <td>1</td>\n",
       "      <td>1</td>\n",
       "      <td>0</td>\n",
       "      <td>0</td>\n",
       "      <td>0</td>\n",
       "      <td>0</td>\n",
       "      <td>1</td>\n",
       "      <td>1</td>\n",
       "      <td>0</td>\n",
       "      <td>1</td>\n",
       "      <td>0</td>\n",
       "      <td>0</td>\n",
       "    </tr>\n",
       "    <tr>\n",
       "      <th>2</th>\n",
       "      <td>hubpages.com</td>\n",
       "      <td>0</td>\n",
       "      <td>0</td>\n",
       "      <td>1</td>\n",
       "      <td>1</td>\n",
       "      <td>0</td>\n",
       "      <td>0</td>\n",
       "      <td>0</td>\n",
       "      <td>0</td>\n",
       "      <td>0</td>\n",
       "      <td>1</td>\n",
       "      <td>0</td>\n",
       "      <td>0</td>\n",
       "      <td>1</td>\n",
       "      <td>0</td>\n",
       "      <td>0</td>\n",
       "    </tr>\n",
       "    <tr>\n",
       "      <th>3</th>\n",
       "      <td>extratorrent.cc</td>\n",
       "      <td>0</td>\n",
       "      <td>0</td>\n",
       "      <td>1</td>\n",
       "      <td>3</td>\n",
       "      <td>0</td>\n",
       "      <td>0</td>\n",
       "      <td>0</td>\n",
       "      <td>0</td>\n",
       "      <td>0</td>\n",
       "      <td>1</td>\n",
       "      <td>0</td>\n",
       "      <td>0</td>\n",
       "      <td>1</td>\n",
       "      <td>0</td>\n",
       "      <td>0</td>\n",
       "    </tr>\n",
       "    <tr>\n",
       "      <th>4</th>\n",
       "      <td>icicibank.com</td>\n",
       "      <td>0</td>\n",
       "      <td>0</td>\n",
       "      <td>1</td>\n",
       "      <td>3</td>\n",
       "      <td>0</td>\n",
       "      <td>0</td>\n",
       "      <td>0</td>\n",
       "      <td>0</td>\n",
       "      <td>0</td>\n",
       "      <td>1</td>\n",
       "      <td>0</td>\n",
       "      <td>0</td>\n",
       "      <td>1</td>\n",
       "      <td>0</td>\n",
       "      <td>0</td>\n",
       "    </tr>\n",
       "  </tbody>\n",
       "</table>\n",
       "</div>"
      ],
      "text/plain": [
       "             Domain  Have_IP  Have_At  URL_Length  URL_Depth  Redirection  \\\n",
       "0  graphicriver.net        0        0           1          1            0   \n",
       "1         ecnavi.jp        0        0           1          1            1   \n",
       "2      hubpages.com        0        0           1          1            0   \n",
       "3   extratorrent.cc        0        0           1          3            0   \n",
       "4     icicibank.com        0        0           1          3            0   \n",
       "\n",
       "   https_Domain  Tiny_URL  Prefix/Suffix  DNS_Record  Web_Traffic  Domain_Age  \\\n",
       "0             0         0              0           0            1           1   \n",
       "1             0         0              0           0            1           1   \n",
       "2             0         0              0           0            1           0   \n",
       "3             0         0              0           0            1           0   \n",
       "4             0         0              0           0            1           0   \n",
       "\n",
       "   iFrame  Right_Click  Web_Forwards  label  \n",
       "0       0            1             0      0  \n",
       "1       0            1             0      0  \n",
       "2       0            1             0      0  \n",
       "3       0            1             0      0  \n",
       "4       0            1             0      0  "
      ]
     },
     "execution_count": 3,
     "metadata": {},
     "output_type": "execute_result"
    }
   ],
   "source": [
    "legit_data.head()"
   ]
  },
  {
   "cell_type": "code",
   "execution_count": 4,
   "id": "9c515df2",
   "metadata": {},
   "outputs": [
    {
     "name": "stdout",
     "output_type": "stream",
     "text": [
      "<class 'pandas.core.frame.DataFrame'>\n",
      "RangeIndex: 5000 entries, 0 to 4999\n",
      "Data columns (total 16 columns):\n",
      " #   Column         Non-Null Count  Dtype \n",
      "---  ------         --------------  ----- \n",
      " 0   Domain         5000 non-null   object\n",
      " 1   Have_IP        5000 non-null   int64 \n",
      " 2   Have_At        5000 non-null   int64 \n",
      " 3   URL_Length     5000 non-null   int64 \n",
      " 4   URL_Depth      5000 non-null   int64 \n",
      " 5   Redirection    5000 non-null   int64 \n",
      " 6   https_Domain   5000 non-null   int64 \n",
      " 7   Tiny_URL       5000 non-null   int64 \n",
      " 8   Prefix/Suffix  5000 non-null   int64 \n",
      " 9   DNS_Record     5000 non-null   int64 \n",
      " 10  Web_Traffic    5000 non-null   int64 \n",
      " 11  Domain_Age     5000 non-null   int64 \n",
      " 12  iFrame         5000 non-null   int64 \n",
      " 13  Right_Click    5000 non-null   int64 \n",
      " 14  Web_Forwards   5000 non-null   int64 \n",
      " 15  label          5000 non-null   int64 \n",
      "dtypes: int64(15), object(1)\n",
      "memory usage: 625.1+ KB\n"
     ]
    }
   ],
   "source": [
    "legit_data.info()"
   ]
  },
  {
   "cell_type": "markdown",
   "id": "bed3ff3a",
   "metadata": {},
   "source": [
    "# Phishing data"
   ]
  },
  {
   "cell_type": "code",
   "execution_count": 5,
   "id": "0aca440d",
   "metadata": {},
   "outputs": [
    {
     "data": {
      "text/plain": [
       "(5000, 16)"
      ]
     },
     "execution_count": 5,
     "metadata": {},
     "output_type": "execute_result"
    }
   ],
   "source": [
    "#Loads phishing URL extracted features\n",
    "phish_data=pd.read_csv(r\"C:\\Users\\Student\\Desktop\\EA6360\\Project\\Modelling\\phishing_extracted.csv\")\n",
    "phish_data.shape"
   ]
  },
  {
   "cell_type": "code",
   "execution_count": 6,
   "id": "378599f8",
   "metadata": {},
   "outputs": [
    {
     "data": {
      "text/html": [
       "<div>\n",
       "<style scoped>\n",
       "    .dataframe tbody tr th:only-of-type {\n",
       "        vertical-align: middle;\n",
       "    }\n",
       "\n",
       "    .dataframe tbody tr th {\n",
       "        vertical-align: top;\n",
       "    }\n",
       "\n",
       "    .dataframe thead th {\n",
       "        text-align: right;\n",
       "    }\n",
       "</style>\n",
       "<table border=\"1\" class=\"dataframe\">\n",
       "  <thead>\n",
       "    <tr style=\"text-align: right;\">\n",
       "      <th></th>\n",
       "      <th>Domain</th>\n",
       "      <th>Have_IP</th>\n",
       "      <th>Have_At</th>\n",
       "      <th>URL_Length</th>\n",
       "      <th>URL_Depth</th>\n",
       "      <th>Redirection</th>\n",
       "      <th>https_Domain</th>\n",
       "      <th>Tiny_URL</th>\n",
       "      <th>Prefix/Suffix</th>\n",
       "      <th>DNS_Record</th>\n",
       "      <th>Web_Traffic</th>\n",
       "      <th>Domain_Age</th>\n",
       "      <th>iFrame</th>\n",
       "      <th>Right_Click</th>\n",
       "      <th>Web_Forwards</th>\n",
       "      <th>label</th>\n",
       "    </tr>\n",
       "  </thead>\n",
       "  <tbody>\n",
       "    <tr>\n",
       "      <th>0</th>\n",
       "      <td>eevee.tv</td>\n",
       "      <td>0</td>\n",
       "      <td>0</td>\n",
       "      <td>0</td>\n",
       "      <td>4</td>\n",
       "      <td>0</td>\n",
       "      <td>0</td>\n",
       "      <td>0</td>\n",
       "      <td>0</td>\n",
       "      <td>0</td>\n",
       "      <td>1</td>\n",
       "      <td>0</td>\n",
       "      <td>0</td>\n",
       "      <td>1</td>\n",
       "      <td>0</td>\n",
       "      <td>1</td>\n",
       "    </tr>\n",
       "    <tr>\n",
       "      <th>1</th>\n",
       "      <td>appleid.apple.com-sa.pm</td>\n",
       "      <td>0</td>\n",
       "      <td>0</td>\n",
       "      <td>0</td>\n",
       "      <td>1</td>\n",
       "      <td>0</td>\n",
       "      <td>0</td>\n",
       "      <td>0</td>\n",
       "      <td>1</td>\n",
       "      <td>0</td>\n",
       "      <td>1</td>\n",
       "      <td>1</td>\n",
       "      <td>0</td>\n",
       "      <td>1</td>\n",
       "      <td>0</td>\n",
       "      <td>1</td>\n",
       "    </tr>\n",
       "    <tr>\n",
       "      <th>2</th>\n",
       "      <td>grandcup.xyz</td>\n",
       "      <td>0</td>\n",
       "      <td>0</td>\n",
       "      <td>0</td>\n",
       "      <td>0</td>\n",
       "      <td>0</td>\n",
       "      <td>0</td>\n",
       "      <td>0</td>\n",
       "      <td>0</td>\n",
       "      <td>0</td>\n",
       "      <td>1</td>\n",
       "      <td>0</td>\n",
       "      <td>1</td>\n",
       "      <td>1</td>\n",
       "      <td>1</td>\n",
       "      <td>1</td>\n",
       "    </tr>\n",
       "    <tr>\n",
       "      <th>3</th>\n",
       "      <td>villa-azzurro.com</td>\n",
       "      <td>0</td>\n",
       "      <td>0</td>\n",
       "      <td>0</td>\n",
       "      <td>1</td>\n",
       "      <td>0</td>\n",
       "      <td>0</td>\n",
       "      <td>0</td>\n",
       "      <td>1</td>\n",
       "      <td>0</td>\n",
       "      <td>0</td>\n",
       "      <td>0</td>\n",
       "      <td>0</td>\n",
       "      <td>1</td>\n",
       "      <td>0</td>\n",
       "      <td>1</td>\n",
       "    </tr>\n",
       "    <tr>\n",
       "      <th>4</th>\n",
       "      <td>mygpstrip.net</td>\n",
       "      <td>0</td>\n",
       "      <td>0</td>\n",
       "      <td>0</td>\n",
       "      <td>2</td>\n",
       "      <td>0</td>\n",
       "      <td>0</td>\n",
       "      <td>0</td>\n",
       "      <td>0</td>\n",
       "      <td>0</td>\n",
       "      <td>1</td>\n",
       "      <td>0</td>\n",
       "      <td>0</td>\n",
       "      <td>1</td>\n",
       "      <td>0</td>\n",
       "      <td>1</td>\n",
       "    </tr>\n",
       "  </tbody>\n",
       "</table>\n",
       "</div>"
      ],
      "text/plain": [
       "                    Domain  Have_IP  Have_At  URL_Length  URL_Depth  \\\n",
       "0                 eevee.tv        0        0           0          4   \n",
       "1  appleid.apple.com-sa.pm        0        0           0          1   \n",
       "2             grandcup.xyz        0        0           0          0   \n",
       "3        villa-azzurro.com        0        0           0          1   \n",
       "4            mygpstrip.net        0        0           0          2   \n",
       "\n",
       "   Redirection  https_Domain  Tiny_URL  Prefix/Suffix  DNS_Record  \\\n",
       "0            0             0         0              0           0   \n",
       "1            0             0         0              1           0   \n",
       "2            0             0         0              0           0   \n",
       "3            0             0         0              1           0   \n",
       "4            0             0         0              0           0   \n",
       "\n",
       "   Web_Traffic  Domain_Age  iFrame  Right_Click  Web_Forwards  label  \n",
       "0            1           0       0            1             0      1  \n",
       "1            1           1       0            1             0      1  \n",
       "2            1           0       1            1             1      1  \n",
       "3            0           0       0            1             0      1  \n",
       "4            1           0       0            1             0      1  "
      ]
     },
     "execution_count": 6,
     "metadata": {},
     "output_type": "execute_result"
    }
   ],
   "source": [
    "phish_data.head()"
   ]
  },
  {
   "cell_type": "code",
   "execution_count": 7,
   "id": "d8221e8a",
   "metadata": {},
   "outputs": [
    {
     "name": "stdout",
     "output_type": "stream",
     "text": [
      "<class 'pandas.core.frame.DataFrame'>\n",
      "RangeIndex: 5000 entries, 0 to 4999\n",
      "Data columns (total 16 columns):\n",
      " #   Column         Non-Null Count  Dtype \n",
      "---  ------         --------------  ----- \n",
      " 0   Domain         5000 non-null   object\n",
      " 1   Have_IP        5000 non-null   int64 \n",
      " 2   Have_At        5000 non-null   int64 \n",
      " 3   URL_Length     5000 non-null   int64 \n",
      " 4   URL_Depth      5000 non-null   int64 \n",
      " 5   Redirection    5000 non-null   int64 \n",
      " 6   https_Domain   5000 non-null   int64 \n",
      " 7   Tiny_URL       5000 non-null   int64 \n",
      " 8   Prefix/Suffix  5000 non-null   int64 \n",
      " 9   DNS_Record     5000 non-null   int64 \n",
      " 10  Web_Traffic    5000 non-null   int64 \n",
      " 11  Domain_Age     5000 non-null   int64 \n",
      " 12  iFrame         5000 non-null   int64 \n",
      " 13  Right_Click    5000 non-null   int64 \n",
      " 14  Web_Forwards   5000 non-null   int64 \n",
      " 15  label          5000 non-null   int64 \n",
      "dtypes: int64(15), object(1)\n",
      "memory usage: 625.1+ KB\n"
     ]
    }
   ],
   "source": [
    "phish_data.info()"
   ]
  },
  {
   "cell_type": "markdown",
   "id": "39f4e496",
   "metadata": {},
   "source": [
    "### Concatinating Legitmate and Phishing data"
   ]
  },
  {
   "cell_type": "code",
   "execution_count": 8,
   "id": "5d477131",
   "metadata": {},
   "outputs": [
    {
     "data": {
      "text/html": [
       "<div>\n",
       "<style scoped>\n",
       "    .dataframe tbody tr th:only-of-type {\n",
       "        vertical-align: middle;\n",
       "    }\n",
       "\n",
       "    .dataframe tbody tr th {\n",
       "        vertical-align: top;\n",
       "    }\n",
       "\n",
       "    .dataframe thead th {\n",
       "        text-align: right;\n",
       "    }\n",
       "</style>\n",
       "<table border=\"1\" class=\"dataframe\">\n",
       "  <thead>\n",
       "    <tr style=\"text-align: right;\">\n",
       "      <th></th>\n",
       "      <th>Domain</th>\n",
       "      <th>Have_IP</th>\n",
       "      <th>Have_At</th>\n",
       "      <th>URL_Length</th>\n",
       "      <th>URL_Depth</th>\n",
       "      <th>Redirection</th>\n",
       "      <th>https_Domain</th>\n",
       "      <th>Tiny_URL</th>\n",
       "      <th>Prefix/Suffix</th>\n",
       "      <th>DNS_Record</th>\n",
       "      <th>Web_Traffic</th>\n",
       "      <th>Domain_Age</th>\n",
       "      <th>iFrame</th>\n",
       "      <th>Right_Click</th>\n",
       "      <th>Web_Forwards</th>\n",
       "      <th>label</th>\n",
       "    </tr>\n",
       "  </thead>\n",
       "  <tbody>\n",
       "    <tr>\n",
       "      <th>0</th>\n",
       "      <td>graphicriver.net</td>\n",
       "      <td>0</td>\n",
       "      <td>0</td>\n",
       "      <td>1</td>\n",
       "      <td>1</td>\n",
       "      <td>0</td>\n",
       "      <td>0</td>\n",
       "      <td>0</td>\n",
       "      <td>0</td>\n",
       "      <td>0</td>\n",
       "      <td>1</td>\n",
       "      <td>1</td>\n",
       "      <td>0</td>\n",
       "      <td>1</td>\n",
       "      <td>0</td>\n",
       "      <td>0</td>\n",
       "    </tr>\n",
       "    <tr>\n",
       "      <th>1</th>\n",
       "      <td>ecnavi.jp</td>\n",
       "      <td>0</td>\n",
       "      <td>0</td>\n",
       "      <td>1</td>\n",
       "      <td>1</td>\n",
       "      <td>1</td>\n",
       "      <td>0</td>\n",
       "      <td>0</td>\n",
       "      <td>0</td>\n",
       "      <td>0</td>\n",
       "      <td>1</td>\n",
       "      <td>1</td>\n",
       "      <td>0</td>\n",
       "      <td>1</td>\n",
       "      <td>0</td>\n",
       "      <td>0</td>\n",
       "    </tr>\n",
       "    <tr>\n",
       "      <th>2</th>\n",
       "      <td>hubpages.com</td>\n",
       "      <td>0</td>\n",
       "      <td>0</td>\n",
       "      <td>1</td>\n",
       "      <td>1</td>\n",
       "      <td>0</td>\n",
       "      <td>0</td>\n",
       "      <td>0</td>\n",
       "      <td>0</td>\n",
       "      <td>0</td>\n",
       "      <td>1</td>\n",
       "      <td>0</td>\n",
       "      <td>0</td>\n",
       "      <td>1</td>\n",
       "      <td>0</td>\n",
       "      <td>0</td>\n",
       "    </tr>\n",
       "    <tr>\n",
       "      <th>3</th>\n",
       "      <td>extratorrent.cc</td>\n",
       "      <td>0</td>\n",
       "      <td>0</td>\n",
       "      <td>1</td>\n",
       "      <td>3</td>\n",
       "      <td>0</td>\n",
       "      <td>0</td>\n",
       "      <td>0</td>\n",
       "      <td>0</td>\n",
       "      <td>0</td>\n",
       "      <td>1</td>\n",
       "      <td>0</td>\n",
       "      <td>0</td>\n",
       "      <td>1</td>\n",
       "      <td>0</td>\n",
       "      <td>0</td>\n",
       "    </tr>\n",
       "    <tr>\n",
       "      <th>4</th>\n",
       "      <td>icicibank.com</td>\n",
       "      <td>0</td>\n",
       "      <td>0</td>\n",
       "      <td>1</td>\n",
       "      <td>3</td>\n",
       "      <td>0</td>\n",
       "      <td>0</td>\n",
       "      <td>0</td>\n",
       "      <td>0</td>\n",
       "      <td>0</td>\n",
       "      <td>1</td>\n",
       "      <td>0</td>\n",
       "      <td>0</td>\n",
       "      <td>1</td>\n",
       "      <td>0</td>\n",
       "      <td>0</td>\n",
       "    </tr>\n",
       "  </tbody>\n",
       "</table>\n",
       "</div>"
      ],
      "text/plain": [
       "             Domain  Have_IP  Have_At  URL_Length  URL_Depth  Redirection  \\\n",
       "0  graphicriver.net        0        0           1          1            0   \n",
       "1         ecnavi.jp        0        0           1          1            1   \n",
       "2      hubpages.com        0        0           1          1            0   \n",
       "3   extratorrent.cc        0        0           1          3            0   \n",
       "4     icicibank.com        0        0           1          3            0   \n",
       "\n",
       "   https_Domain  Tiny_URL  Prefix/Suffix  DNS_Record  Web_Traffic  Domain_Age  \\\n",
       "0             0         0              0           0            1           1   \n",
       "1             0         0              0           0            1           1   \n",
       "2             0         0              0           0            1           0   \n",
       "3             0         0              0           0            1           0   \n",
       "4             0         0              0           0            1           0   \n",
       "\n",
       "   iFrame  Right_Click  Web_Forwards  label  \n",
       "0       0            1             0      0  \n",
       "1       0            1             0      0  \n",
       "2       0            1             0      0  \n",
       "3       0            1             0      0  \n",
       "4       0            1             0      0  "
      ]
     },
     "execution_count": 8,
     "metadata": {},
     "output_type": "execute_result"
    }
   ],
   "source": [
    "#Combining Phishing and legitimate extracted features dataset\n",
    "df_f = pd.concat([legit_data, phish_data]).reset_index(drop=True)\n",
    "df_f.head()"
   ]
  },
  {
   "cell_type": "code",
   "execution_count": 9,
   "id": "5b88feba",
   "metadata": {},
   "outputs": [
    {
     "data": {
      "text/plain": [
       "Index(['Domain', 'Have_IP', 'Have_At', 'URL_Length', 'URL_Depth',\n",
       "       'Redirection', 'https_Domain', 'Tiny_URL', 'Prefix/Suffix',\n",
       "       'DNS_Record', 'Web_Traffic', 'Domain_Age', 'iFrame', 'Right_Click',\n",
       "       'Web_Forwards', 'label'],\n",
       "      dtype='object')"
      ]
     },
     "execution_count": 9,
     "metadata": {},
     "output_type": "execute_result"
    }
   ],
   "source": [
    "#dataset columns\n",
    "df_f.columns"
   ]
  },
  {
   "cell_type": "code",
   "execution_count": 10,
   "id": "e31fe70e",
   "metadata": {},
   "outputs": [
    {
     "name": "stdout",
     "output_type": "stream",
     "text": [
      "<class 'pandas.core.frame.DataFrame'>\n",
      "RangeIndex: 10000 entries, 0 to 9999\n",
      "Data columns (total 16 columns):\n",
      " #   Column         Non-Null Count  Dtype \n",
      "---  ------         --------------  ----- \n",
      " 0   Domain         10000 non-null  object\n",
      " 1   Have_IP        10000 non-null  int64 \n",
      " 2   Have_At        10000 non-null  int64 \n",
      " 3   URL_Length     10000 non-null  int64 \n",
      " 4   URL_Depth      10000 non-null  int64 \n",
      " 5   Redirection    10000 non-null  int64 \n",
      " 6   https_Domain   10000 non-null  int64 \n",
      " 7   Tiny_URL       10000 non-null  int64 \n",
      " 8   Prefix/Suffix  10000 non-null  int64 \n",
      " 9   DNS_Record     10000 non-null  int64 \n",
      " 10  Web_Traffic    10000 non-null  int64 \n",
      " 11  Domain_Age     10000 non-null  int64 \n",
      " 12  iFrame         10000 non-null  int64 \n",
      " 13  Right_Click    10000 non-null  int64 \n",
      " 14  Web_Forwards   10000 non-null  int64 \n",
      " 15  label          10000 non-null  int64 \n",
      "dtypes: int64(15), object(1)\n",
      "memory usage: 1.2+ MB\n"
     ]
    }
   ],
   "source": [
    "df_f.info()"
   ]
  },
  {
   "cell_type": "code",
   "execution_count": 11,
   "id": "8259840c",
   "metadata": {},
   "outputs": [
    {
     "data": {
      "text/plain": [
       "Domain           0\n",
       "Have_IP          0\n",
       "Have_At          0\n",
       "URL_Length       0\n",
       "URL_Depth        0\n",
       "Redirection      0\n",
       "https_Domain     0\n",
       "Tiny_URL         0\n",
       "Prefix/Suffix    0\n",
       "DNS_Record       0\n",
       "Web_Traffic      0\n",
       "Domain_Age       0\n",
       "iFrame           0\n",
       "Right_Click      0\n",
       "Web_Forwards     0\n",
       "label            0\n",
       "dtype: int64"
      ]
     },
     "execution_count": 11,
     "metadata": {},
     "output_type": "execute_result"
    }
   ],
   "source": [
    "df_f.isnull().sum()"
   ]
  },
  {
   "cell_type": "code",
   "execution_count": 12,
   "id": "87e922a9",
   "metadata": {},
   "outputs": [
    {
     "data": {
      "text/plain": [
       "<AxesSubplot:>"
      ]
     },
     "execution_count": 12,
     "metadata": {},
     "output_type": "execute_result"
    },
    {
     "data": {
      "image/png": "[encoded data removed]",
      "text/plain": [
       "<Figure size 1080x1080 with 16 Axes>"
      ]
     },
     "metadata": {
      "needs_background": "light"
     },
     "output_type": "display_data"
    },
    {
     "data": {
      "image/png": "[encoded data removed]",
      "text/plain": [
       "<Figure size 432x288 with 1 Axes>"
      ]
     },
     "metadata": {
      "needs_background": "light"
     },
     "output_type": "display_data"
    }
   ],
   "source": [
    "#Plotting the data distribution\n",
    "df_f.hist(bins = 50,figsize = (15,15))\n",
    "df_f.plot()"
   ]
  },
  {
   "cell_type": "code",
   "execution_count": 13,
   "id": "2807c10d",
   "metadata": {},
   "outputs": [
    {
     "data": {
      "text/html": [
       "<div>\n",
       "<style scoped>\n",
       "    .dataframe tbody tr th:only-of-type {\n",
       "        vertical-align: middle;\n",
       "    }\n",
       "\n",
       "    .dataframe tbody tr th {\n",
       "        vertical-align: top;\n",
       "    }\n",
       "\n",
       "    .dataframe thead th {\n",
       "        text-align: right;\n",
       "    }\n",
       "</style>\n",
       "<table border=\"1\" class=\"dataframe\">\n",
       "  <thead>\n",
       "    <tr style=\"text-align: right;\">\n",
       "      <th></th>\n",
       "      <th>Have_IP</th>\n",
       "      <th>Have_At</th>\n",
       "      <th>URL_Length</th>\n",
       "      <th>URL_Depth</th>\n",
       "      <th>Redirection</th>\n",
       "      <th>https_Domain</th>\n",
       "      <th>Tiny_URL</th>\n",
       "      <th>Prefix/Suffix</th>\n",
       "      <th>DNS_Record</th>\n",
       "      <th>Web_Traffic</th>\n",
       "      <th>Domain_Age</th>\n",
       "      <th>iFrame</th>\n",
       "      <th>Right_Click</th>\n",
       "      <th>Web_Forwards</th>\n",
       "      <th>label</th>\n",
       "    </tr>\n",
       "  </thead>\n",
       "  <tbody>\n",
       "    <tr>\n",
       "      <th>count</th>\n",
       "      <td>10000.000000</td>\n",
       "      <td>10000.000000</td>\n",
       "      <td>10000.000000</td>\n",
       "      <td>10000.000000</td>\n",
       "      <td>10000.000000</td>\n",
       "      <td>10000.000000</td>\n",
       "      <td>10000.000000</td>\n",
       "      <td>10000.000000</td>\n",
       "      <td>10000.000000</td>\n",
       "      <td>10000.000000</td>\n",
       "      <td>10000.000000</td>\n",
       "      <td>10000.000000</td>\n",
       "      <td>10000.00000</td>\n",
       "      <td>10000.000000</td>\n",
       "      <td>10000.000000</td>\n",
       "    </tr>\n",
       "    <tr>\n",
       "      <th>mean</th>\n",
       "      <td>0.005500</td>\n",
       "      <td>0.022600</td>\n",
       "      <td>0.773400</td>\n",
       "      <td>3.072000</td>\n",
       "      <td>0.013500</td>\n",
       "      <td>0.000200</td>\n",
       "      <td>0.090300</td>\n",
       "      <td>0.093200</td>\n",
       "      <td>0.100800</td>\n",
       "      <td>0.845700</td>\n",
       "      <td>0.413700</td>\n",
       "      <td>0.090900</td>\n",
       "      <td>0.99930</td>\n",
       "      <td>0.105300</td>\n",
       "      <td>0.500000</td>\n",
       "    </tr>\n",
       "    <tr>\n",
       "      <th>std</th>\n",
       "      <td>0.073961</td>\n",
       "      <td>0.148632</td>\n",
       "      <td>0.418653</td>\n",
       "      <td>2.128631</td>\n",
       "      <td>0.115408</td>\n",
       "      <td>0.014141</td>\n",
       "      <td>0.286625</td>\n",
       "      <td>0.290727</td>\n",
       "      <td>0.301079</td>\n",
       "      <td>0.361254</td>\n",
       "      <td>0.492521</td>\n",
       "      <td>0.287481</td>\n",
       "      <td>0.02645</td>\n",
       "      <td>0.306955</td>\n",
       "      <td>0.500025</td>\n",
       "    </tr>\n",
       "    <tr>\n",
       "      <th>min</th>\n",
       "      <td>0.000000</td>\n",
       "      <td>0.000000</td>\n",
       "      <td>0.000000</td>\n",
       "      <td>0.000000</td>\n",
       "      <td>0.000000</td>\n",
       "      <td>0.000000</td>\n",
       "      <td>0.000000</td>\n",
       "      <td>0.000000</td>\n",
       "      <td>0.000000</td>\n",
       "      <td>0.000000</td>\n",
       "      <td>0.000000</td>\n",
       "      <td>0.000000</td>\n",
       "      <td>0.00000</td>\n",
       "      <td>0.000000</td>\n",
       "      <td>0.000000</td>\n",
       "    </tr>\n",
       "    <tr>\n",
       "      <th>25%</th>\n",
       "      <td>0.000000</td>\n",
       "      <td>0.000000</td>\n",
       "      <td>1.000000</td>\n",
       "      <td>2.000000</td>\n",
       "      <td>0.000000</td>\n",
       "      <td>0.000000</td>\n",
       "      <td>0.000000</td>\n",
       "      <td>0.000000</td>\n",
       "      <td>0.000000</td>\n",
       "      <td>1.000000</td>\n",
       "      <td>0.000000</td>\n",
       "      <td>0.000000</td>\n",
       "      <td>1.00000</td>\n",
       "      <td>0.000000</td>\n",
       "      <td>0.000000</td>\n",
       "    </tr>\n",
       "    <tr>\n",
       "      <th>50%</th>\n",
       "      <td>0.000000</td>\n",
       "      <td>0.000000</td>\n",
       "      <td>1.000000</td>\n",
       "      <td>3.000000</td>\n",
       "      <td>0.000000</td>\n",
       "      <td>0.000000</td>\n",
       "      <td>0.000000</td>\n",
       "      <td>0.000000</td>\n",
       "      <td>0.000000</td>\n",
       "      <td>1.000000</td>\n",
       "      <td>0.000000</td>\n",
       "      <td>0.000000</td>\n",
       "      <td>1.00000</td>\n",
       "      <td>0.000000</td>\n",
       "      <td>0.500000</td>\n",
       "    </tr>\n",
       "    <tr>\n",
       "      <th>75%</th>\n",
       "      <td>0.000000</td>\n",
       "      <td>0.000000</td>\n",
       "      <td>1.000000</td>\n",
       "      <td>4.000000</td>\n",
       "      <td>0.000000</td>\n",
       "      <td>0.000000</td>\n",
       "      <td>0.000000</td>\n",
       "      <td>0.000000</td>\n",
       "      <td>0.000000</td>\n",
       "      <td>1.000000</td>\n",
       "      <td>1.000000</td>\n",
       "      <td>0.000000</td>\n",
       "      <td>1.00000</td>\n",
       "      <td>0.000000</td>\n",
       "      <td>1.000000</td>\n",
       "    </tr>\n",
       "    <tr>\n",
       "      <th>max</th>\n",
       "      <td>1.000000</td>\n",
       "      <td>1.000000</td>\n",
       "      <td>1.000000</td>\n",
       "      <td>20.000000</td>\n",
       "      <td>1.000000</td>\n",
       "      <td>1.000000</td>\n",
       "      <td>1.000000</td>\n",
       "      <td>1.000000</td>\n",
       "      <td>1.000000</td>\n",
       "      <td>1.000000</td>\n",
       "      <td>1.000000</td>\n",
       "      <td>1.000000</td>\n",
       "      <td>1.00000</td>\n",
       "      <td>1.000000</td>\n",
       "      <td>1.000000</td>\n",
       "    </tr>\n",
       "  </tbody>\n",
       "</table>\n",
       "</div>"
      ],
      "text/plain": [
       "            Have_IP       Have_At    URL_Length     URL_Depth   Redirection  \\\n",
       "count  10000.000000  10000.000000  10000.000000  10000.000000  10000.000000   \n",
       "mean       0.005500      0.022600      0.773400      3.072000      0.013500   \n",
       "std        0.073961      0.148632      0.418653      2.128631      0.115408   \n",
       "min        0.000000      0.000000      0.000000      0.000000      0.000000   \n",
       "25%        0.000000      0.000000      1.000000      2.000000      0.000000   \n",
       "50%        0.000000      0.000000      1.000000      3.000000      0.000000   \n",
       "75%        0.000000      0.000000      1.000000      4.000000      0.000000   \n",
       "max        1.000000      1.000000      1.000000     20.000000      1.000000   \n",
       "\n",
       "       https_Domain      Tiny_URL  Prefix/Suffix    DNS_Record   Web_Traffic  \\\n",
       "count  10000.000000  10000.000000   10000.000000  10000.000000  10000.000000   \n",
       "mean       0.000200      0.090300       0.093200      0.100800      0.845700   \n",
       "std        0.014141      0.286625       0.290727      0.301079      0.361254   \n",
       "min        0.000000      0.000000       0.000000      0.000000      0.000000   \n",
       "25%        0.000000      0.000000       0.000000      0.000000      1.000000   \n",
       "50%        0.000000      0.000000       0.000000      0.000000      1.000000   \n",
       "75%        0.000000      0.000000       0.000000      0.000000      1.000000   \n",
       "max        1.000000      1.000000       1.000000      1.000000      1.000000   \n",
       "\n",
       "         Domain_Age        iFrame  Right_Click  Web_Forwards         label  \n",
       "count  10000.000000  10000.000000  10000.00000  10000.000000  10000.000000  \n",
       "mean       0.413700      0.090900      0.99930      0.105300      0.500000  \n",
       "std        0.492521      0.287481      0.02645      0.306955      0.500025  \n",
       "min        0.000000      0.000000      0.00000      0.000000      0.000000  \n",
       "25%        0.000000      0.000000      1.00000      0.000000      0.000000  \n",
       "50%        0.000000      0.000000      1.00000      0.000000      0.500000  \n",
       "75%        1.000000      0.000000      1.00000      0.000000      1.000000  \n",
       "max        1.000000      1.000000      1.00000      1.000000      1.000000  "
      ]
     },
     "execution_count": 13,
     "metadata": {},
     "output_type": "execute_result"
    }
   ],
   "source": [
    "df_f.describe()"
   ]
  },
  {
   "cell_type": "code",
   "execution_count": 14,
   "id": "d2f340e1",
   "metadata": {},
   "outputs": [
    {
     "data": {
      "text/html": [
       "<div>\n",
       "<style scoped>\n",
       "    .dataframe tbody tr th:only-of-type {\n",
       "        vertical-align: middle;\n",
       "    }\n",
       "\n",
       "    .dataframe tbody tr th {\n",
       "        vertical-align: top;\n",
       "    }\n",
       "\n",
       "    .dataframe thead th {\n",
       "        text-align: right;\n",
       "    }\n",
       "</style>\n",
       "<table border=\"1\" class=\"dataframe\">\n",
       "  <thead>\n",
       "    <tr style=\"text-align: right;\">\n",
       "      <th></th>\n",
       "      <th>Have_IP</th>\n",
       "      <th>Have_At</th>\n",
       "      <th>URL_Length</th>\n",
       "      <th>URL_Depth</th>\n",
       "      <th>Redirection</th>\n",
       "      <th>https_Domain</th>\n",
       "      <th>Tiny_URL</th>\n",
       "      <th>Prefix/Suffix</th>\n",
       "      <th>DNS_Record</th>\n",
       "      <th>Web_Traffic</th>\n",
       "      <th>Domain_Age</th>\n",
       "      <th>iFrame</th>\n",
       "      <th>Right_Click</th>\n",
       "      <th>Web_Forwards</th>\n",
       "      <th>label</th>\n",
       "    </tr>\n",
       "  </thead>\n",
       "  <tbody>\n",
       "    <tr>\n",
       "      <th>Have_IP</th>\n",
       "      <td>1.000000</td>\n",
       "      <td>-0.011308</td>\n",
       "      <td>-0.076021</td>\n",
       "      <td>-0.030466</td>\n",
       "      <td>-0.008700</td>\n",
       "      <td>-0.001052</td>\n",
       "      <td>-0.023430</td>\n",
       "      <td>-0.023841</td>\n",
       "      <td>-0.011425</td>\n",
       "      <td>0.024279</td>\n",
       "      <td>0.047349</td>\n",
       "      <td>-0.004701</td>\n",
       "      <td>0.001968</td>\n",
       "      <td>-0.003487</td>\n",
       "      <td>0.074367</td>\n",
       "    </tr>\n",
       "    <tr>\n",
       "      <th>Have_At</th>\n",
       "      <td>-0.011308</td>\n",
       "      <td>1.000000</td>\n",
       "      <td>0.067844</td>\n",
       "      <td>0.029944</td>\n",
       "      <td>-0.000297</td>\n",
       "      <td>-0.002151</td>\n",
       "      <td>0.067122</td>\n",
       "      <td>0.018369</td>\n",
       "      <td>0.025073</td>\n",
       "      <td>-0.017002</td>\n",
       "      <td>-0.017072</td>\n",
       "      <td>-0.008294</td>\n",
       "      <td>0.004025</td>\n",
       "      <td>-0.030246</td>\n",
       "      <td>0.118419</td>\n",
       "    </tr>\n",
       "    <tr>\n",
       "      <th>URL_Length</th>\n",
       "      <td>-0.076021</td>\n",
       "      <td>0.067844</td>\n",
       "      <td>1.000000</td>\n",
       "      <td>0.439378</td>\n",
       "      <td>0.038482</td>\n",
       "      <td>0.007656</td>\n",
       "      <td>-0.005318</td>\n",
       "      <td>-0.146102</td>\n",
       "      <td>-0.019508</td>\n",
       "      <td>0.063717</td>\n",
       "      <td>0.071029</td>\n",
       "      <td>-0.039903</td>\n",
       "      <td>0.030833</td>\n",
       "      <td>-0.023651</td>\n",
       "      <td>-0.541287</td>\n",
       "    </tr>\n",
       "    <tr>\n",
       "      <th>URL_Depth</th>\n",
       "      <td>-0.030466</td>\n",
       "      <td>0.029944</td>\n",
       "      <td>0.439378</td>\n",
       "      <td>1.000000</td>\n",
       "      <td>-0.040189</td>\n",
       "      <td>-0.000478</td>\n",
       "      <td>0.010980</td>\n",
       "      <td>-0.114919</td>\n",
       "      <td>-0.086073</td>\n",
       "      <td>0.075315</td>\n",
       "      <td>-0.070101</td>\n",
       "      <td>-0.039297</td>\n",
       "      <td>-0.002657</td>\n",
       "      <td>-0.051248</td>\n",
       "      <td>-0.119707</td>\n",
       "    </tr>\n",
       "    <tr>\n",
       "      <th>Redirection</th>\n",
       "      <td>-0.008700</td>\n",
       "      <td>-0.000297</td>\n",
       "      <td>0.038482</td>\n",
       "      <td>-0.040189</td>\n",
       "      <td>1.000000</td>\n",
       "      <td>-0.001655</td>\n",
       "      <td>0.026634</td>\n",
       "      <td>-0.025581</td>\n",
       "      <td>-0.027654</td>\n",
       "      <td>0.018784</td>\n",
       "      <td>0.012581</td>\n",
       "      <td>-0.012876</td>\n",
       "      <td>0.003096</td>\n",
       "      <td>-0.023193</td>\n",
       "      <td>0.002600</td>\n",
       "    </tr>\n",
       "    <tr>\n",
       "      <th>https_Domain</th>\n",
       "      <td>-0.001052</td>\n",
       "      <td>-0.002151</td>\n",
       "      <td>0.007656</td>\n",
       "      <td>-0.000478</td>\n",
       "      <td>-0.001655</td>\n",
       "      <td>1.000000</td>\n",
       "      <td>-0.004456</td>\n",
       "      <td>-0.004534</td>\n",
       "      <td>0.042243</td>\n",
       "      <td>-0.033112</td>\n",
       "      <td>0.016837</td>\n",
       "      <td>-0.004472</td>\n",
       "      <td>0.000374</td>\n",
       "      <td>-0.004852</td>\n",
       "      <td>0.014144</td>\n",
       "    </tr>\n",
       "    <tr>\n",
       "      <th>Tiny_URL</th>\n",
       "      <td>-0.023430</td>\n",
       "      <td>0.067122</td>\n",
       "      <td>-0.005318</td>\n",
       "      <td>0.010980</td>\n",
       "      <td>0.026634</td>\n",
       "      <td>-0.004456</td>\n",
       "      <td>1.000000</td>\n",
       "      <td>0.087421</td>\n",
       "      <td>0.059078</td>\n",
       "      <td>0.040888</td>\n",
       "      <td>0.095944</td>\n",
       "      <td>-0.062000</td>\n",
       "      <td>0.008339</td>\n",
       "      <td>-0.003508</td>\n",
       "      <td>0.072921</td>\n",
       "    </tr>\n",
       "    <tr>\n",
       "      <th>Prefix/Suffix</th>\n",
       "      <td>-0.023841</td>\n",
       "      <td>0.018369</td>\n",
       "      <td>-0.146102</td>\n",
       "      <td>-0.114919</td>\n",
       "      <td>-0.025581</td>\n",
       "      <td>-0.004534</td>\n",
       "      <td>0.087421</td>\n",
       "      <td>1.000000</td>\n",
       "      <td>-0.006793</td>\n",
       "      <td>-0.046843</td>\n",
       "      <td>-0.019954</td>\n",
       "      <td>0.050594</td>\n",
       "      <td>-0.017527</td>\n",
       "      <td>0.030102</td>\n",
       "      <td>0.302705</td>\n",
       "    </tr>\n",
       "    <tr>\n",
       "      <th>DNS_Record</th>\n",
       "      <td>-0.011425</td>\n",
       "      <td>0.025073</td>\n",
       "      <td>-0.019508</td>\n",
       "      <td>-0.086073</td>\n",
       "      <td>-0.027654</td>\n",
       "      <td>0.042243</td>\n",
       "      <td>0.059078</td>\n",
       "      <td>-0.006793</td>\n",
       "      <td>1.000000</td>\n",
       "      <td>0.065776</td>\n",
       "      <td>0.398583</td>\n",
       "      <td>0.103266</td>\n",
       "      <td>0.008861</td>\n",
       "      <td>0.042050</td>\n",
       "      <td>0.015943</td>\n",
       "    </tr>\n",
       "    <tr>\n",
       "      <th>Web_Traffic</th>\n",
       "      <td>0.024279</td>\n",
       "      <td>-0.017002</td>\n",
       "      <td>0.063717</td>\n",
       "      <td>0.075315</td>\n",
       "      <td>0.018784</td>\n",
       "      <td>-0.033112</td>\n",
       "      <td>0.040888</td>\n",
       "      <td>-0.046843</td>\n",
       "      <td>0.065776</td>\n",
       "      <td>1.000000</td>\n",
       "      <td>0.013681</td>\n",
       "      <td>0.006990</td>\n",
       "      <td>0.051495</td>\n",
       "      <td>0.073485</td>\n",
       "      <td>-0.108793</td>\n",
       "    </tr>\n",
       "    <tr>\n",
       "      <th>Domain_Age</th>\n",
       "      <td>0.047349</td>\n",
       "      <td>-0.017072</td>\n",
       "      <td>0.071029</td>\n",
       "      <td>-0.070101</td>\n",
       "      <td>0.012581</td>\n",
       "      <td>0.016837</td>\n",
       "      <td>0.095944</td>\n",
       "      <td>-0.019954</td>\n",
       "      <td>0.398583</td>\n",
       "      <td>0.013681</td>\n",
       "      <td>1.000000</td>\n",
       "      <td>-0.034648</td>\n",
       "      <td>0.022232</td>\n",
       "      <td>-0.028860</td>\n",
       "      <td>-0.085077</td>\n",
       "    </tr>\n",
       "    <tr>\n",
       "      <th>iFrame</th>\n",
       "      <td>-0.004701</td>\n",
       "      <td>-0.008294</td>\n",
       "      <td>-0.039903</td>\n",
       "      <td>-0.039297</td>\n",
       "      <td>-0.012876</td>\n",
       "      <td>-0.004472</td>\n",
       "      <td>-0.062000</td>\n",
       "      <td>0.050594</td>\n",
       "      <td>0.103266</td>\n",
       "      <td>0.006990</td>\n",
       "      <td>-0.034648</td>\n",
       "      <td>1.000000</td>\n",
       "      <td>0.008369</td>\n",
       "      <td>0.617989</td>\n",
       "      <td>0.098446</td>\n",
       "    </tr>\n",
       "    <tr>\n",
       "      <th>Right_Click</th>\n",
       "      <td>0.001968</td>\n",
       "      <td>0.004025</td>\n",
       "      <td>0.030833</td>\n",
       "      <td>-0.002657</td>\n",
       "      <td>0.003096</td>\n",
       "      <td>0.000374</td>\n",
       "      <td>0.008339</td>\n",
       "      <td>-0.017527</td>\n",
       "      <td>0.008861</td>\n",
       "      <td>0.051495</td>\n",
       "      <td>0.022232</td>\n",
       "      <td>0.008369</td>\n",
       "      <td>1.000000</td>\n",
       "      <td>0.009080</td>\n",
       "      <td>-0.026467</td>\n",
       "    </tr>\n",
       "    <tr>\n",
       "      <th>Web_Forwards</th>\n",
       "      <td>-0.003487</td>\n",
       "      <td>-0.030246</td>\n",
       "      <td>-0.023651</td>\n",
       "      <td>-0.051248</td>\n",
       "      <td>-0.023193</td>\n",
       "      <td>-0.004852</td>\n",
       "      <td>-0.003508</td>\n",
       "      <td>0.030102</td>\n",
       "      <td>0.042050</td>\n",
       "      <td>0.073485</td>\n",
       "      <td>-0.028860</td>\n",
       "      <td>0.617989</td>\n",
       "      <td>0.009080</td>\n",
       "      <td>1.000000</td>\n",
       "      <td>-0.041376</td>\n",
       "    </tr>\n",
       "    <tr>\n",
       "      <th>label</th>\n",
       "      <td>0.074367</td>\n",
       "      <td>0.118419</td>\n",
       "      <td>-0.541287</td>\n",
       "      <td>-0.119707</td>\n",
       "      <td>0.002600</td>\n",
       "      <td>0.014144</td>\n",
       "      <td>0.072921</td>\n",
       "      <td>0.302705</td>\n",
       "      <td>0.015943</td>\n",
       "      <td>-0.108793</td>\n",
       "      <td>-0.085077</td>\n",
       "      <td>0.098446</td>\n",
       "      <td>-0.026467</td>\n",
       "      <td>-0.041376</td>\n",
       "      <td>1.000000</td>\n",
       "    </tr>\n",
       "  </tbody>\n",
       "</table>\n",
       "</div>"
      ],
      "text/plain": [
       "                Have_IP   Have_At  URL_Length  URL_Depth  Redirection  \\\n",
       "Have_IP        1.000000 -0.011308   -0.076021  -0.030466    -0.008700   \n",
       "Have_At       -0.011308  1.000000    0.067844   0.029944    -0.000297   \n",
       "URL_Length    -0.076021  0.067844    1.000000   0.439378     0.038482   \n",
       "URL_Depth     -0.030466  0.029944    0.439378   1.000000    -0.040189   \n",
       "Redirection   -0.008700 -0.000297    0.038482  -0.040189     1.000000   \n",
       "https_Domain  -0.001052 -0.002151    0.007656  -0.000478    -0.001655   \n",
       "Tiny_URL      -0.023430  0.067122   -0.005318   0.010980     0.026634   \n",
       "Prefix/Suffix -0.023841  0.018369   -0.146102  -0.114919    -0.025581   \n",
       "DNS_Record    -0.011425  0.025073   -0.019508  -0.086073    -0.027654   \n",
       "Web_Traffic    0.024279 -0.017002    0.063717   0.075315     0.018784   \n",
       "Domain_Age     0.047349 -0.017072    0.071029  -0.070101     0.012581   \n",
       "iFrame        -0.004701 -0.008294   -0.039903  -0.039297    -0.012876   \n",
       "Right_Click    0.001968  0.004025    0.030833  -0.002657     0.003096   \n",
       "Web_Forwards  -0.003487 -0.030246   -0.023651  -0.051248    -0.023193   \n",
       "label          0.074367  0.118419   -0.541287  -0.119707     0.002600   \n",
       "\n",
       "               https_Domain  Tiny_URL  Prefix/Suffix  DNS_Record  Web_Traffic  \\\n",
       "Have_IP           -0.001052 -0.023430      -0.023841   -0.011425     0.024279   \n",
       "Have_At           -0.002151  0.067122       0.018369    0.025073    -0.017002   \n",
       "URL_Length         0.007656 -0.005318      -0.146102   -0.019508     0.063717   \n",
       "URL_Depth         -0.000478  0.010980      -0.114919   -0.086073     0.075315   \n",
       "Redirection       -0.001655  0.026634      -0.025581   -0.027654     0.018784   \n",
       "https_Domain       1.000000 -0.004456      -0.004534    0.042243    -0.033112   \n",
       "Tiny_URL          -0.004456  1.000000       0.087421    0.059078     0.040888   \n",
       "Prefix/Suffix     -0.004534  0.087421       1.000000   -0.006793    -0.046843   \n",
       "DNS_Record         0.042243  0.059078      -0.006793    1.000000     0.065776   \n",
       "Web_Traffic       -0.033112  0.040888      -0.046843    0.065776     1.000000   \n",
       "Domain_Age         0.016837  0.095944      -0.019954    0.398583     0.013681   \n",
       "iFrame            -0.004472 -0.062000       0.050594    0.103266     0.006990   \n",
       "Right_Click        0.000374  0.008339      -0.017527    0.008861     0.051495   \n",
       "Web_Forwards      -0.004852 -0.003508       0.030102    0.042050     0.073485   \n",
       "label              0.014144  0.072921       0.302705    0.015943    -0.108793   \n",
       "\n",
       "               Domain_Age    iFrame  Right_Click  Web_Forwards     label  \n",
       "Have_IP          0.047349 -0.004701     0.001968     -0.003487  0.074367  \n",
       "Have_At         -0.017072 -0.008294     0.004025     -0.030246  0.118419  \n",
       "URL_Length       0.071029 -0.039903     0.030833     -0.023651 -0.541287  \n",
       "URL_Depth       -0.070101 -0.039297    -0.002657     -0.051248 -0.119707  \n",
       "Redirection      0.012581 -0.012876     0.003096     -0.023193  0.002600  \n",
       "https_Domain     0.016837 -0.004472     0.000374     -0.004852  0.014144  \n",
       "Tiny_URL         0.095944 -0.062000     0.008339     -0.003508  0.072921  \n",
       "Prefix/Suffix   -0.019954  0.050594    -0.017527      0.030102  0.302705  \n",
       "DNS_Record       0.398583  0.103266     0.008861      0.042050  0.015943  \n",
       "Web_Traffic      0.013681  0.006990     0.051495      0.073485 -0.108793  \n",
       "Domain_Age       1.000000 -0.034648     0.022232     -0.028860 -0.085077  \n",
       "iFrame          -0.034648  1.000000     0.008369      0.617989  0.098446  \n",
       "Right_Click      0.022232  0.008369     1.000000      0.009080 -0.026467  \n",
       "Web_Forwards    -0.028860  0.617989     0.009080      1.000000 -0.041376  \n",
       "label           -0.085077  0.098446    -0.026467     -0.041376  1.000000  "
      ]
     },
     "execution_count": 14,
     "metadata": {},
     "output_type": "execute_result"
    }
   ],
   "source": [
    "df_f.corr()"
   ]
  },
  {
   "cell_type": "code",
   "execution_count": 15,
   "id": "553730d8",
   "metadata": {},
   "outputs": [
    {
     "data": {
      "image/png": "[encoded data removed]",
      "text/plain": [
       "<Figure size 1080x3600 with 13 Axes>"
      ]
     },
     "metadata": {},
     "output_type": "display_data"
    }
   ],
   "source": [
    "plt.figure(figsize=(15,50),facecolor='white')\n",
    "plotnumber=1\n",
    "for column in df_f.drop(['label','Domain','URL_Depth'],axis=1):\n",
    "    ax=plt.subplot(12,3,plotnumber)\n",
    "    sns.violinplot(df_f=df_f,x=df_f[column],y=df_f[\"label\"])\n",
    "    plt.xlabel(column,fontsize=10)\n",
    "    plotnumber+=1\n",
    "plt.show()"
   ]
  },
  {
   "cell_type": "code",
   "execution_count": 16,
   "id": "273247e9",
   "metadata": {},
   "outputs": [
    {
     "data": {
      "image/png": "[encoded data removed]",
      "text/plain": [
       "<Figure size 1080x1080 with 2 Axes>"
      ]
     },
     "metadata": {
      "needs_background": "light"
     },
     "output_type": "display_data"
    }
   ],
   "source": [
    "# Generate correlation matrix\n",
    "corrmat = df_f.corr()\n",
    "top_corr_features = corrmat.index\n",
    "plt.figure(figsize=(15,15))\n",
    "#plot heat map\n",
    "g=sns.heatmap(df_f[top_corr_features].corr(),annot=True,cmap=\"RdYlGn\")\n",
    "# though very less clarity due to lot of filters"
   ]
  },
  {
   "cell_type": "code",
   "execution_count": 17,
   "id": "0c30b7ee",
   "metadata": {},
   "outputs": [
    {
     "name": "stdout",
     "output_type": "stream",
     "text": [
      "<class 'pandas.core.frame.DataFrame'>\n",
      "RangeIndex: 10000 entries, 0 to 9999\n",
      "Data columns (total 15 columns):\n",
      " #   Column         Non-Null Count  Dtype\n",
      "---  ------         --------------  -----\n",
      " 0   Have_IP        10000 non-null  int64\n",
      " 1   Have_At        10000 non-null  int64\n",
      " 2   URL_Length     10000 non-null  int64\n",
      " 3   URL_Depth      10000 non-null  int64\n",
      " 4   Redirection    10000 non-null  int64\n",
      " 5   https_Domain   10000 non-null  int64\n",
      " 6   Tiny_URL       10000 non-null  int64\n",
      " 7   Prefix/Suffix  10000 non-null  int64\n",
      " 8   DNS_Record     10000 non-null  int64\n",
      " 9   Web_Traffic    10000 non-null  int64\n",
      " 10  Domain_Age     10000 non-null  int64\n",
      " 11  iFrame         10000 non-null  int64\n",
      " 12  Right_Click    10000 non-null  int64\n",
      " 13  Web_Forwards   10000 non-null  int64\n",
      " 14  label          10000 non-null  int64\n",
      "dtypes: int64(15)\n",
      "memory usage: 1.1 MB\n"
     ]
    }
   ],
   "source": [
    "# Dropping Domain as this is categorical and doesn't have much influence on dataset\n",
    "df_final = df_f.drop(['Domain'], axis = 1).copy()\n",
    "df_final.info()"
   ]
  },
  {
   "cell_type": "code",
   "execution_count": 18,
   "id": "b26221bd",
   "metadata": {},
   "outputs": [
    {
     "name": "stdout",
     "output_type": "stream",
     "text": [
      "<class 'pandas.core.frame.DataFrame'>\n",
      "RangeIndex: 10000 entries, 0 to 9999\n",
      "Data columns (total 15 columns):\n",
      " #   Column         Non-Null Count  Dtype\n",
      "---  ------         --------------  -----\n",
      " 0   Have_IP        10000 non-null  int64\n",
      " 1   Have_At        10000 non-null  int64\n",
      " 2   URL_Length     10000 non-null  int64\n",
      " 3   URL_Depth      10000 non-null  int64\n",
      " 4   Redirection    10000 non-null  int64\n",
      " 5   https_Domain   10000 non-null  int64\n",
      " 6   Tiny_URL       10000 non-null  int64\n",
      " 7   Prefix/Suffix  10000 non-null  int64\n",
      " 8   DNS_Record     10000 non-null  int64\n",
      " 9   Web_Traffic    10000 non-null  int64\n",
      " 10  Domain_Age     10000 non-null  int64\n",
      " 11  iFrame         10000 non-null  int64\n",
      " 12  Right_Click    10000 non-null  int64\n",
      " 13  Web_Forwards   10000 non-null  int64\n",
      " 14  label          10000 non-null  int64\n",
      "dtypes: int64(15)\n",
      "memory usage: 1.1 MB\n",
      "None\n"
     ]
    }
   ],
   "source": [
    "# shuffling the rows in the dataset so that when splitting the train and test set are equally distributed (as we concatinated both phishing and legitimate datasets)\n",
    "df_final = df_final.sample(frac=1).reset_index(drop=True)\n",
    "df_final.head()\n",
    "print(df_final.info())"
   ]
  },
  {
   "cell_type": "markdown",
   "id": "ebc68472",
   "metadata": {},
   "source": [
    "## Splitting the data"
   ]
  },
  {
   "cell_type": "code",
   "execution_count": 19,
   "id": "aabc3b1c",
   "metadata": {},
   "outputs": [
    {
     "name": "stdout",
     "output_type": "stream",
     "text": [
      "Size of X data: (10000, 14)\n",
      "Size of Y data: (10000,)\n"
     ]
    }
   ],
   "source": [
    "# Sepratating & assigning features and target columns to X & y\n",
    "Y = df_final['label']\n",
    "X = df_final.drop('label',axis=1)\n",
    "print(\"Size of X data:\",X.shape)\n",
    "print(\"Size of Y data:\",Y.shape)"
   ]
  },
  {
   "cell_type": "code",
   "execution_count": 20,
   "id": "30f041fe",
   "metadata": {},
   "outputs": [],
   "source": [
    "from sklearn.model_selection import train_test_split"
   ]
  },
  {
   "cell_type": "code",
   "execution_count": 21,
   "id": "817f620d",
   "metadata": {},
   "outputs": [
    {
     "data": {
      "text/plain": [
       "((8000, 14), (2000, 14))"
      ]
     },
     "execution_count": 21,
     "metadata": {},
     "output_type": "execute_result"
    }
   ],
   "source": [
    "# Split dataset into 80% training and 20% testing\n",
    "X_train, X_test, Y_train, Y_test = train_test_split(X, Y, test_size = 0.2, random_state = 100)\n",
    "X_train.shape, X_test.shape"
   ]
  },
  {
   "cell_type": "code",
   "execution_count": 22,
   "id": "7ac69261",
   "metadata": {},
   "outputs": [],
   "source": [
    "# Creating holders to store the model performance results\n",
    "Mlmodel = []\n",
    "train_ac = []\n",
    "test_ac = []\n",
    "\n",
    "#function to call for storing the results\n",
    "def Modelresults(model,train,test):\n",
    "    Mlmodel.append(model)\n",
    "    train_ac.append(round(train, 3))\n",
    "    test_ac.append(round(test, 3))"
   ]
  },
  {
   "cell_type": "markdown",
   "id": "3cb30b10",
   "metadata": {},
   "source": [
    "## Hyperparameter Tuning      \n",
    "**Hyperparameter tuning is choosing a set of optimal hyperparameters for a learning algorithm and model arguement is choosing a set of optimal hyperparameters for a learning.**   \n",
    "**In simple words, these methods are used to trade off bias-variance which in turns avoids underfitting and overfitting.**  \n",
    "**Model parameters are learned from the data and hyperparameters are tuned to gte the best fit using search algorithms like Gridsearch,Randomsearch** \n"
   ]
  },
  {
   "cell_type": "markdown",
   "id": "37604c2c",
   "metadata": {},
   "source": [
    "## Logistic Regression with Randomized searchcv"
   ]
  },
  {
   "cell_type": "code",
   "execution_count": 23,
   "id": "83451993",
   "metadata": {},
   "outputs": [],
   "source": [
    "#import sklearn package\n",
    "from sklearn.model_selection import RandomizedSearchCV\n",
    "from sklearn.metrics import accuracy_score,precision_score,recall_score,f1_score, confusion_matrix, roc_curve,roc_auc_score, classification_report\n",
    "from sklearn.linear_model import LogisticRegression\n",
    "from scipy.stats import uniform\n",
    "from sklearn import metrics\n",
    "import time"
   ]
  },
  {
   "cell_type": "code",
   "execution_count": 24,
   "id": "df3964a9",
   "metadata": {},
   "outputs": [
    {
     "data": {
      "text/plain": [
       "RandomizedSearchCV(cv=3, estimator=LogisticRegression(solver='liblinear'),\n",
       "                   n_jobs=-1,\n",
       "                   param_distributions={'C': <scipy.stats._distn_infrastructure.rv_frozen object at 0x00000279C9D1A2B0>,\n",
       "                                        'max_iter': [150, 200, 250, 300, 350],\n",
       "                                        'penalty': ['l1', 'l2']},\n",
       "                   scoring='f1')"
      ]
     },
     "execution_count": 24,
     "metadata": {},
     "output_type": "execute_result"
    }
   ],
   "source": [
    "# Iniating a model\n",
    "logistic=LogisticRegression(solver=\"liblinear\")\n",
    "\n",
    "# Hyperparameters for randomizedsearch\n",
    "distributions=dict(penalty=['l1','l2'],C=uniform(loc=0,scale=4),max_iter=[150,200,250,300,350])\n",
    "\n",
    "random_lgs_acc=RandomizedSearchCV(logistic,distributions,scoring='f1',verbose=0,n_jobs=-1,cv=3)\n",
    "random_lgs_acc.fit(X_train,Y_train)\n"
   ]
  },
  {
   "cell_type": "code",
   "execution_count": 25,
   "id": "a8c9d899",
   "metadata": {},
   "outputs": [
    {
     "name": "stdout",
     "output_type": "stream",
     "text": [
      "Best Parameters :\n",
      " {'C': 3.880617561224783, 'max_iter': 350, 'penalty': 'l1'}\n",
      "Best Estimators :\n",
      " LogisticRegression(C=3.880617561224783, max_iter=350, penalty='l1',\n",
      "                   solver='liblinear')\n",
      "Best Score :\n",
      " 0.7629170981678932\n"
     ]
    }
   ],
   "source": [
    "# optimal parameters\n",
    "print(\"Best Parameters :\\n\",random_lgs_acc.best_params_)\n",
    "\n",
    "print(\"Best Estimators :\\n\",random_lgs_acc.best_estimator_)\n",
    "\n",
    "print(\"Best Score :\\n\",random_lgs_acc.best_score_)"
   ]
  },
  {
   "cell_type": "code",
   "execution_count": 26,
   "id": "a35ad3cf",
   "metadata": {},
   "outputs": [
    {
     "name": "stdout",
     "output_type": "stream",
     "text": [
      "Logistic regression: Training Accuracy : 0.798375\n",
      "Logistic regression: Testing Accuracy : 0.8085\n",
      "Precision Score:0.929676511954993\n",
      "Recall Score:0.6649899396378269\n",
      "F1 Score:0.7753665689149559\n"
     ]
    }
   ],
   "source": [
    "#predicting the target value from the model for the samples\n",
    "Y_test_lgs= random_lgs_acc.predict(X_test)\n",
    "Y_train_lgs=random_lgs_acc.predict(X_train)\n",
    "\n",
    "#computing the accuracy of the model performances\n",
    "train_acc = accuracy_score(Y_train,Y_train_lgs)\n",
    "test_acc = accuracy_score(Y_test,Y_test_lgs)\n",
    "\n",
    "# Metrics of the model\n",
    "print(\"Logistic regression: Training Accuracy :\",train_acc)\n",
    "print(\"Logistic regression: Testing Accuracy :\",test_acc)\n",
    "\n",
    "print('Precision Score:'+ str(precision_score(Y_test,Y_test_lgs)))\n",
    "print('Recall Score:'+ str(recall_score(Y_test, Y_test_lgs)))\n",
    "print('F1 Score:' + str(f1_score(Y_test,Y_test_lgs)))"
   ]
  },
  {
   "cell_type": "code",
   "execution_count": 27,
   "id": "2a6aa796",
   "metadata": {},
   "outputs": [
    {
     "data": {
      "text/html": [
       "<div>\n",
       "<style scoped>\n",
       "    .dataframe tbody tr th:only-of-type {\n",
       "        vertical-align: middle;\n",
       "    }\n",
       "\n",
       "    .dataframe tbody tr th {\n",
       "        vertical-align: top;\n",
       "    }\n",
       "\n",
       "    .dataframe thead th {\n",
       "        text-align: right;\n",
       "    }\n",
       "</style>\n",
       "<table border=\"1\" class=\"dataframe\">\n",
       "  <thead>\n",
       "    <tr style=\"text-align: right;\">\n",
       "      <th>Predicted</th>\n",
       "      <th>0</th>\n",
       "      <th>1</th>\n",
       "    </tr>\n",
       "    <tr>\n",
       "      <th>Actual</th>\n",
       "      <th></th>\n",
       "      <th></th>\n",
       "    </tr>\n",
       "  </thead>\n",
       "  <tbody>\n",
       "    <tr>\n",
       "      <th>0</th>\n",
       "      <td>956</td>\n",
       "      <td>50</td>\n",
       "    </tr>\n",
       "    <tr>\n",
       "      <th>1</th>\n",
       "      <td>333</td>\n",
       "      <td>661</td>\n",
       "    </tr>\n",
       "  </tbody>\n",
       "</table>\n",
       "</div>"
      ],
      "text/plain": [
       "Predicted    0    1\n",
       "Actual             \n",
       "0          956   50\n",
       "1          333  661"
      ]
     },
     "execution_count": 27,
     "metadata": {},
     "output_type": "execute_result"
    },
    {
     "data": {
      "image/png": "[encoded data removed]",
      "text/plain": [
       "<Figure size 432x288 with 2 Axes>"
      ]
     },
     "metadata": {
      "needs_background": "light"
     },
     "output_type": "display_data"
    }
   ],
   "source": [
    "confusion_matrix = pd.crosstab(Y_test, Y_test_lgs, rownames=['Actual'], colnames=['Predicted'])\n",
    "# Confusion Matrix\n",
    "sns.heatmap(confusion_matrix, annot=True)\n",
    "confusion_matrix"
   ]
  },
  {
   "cell_type": "markdown",
   "id": "bb04fcf1",
   "metadata": {},
   "source": [
    "# ROC"
   ]
  },
  {
   "cell_type": "code",
   "execution_count": 28,
   "id": "3ec061e2",
   "metadata": {},
   "outputs": [
    {
     "data": {
      "text/plain": [
       "0.8076440751867067"
      ]
     },
     "execution_count": 28,
     "metadata": {},
     "output_type": "execute_result"
    }
   ],
   "source": [
    "fpr, tpr, thresholds = roc_curve(Y_test, Y_test_lgs)\n",
    "# Area Under Curve\n",
    "auc = roc_auc_score(Y_test,Y_test_lgs)\n",
    "auc"
   ]
  },
  {
   "cell_type": "markdown",
   "id": "3713f8bc",
   "metadata": {},
   "source": [
    "### \n",
    "**AUC =0.807 i.e. 80.7% model can separate between classes**"
   ]
  },
  {
   "cell_type": "code",
   "execution_count": 29,
   "id": "8f0e78af",
   "metadata": {},
   "outputs": [
    {
     "data": {
      "image/png": "[encoded data removed]",
      "text/plain": [
       "<Figure size 432x288 with 1 Axes>"
      ]
     },
     "metadata": {
      "needs_background": "light"
     },
     "output_type": "display_data"
    }
   ],
   "source": [
    "#plot AUC-ROC Curve\n",
    "plt.plot(fpr, tpr, color='orange', label='ROC')\n",
    "plt.plot([0, 1], [0, 1], color='darkblue', linestyle='--',label='ROC curve (area = %0.2f)' % auc)\n",
    "plt.xlabel('False Positive Rate')\n",
    "plt.ylabel('True Positive Rate')\n",
    "plt.title('Receiver Operating Characteristic (ROC) Curve')\n",
    "plt.legend()\n",
    "plt.show()"
   ]
  },
  {
   "cell_type": "code",
   "execution_count": 30,
   "id": "9253af37",
   "metadata": {},
   "outputs": [],
   "source": [
    "#Storing the model results\n",
    "Modelresults('Logistic Regression',train_acc,test_acc)"
   ]
  },
  {
   "cell_type": "markdown",
   "id": "88242bfd",
   "metadata": {},
   "source": [
    "## KNN Classifier"
   ]
  },
  {
   "cell_type": "code",
   "execution_count": 31,
   "id": "42adce26",
   "metadata": {},
   "outputs": [],
   "source": [
    "from sklearn.preprocessing import StandardScaler\n",
    "scaler = StandardScaler()"
   ]
  },
  {
   "cell_type": "code",
   "execution_count": 32,
   "id": "54f3cadb",
   "metadata": {},
   "outputs": [
    {
     "data": {
      "text/plain": [
       "StandardScaler()"
      ]
     },
     "execution_count": 32,
     "metadata": {},
     "output_type": "execute_result"
    }
   ],
   "source": [
    "scaler.fit(df_final.drop('label',axis=1))"
   ]
  },
  {
   "cell_type": "code",
   "execution_count": 33,
   "id": "81d9c7e0",
   "metadata": {},
   "outputs": [],
   "source": [
    "scaled_features = scaler.transform(df_final.drop('label',axis=1))"
   ]
  },
  {
   "cell_type": "code",
   "execution_count": 34,
   "id": "3cdf8028",
   "metadata": {},
   "outputs": [
    {
     "data": {
      "text/html": [
       "<div>\n",
       "<style scoped>\n",
       "    .dataframe tbody tr th:only-of-type {\n",
       "        vertical-align: middle;\n",
       "    }\n",
       "\n",
       "    .dataframe tbody tr th {\n",
       "        vertical-align: top;\n",
       "    }\n",
       "\n",
       "    .dataframe thead th {\n",
       "        text-align: right;\n",
       "    }\n",
       "</style>\n",
       "<table border=\"1\" class=\"dataframe\">\n",
       "  <thead>\n",
       "    <tr style=\"text-align: right;\">\n",
       "      <th></th>\n",
       "      <th>Have_IP</th>\n",
       "      <th>Have_At</th>\n",
       "      <th>URL_Length</th>\n",
       "      <th>URL_Depth</th>\n",
       "      <th>Redirection</th>\n",
       "      <th>https_Domain</th>\n",
       "      <th>Tiny_URL</th>\n",
       "      <th>Prefix/Suffix</th>\n",
       "      <th>DNS_Record</th>\n",
       "      <th>Web_Traffic</th>\n",
       "      <th>Domain_Age</th>\n",
       "      <th>iFrame</th>\n",
       "      <th>Right_Click</th>\n",
       "      <th>Web_Forwards</th>\n",
       "    </tr>\n",
       "  </thead>\n",
       "  <tbody>\n",
       "    <tr>\n",
       "      <th>0</th>\n",
       "      <td>-0.074367</td>\n",
       "      <td>-0.152061</td>\n",
       "      <td>-1.847448</td>\n",
       "      <td>-1.443253</td>\n",
       "      <td>-0.116982</td>\n",
       "      <td>-0.014144</td>\n",
       "      <td>-0.315061</td>\n",
       "      <td>3.119233</td>\n",
       "      <td>-0.334813</td>\n",
       "      <td>0.427144</td>\n",
       "      <td>-0.840007</td>\n",
       "      <td>-0.316210</td>\n",
       "      <td>0.026467</td>\n",
       "      <td>-0.343064</td>\n",
       "    </tr>\n",
       "    <tr>\n",
       "      <th>1</th>\n",
       "      <td>-0.074367</td>\n",
       "      <td>-0.152061</td>\n",
       "      <td>0.541287</td>\n",
       "      <td>0.905792</td>\n",
       "      <td>-0.116982</td>\n",
       "      <td>-0.014144</td>\n",
       "      <td>-0.315061</td>\n",
       "      <td>-0.320592</td>\n",
       "      <td>-0.334813</td>\n",
       "      <td>0.427144</td>\n",
       "      <td>-0.840007</td>\n",
       "      <td>-0.316210</td>\n",
       "      <td>0.026467</td>\n",
       "      <td>-0.343064</td>\n",
       "    </tr>\n",
       "    <tr>\n",
       "      <th>2</th>\n",
       "      <td>-0.074367</td>\n",
       "      <td>-0.152061</td>\n",
       "      <td>0.541287</td>\n",
       "      <td>0.435983</td>\n",
       "      <td>-0.116982</td>\n",
       "      <td>-0.014144</td>\n",
       "      <td>3.173988</td>\n",
       "      <td>-0.320592</td>\n",
       "      <td>-0.334813</td>\n",
       "      <td>0.427144</td>\n",
       "      <td>1.190467</td>\n",
       "      <td>-0.316210</td>\n",
       "      <td>0.026467</td>\n",
       "      <td>-0.343064</td>\n",
       "    </tr>\n",
       "    <tr>\n",
       "      <th>3</th>\n",
       "      <td>-0.074367</td>\n",
       "      <td>-0.152061</td>\n",
       "      <td>0.541287</td>\n",
       "      <td>0.435983</td>\n",
       "      <td>-0.116982</td>\n",
       "      <td>-0.014144</td>\n",
       "      <td>-0.315061</td>\n",
       "      <td>-0.320592</td>\n",
       "      <td>-0.334813</td>\n",
       "      <td>0.427144</td>\n",
       "      <td>-0.840007</td>\n",
       "      <td>-0.316210</td>\n",
       "      <td>0.026467</td>\n",
       "      <td>-0.343064</td>\n",
       "    </tr>\n",
       "    <tr>\n",
       "      <th>4</th>\n",
       "      <td>-0.074367</td>\n",
       "      <td>-0.152061</td>\n",
       "      <td>0.541287</td>\n",
       "      <td>-0.973444</td>\n",
       "      <td>-0.116982</td>\n",
       "      <td>-0.014144</td>\n",
       "      <td>-0.315061</td>\n",
       "      <td>3.119233</td>\n",
       "      <td>-0.334813</td>\n",
       "      <td>0.427144</td>\n",
       "      <td>-0.840007</td>\n",
       "      <td>3.162452</td>\n",
       "      <td>0.026467</td>\n",
       "      <td>2.914906</td>\n",
       "    </tr>\n",
       "  </tbody>\n",
       "</table>\n",
       "</div>"
      ],
      "text/plain": [
       "    Have_IP   Have_At  URL_Length  URL_Depth  Redirection  https_Domain  \\\n",
       "0 -0.074367 -0.152061   -1.847448  -1.443253    -0.116982     -0.014144   \n",
       "1 -0.074367 -0.152061    0.541287   0.905792    -0.116982     -0.014144   \n",
       "2 -0.074367 -0.152061    0.541287   0.435983    -0.116982     -0.014144   \n",
       "3 -0.074367 -0.152061    0.541287   0.435983    -0.116982     -0.014144   \n",
       "4 -0.074367 -0.152061    0.541287  -0.973444    -0.116982     -0.014144   \n",
       "\n",
       "   Tiny_URL  Prefix/Suffix  DNS_Record  Web_Traffic  Domain_Age    iFrame  \\\n",
       "0 -0.315061       3.119233   -0.334813     0.427144   -0.840007 -0.316210   \n",
       "1 -0.315061      -0.320592   -0.334813     0.427144   -0.840007 -0.316210   \n",
       "2  3.173988      -0.320592   -0.334813     0.427144    1.190467 -0.316210   \n",
       "3 -0.315061      -0.320592   -0.334813     0.427144   -0.840007 -0.316210   \n",
       "4 -0.315061       3.119233   -0.334813     0.427144   -0.840007  3.162452   \n",
       "\n",
       "   Right_Click  Web_Forwards  \n",
       "0     0.026467     -0.343064  \n",
       "1     0.026467     -0.343064  \n",
       "2     0.026467     -0.343064  \n",
       "3     0.026467     -0.343064  \n",
       "4     0.026467      2.914906  "
      ]
     },
     "execution_count": 34,
     "metadata": {},
     "output_type": "execute_result"
    }
   ],
   "source": [
    "featurd = pd.DataFrame(scaled_features,columns=df_final.columns[:-1])\n",
    "featurd.head()"
   ]
  },
  {
   "cell_type": "code",
   "execution_count": 35,
   "id": "96c4661f",
   "metadata": {},
   "outputs": [
    {
     "data": {
      "text/plain": [
       "((8000, 14), (2000, 14), (8000,), (2000,))"
      ]
     },
     "execution_count": 35,
     "metadata": {},
     "output_type": "execute_result"
    }
   ],
   "source": [
    "from sklearn.model_selection import train_test_split\n",
    "X_train_scaled,X_test_scaled,Y_train_scaled,Y_test_scaled = train_test_split(scaled_features,df_final['label'],test_size=0.2)\n",
    "X_train_scaled.shape,X_test_scaled.shape,Y_train_scaled.shape,Y_test_scaled.shape"
   ]
  },
  {
   "cell_type": "code",
   "execution_count": 36,
   "id": "74df8f8a",
   "metadata": {},
   "outputs": [],
   "source": [
    "#importing modules\n",
    "from sklearn.model_selection import RandomizedSearchCV\n",
    "from sklearn.neighbors import KNeighborsClassifier\n",
    "\n",
    "#making the instance\n",
    "KNN_ml = KNeighborsClassifier(n_jobs=-1)  #njobs=-1, number of parallel jobs to run for neighbours search using all processors\n",
    "\n",
    "#Hyper Parameters Set\n",
    "knn_para = {'n_neighbors':[1,2,3,4,5], # number of neighbors to use ,deafult value is 5\n",
    "          'leaf_size':[1,2,3,5],\n",
    "          'weights':['uniform', 'distance'],\n",
    "          'algorithm':['auto', 'ball_tree','kd_tree','brute'],\n",
    "          'n_jobs':[-1]}"
   ]
  },
  {
   "cell_type": "code",
   "execution_count": 37,
   "id": "e501d1ff",
   "metadata": {},
   "outputs": [
    {
     "name": "stdout",
     "output_type": "stream",
     "text": [
      "Best Parameters :\n",
      " {'weights': 'distance', 'n_neighbors': 4, 'n_jobs': -1, 'leaf_size': 3, 'algorithm': 'kd_tree'}\n",
      "Best Estimators :\n",
      " KNeighborsClassifier(algorithm='kd_tree', leaf_size=3, n_jobs=-1, n_neighbors=4,\n",
      "                     weights='distance')\n"
     ]
    }
   ],
   "source": [
    "#Making models with hyper parameters sets\n",
    "rand_knn_ml = RandomizedSearchCV(estimator=KNN_ml, param_distributions=knn_para, n_jobs=1)\n",
    "\n",
    "# Training the model\n",
    "rand_knn_ml.fit(X_train_scaled,Y_train_scaled)\n",
    "\n",
    "#The best hyper parameters set\n",
    "print(\"Best Parameters :\\n\",rand_knn_ml.best_params_)\n",
    "print(\"Best Estimators :\\n\",rand_knn_ml.best_estimator_)"
   ]
  },
  {
   "cell_type": "code",
   "execution_count": 38,
   "id": "6e1060b3",
   "metadata": {},
   "outputs": [
    {
     "name": "stdout",
     "output_type": "stream",
     "text": [
      "Confusion Metrix:\n",
      " [[588 418]\n",
      " [607 387]]\n",
      "\n",
      "\n",
      "Traiining Accuracy Score:0.83825\n",
      "Testing Accuracy Score:0.8135\n",
      "Precision Score:0.48074534161490684\n",
      "Recall Score:0.3893360160965795\n",
      "F1 Score:0.4302390216787104\n"
     ]
    }
   ],
   "source": [
    "# Model Prediction\n",
    "Knn_test_pred=rand_knn_ml.best_estimator_.predict(X_test_scaled)\n",
    "Knn_train_pred=rand_knn_ml.predict(X_train_scaled)\n",
    "\n",
    "# Accuracy of the model\n",
    "knn_train_acc = accuracy_score(Y_train_scaled,Knn_train_pred)\n",
    "knn_test_acc = accuracy_score(Y_test_scaled,Knn_test_pred)\n",
    "\n",
    "# Confusion Matrix\n",
    "print(\"Confusion Metrix:\\n\",metrics.confusion_matrix(Y_test,Knn_test_pred,))\n",
    "print(\"\\n\")\n",
    "\n",
    "#Metric of the model\n",
    "print('Traiining Accuracy Score:' + str(knn_train_acc))\n",
    "print('Testing Accuracy Score:' + str(knn_test_acc))\n",
    "print('Precision Score:'+ str(precision_score(Y_test,Knn_test_pred)))\n",
    "print('Recall Score:'+ str(recall_score(Y_test, Knn_test_pred)))\n",
    "print('F1 Score:' + str(f1_score(Y_test,Knn_test_pred)))"
   ]
  },
  {
   "cell_type": "code",
   "execution_count": 39,
   "id": "01221d57",
   "metadata": {},
   "outputs": [],
   "source": [
    "#storing the results.\n",
    "Modelresults('KNN', knn_train_acc,knn_test_acc)"
   ]
  },
  {
   "cell_type": "code",
   "execution_count": 40,
   "id": "bb8951b5",
   "metadata": {},
   "outputs": [
    {
     "data": {
      "text/plain": [
       "0.8147153190059369"
      ]
     },
     "execution_count": 40,
     "metadata": {},
     "output_type": "execute_result"
    }
   ],
   "source": [
    "fpr, tpr, thresholds = roc_curve(Y_test_scaled, Knn_test_pred)\n",
    "\n",
    "# Area Under Curve\n",
    "auc = roc_auc_score(Y_test_scaled, Knn_test_pred)\n",
    "auc"
   ]
  },
  {
   "cell_type": "code",
   "execution_count": 41,
   "id": "380c1238",
   "metadata": {},
   "outputs": [
    {
     "data": {
      "image/png": "[encoded data removed]",
      "text/plain": [
       "<Figure size 432x288 with 1 Axes>"
      ]
     },
     "metadata": {
      "needs_background": "light"
     },
     "output_type": "display_data"
    }
   ],
   "source": [
    "plt.plot(fpr, tpr, color='orange', label='ROC')\n",
    "plt.plot([0, 1], [0, 1], color='darkblue', linestyle='--',label='ROC curve (area = %0.2f)' % auc)\n",
    "plt.xlabel('False Positive Rate')\n",
    "plt.ylabel('True Positive Rate')\n",
    "plt.title('Receiver Operating Characteristic (ROC) Curve')\n",
    "plt.legend()\n",
    "plt.show()"
   ]
  },
  {
   "cell_type": "markdown",
   "id": "33c38f93",
   "metadata": {},
   "source": [
    "### **AUC=0.814 i.e model has a probability of 81.4 % separating the classes**"
   ]
  },
  {
   "cell_type": "markdown",
   "id": "aa285934",
   "metadata": {},
   "source": [
    "     "
   ]
  },
  {
   "cell_type": "markdown",
   "id": "2d484aa9",
   "metadata": {},
   "source": [
    "## SVM"
   ]
  },
  {
   "cell_type": "code",
   "execution_count": 42,
   "id": "8c128f61",
   "metadata": {},
   "outputs": [],
   "source": [
    "# Feature Scaling(Standardization\n",
    "# for example the standard score of sample x is X-U/S  (U is mean and S is standard deviation)\n",
    "from sklearn.preprocessing import StandardScaler\n",
    "scaler = StandardScaler()"
   ]
  },
  {
   "cell_type": "code",
   "execution_count": 43,
   "id": "d46666f5",
   "metadata": {},
   "outputs": [
    {
     "data": {
      "text/plain": [
       "((8000, 14), (2000, 14))"
      ]
     },
     "execution_count": 43,
     "metadata": {},
     "output_type": "execute_result"
    }
   ],
   "source": [
    "X_train_scaled=scaler.fit_transform(X_train)\n",
    "X_test_scaled=scaler.transform(X_test)\n",
    "\n",
    "X_train_scaled.shape,X_test_scaled.shape"
   ]
  },
  {
   "cell_type": "code",
   "execution_count": 44,
   "id": "6f27c263",
   "metadata": {},
   "outputs": [],
   "source": [
    "from sklearn.model_selection import RandomizedSearchCV\n",
    "from scipy.stats import reciprocal, uniform\n",
    "from sklearn.svm import SVC\n",
    "from sklearn.metrics import make_scorer, roc_auc_score"
   ]
  },
  {
   "cell_type": "code",
   "execution_count": 45,
   "id": "bba30899",
   "metadata": {
    "scrolled": true
   },
   "outputs": [
    {
     "name": "stdout",
     "output_type": "stream",
     "text": [
      "Fitting 5 folds for each of 5 candidates, totalling 25 fits\n",
      "[CV] END ...C=5.326678759706911, gamma=0.0014762135302757522; total time=  20.5s\n",
      "[CV] END ...C=5.326678759706911, gamma=0.0014762135302757522; total time=  20.7s\n",
      "[CV] END ...C=5.326678759706911, gamma=0.0014762135302757522; total time=  21.6s\n",
      "[CV] END ...C=5.326678759706911, gamma=0.0014762135302757522; total time=  24.9s\n",
      "[CV] END ...C=5.326678759706911, gamma=0.0014762135302757522; total time=  24.0s\n",
      "[CV] END ...C=10.441341526571799, gamma=0.008812398040976863; total time=  24.9s\n",
      "[CV] END ...C=10.441341526571799, gamma=0.008812398040976863; total time=  22.1s\n",
      "[CV] END ...C=10.441341526571799, gamma=0.008812398040976863; total time=  23.8s\n",
      "[CV] END ...C=10.441341526571799, gamma=0.008812398040976863; total time=  23.0s\n",
      "[CV] END ...C=10.441341526571799, gamma=0.008812398040976863; total time=  24.8s\n",
      "[CV] END ....C=8.780754906636698, gamma=0.007765365203637504; total time=  23.9s\n",
      "[CV] END ....C=8.780754906636698, gamma=0.007765365203637504; total time=  21.2s\n",
      "[CV] END ....C=8.780754906636698, gamma=0.007765365203637504; total time=  23.5s\n",
      "[CV] END ....C=8.780754906636698, gamma=0.007765365203637504; total time=  22.2s\n",
      "[CV] END ....C=8.780754906636698, gamma=0.007765365203637504; total time=  22.7s\n",
      "[CV] END ...C=3.8119261601285173, gamma=0.002758281030971861; total time=  20.7s\n",
      "[CV] END ...C=3.8119261601285173, gamma=0.002758281030971861; total time=  22.0s\n",
      "[CV] END ...C=3.8119261601285173, gamma=0.002758281030971861; total time=  20.9s\n",
      "[CV] END ...C=3.8119261601285173, gamma=0.002758281030971861; total time=  22.3s\n",
      "[CV] END ...C=3.8119261601285173, gamma=0.002758281030971861; total time=  19.2s\n",
      "[CV] END ..C=10.397595622306635, gamma=0.0012317128345112457; total time=  19.6s\n",
      "[CV] END ..C=10.397595622306635, gamma=0.0012317128345112457; total time=  19.8s\n",
      "[CV] END ..C=10.397595622306635, gamma=0.0012317128345112457; total time=  21.1s\n",
      "[CV] END ..C=10.397595622306635, gamma=0.0012317128345112457; total time=  19.0s\n",
      "[CV] END ..C=10.397595622306635, gamma=0.0012317128345112457; total time=  18.9s\n"
     ]
    },
    {
     "data": {
      "text/plain": [
       "RandomizedSearchCV(cv=5, estimator=SVC(probability=True, random_state=1),\n",
       "                   n_iter=5,\n",
       "                   param_distributions={'C': <scipy.stats._distn_infrastructure.rv_frozen object at 0x00000279C999AC70>,\n",
       "                                        'gamma': <scipy.stats._distn_infrastructure.rv_frozen object at 0x00000279C9EC0790>},\n",
       "                   verbose=2)"
      ]
     },
     "execution_count": 45,
     "metadata": {},
     "output_type": "execute_result"
    }
   ],
   "source": [
    "## DEFINE MODEL AND PERFORMANCE MEASURE\n",
    "Svm_clf = SVC(probability = True, random_state = 1,gamma=\"scale\")\n",
    "\n",
    "#  hyperparameters to tune the model\n",
    "svm_params = {\"gamma\": reciprocal(0.001, 0.1), \"C\": uniform(1, 10)}\n",
    "\n",
    "#Identify the best model to fit the data\n",
    "rand_svm= RandomizedSearchCV(Svm_clf, svm_params, n_iter=5, verbose=2, cv=5)\n",
    "rand_svm.fit(X_train_scaled[:10000], Y_train[:10000])"
   ]
  },
  {
   "cell_type": "code",
   "execution_count": 46,
   "id": "2dc51e7d",
   "metadata": {},
   "outputs": [
    {
     "name": "stdout",
     "output_type": "stream",
     "text": [
      "Best estimators ;\n",
      " SVC(C=10.441341526571799, gamma=0.008812398040976863, probability=True,\n",
      "    random_state=1)\n",
      "Best parameters :\n",
      " {'C': 10.441341526571799, 'gamma': 0.008812398040976863}\n"
     ]
    }
   ],
   "source": [
    "print(\"Best estimators ;\\n\",rand_svm.best_estimator_)\n",
    "print(\"Best parameters :\\n\",rand_svm.best_params_)"
   ]
  },
  {
   "cell_type": "code",
   "execution_count": 47,
   "id": "bd0b7497",
   "metadata": {},
   "outputs": [
    {
     "name": "stdout",
     "output_type": "stream",
     "text": [
      "Training Accuracy Score:0.828375\n",
      "Testing Accuracy Score:0.8335\n",
      "Precision Score:0.9687943262411347\n",
      "Recall Score:0.6871227364185111\n",
      "F1 Score:0.8040023543260743\n"
     ]
    }
   ],
   "source": [
    "# Evaluating Model Performance\n",
    "Svm_test_pred = rand_svm.best_estimator_.predict(X_test_scaled)\n",
    "Svm_train_pred = rand_svm.best_estimator_.predict(X_train_scaled)\n",
    "\n",
    "#Accuracy of the model\n",
    "Svm_test_acc=accuracy_score(Y_test, Svm_test_pred)\n",
    "Svm_train_acc=accuracy_score(Y_train, Svm_train_pred)\n",
    "\n",
    "# Metrics of the Model\n",
    "print('Training Accuracy Score:' + str(Svm_train_acc))\n",
    "print('Testing Accuracy Score:' + str(Svm_test_acc))\n",
    "print('Precision Score:'+ str(precision_score(Y_test,Svm_test_pred)))\n",
    "print('Recall Score:'+ str(recall_score(Y_test,Svm_test_pred)))\n",
    "print('F1 Score:' + str(f1_score(Y_test,Svm_test_pred)))\n"
   ]
  },
  {
   "cell_type": "code",
   "execution_count": 48,
   "id": "4d9bec7f",
   "metadata": {},
   "outputs": [],
   "source": [
    "#storing the results\n",
    "Modelresults('SVM',Svm_train_acc,Svm_test_acc)"
   ]
  },
  {
   "cell_type": "code",
   "execution_count": 49,
   "id": "b6354dae",
   "metadata": {},
   "outputs": [
    {
     "data": {
      "text/plain": [
       "0.8326269745710846"
      ]
     },
     "execution_count": 49,
     "metadata": {},
     "output_type": "execute_result"
    }
   ],
   "source": [
    "fpr, tpr, thresholds = roc_curve(Y_test, Svm_test_pred)\n",
    "\n",
    "# Area Under Curve\n",
    "auc = roc_auc_score(Y_test, Svm_test_pred)\n",
    "auc"
   ]
  },
  {
   "cell_type": "markdown",
   "id": "2eec42d3",
   "metadata": {},
   "source": [
    "### **AUC=0.832,Model has 83.2 % probability for separating classes**"
   ]
  },
  {
   "cell_type": "code",
   "execution_count": 50,
   "id": "2cff52e9",
   "metadata": {},
   "outputs": [
    {
     "data": {
      "image/png": "[encoded data removed]",
      "text/plain": [
       "<Figure size 432x288 with 1 Axes>"
      ]
     },
     "metadata": {
      "needs_background": "light"
     },
     "output_type": "display_data"
    }
   ],
   "source": [
    "plt.plot(fpr, tpr, color='orange', label='ROC')\n",
    "plt.plot([0, 1], [0, 1], color='darkblue', linestyle='--',label='ROC curve (area = %0.2f)' % auc)\n",
    "plt.xlabel('False Positive Rate')\n",
    "plt.ylabel('True Positive Rate')\n",
    "plt.title('Receiver Operating Characteristic (ROC) Curve')\n",
    "plt.legend()\n",
    "plt.show()"
   ]
  },
  {
   "cell_type": "markdown",
   "id": "275b88f0",
   "metadata": {},
   "source": [
    "### Decision Tree"
   ]
  },
  {
   "cell_type": "code",
   "execution_count": 51,
   "id": "f23122b4",
   "metadata": {},
   "outputs": [],
   "source": [
    "from scipy.stats import randint\n",
    "from sklearn.tree import DecisionTreeClassifier\n",
    "from sklearn.model_selection import RandomizedSearchCV"
   ]
  },
  {
   "cell_type": "code",
   "execution_count": 52,
   "id": "21507969",
   "metadata": {},
   "outputs": [],
   "source": [
    "# Feature Scaling(Standardization)\n",
    "from sklearn.preprocessing import StandardScaler\n",
    "sc = StandardScaler()"
   ]
  },
  {
   "cell_type": "code",
   "execution_count": 53,
   "id": "f98f2a93",
   "metadata": {},
   "outputs": [
    {
     "data": {
      "text/plain": [
       "(8000, 14)"
      ]
     },
     "execution_count": 53,
     "metadata": {},
     "output_type": "execute_result"
    }
   ],
   "source": [
    "X_train_scaled=sc.fit_transform(X_train)\n",
    "X_test_scaled=sc.transform(X_test)\n",
    "X_train_scaled.shape"
   ]
  },
  {
   "cell_type": "code",
   "execution_count": 54,
   "id": "29c63bc9",
   "metadata": {},
   "outputs": [],
   "source": [
    "#Iniating a tree\n",
    "tree = DecisionTreeClassifier()"
   ]
  },
  {
   "cell_type": "code",
   "execution_count": 55,
   "id": "f1ce676a",
   "metadata": {},
   "outputs": [],
   "source": [
    "#Hyperparameter tunning : Creating parameters\n",
    "param_dict = {\"max_depth\":(3,5,7,9,10,15,20,25), \n",
    "              \"min_samples_leaf\":[2], \n",
    "              'max_features' : ('auto', 'sqrt', 'log2'),\n",
    "              'min_samples_split' : (2,4,6),\n",
    "              \"criterion\":[\"gini\",\"entropy\"]}"
   ]
  },
  {
   "cell_type": "code",
   "execution_count": 56,
   "id": "86d166db",
   "metadata": {},
   "outputs": [
    {
     "data": {
      "text/plain": [
       "RandomizedSearchCV(cv=3, estimator=DecisionTreeClassifier(),\n",
       "                   param_distributions={'criterion': ['gini', 'entropy'],\n",
       "                                        'max_depth': (3, 5, 7, 9, 10, 15, 20,\n",
       "                                                      25),\n",
       "                                        'max_features': ('auto', 'sqrt',\n",
       "                                                         'log2'),\n",
       "                                        'min_samples_leaf': [2],\n",
       "                                        'min_samples_split': (2, 4, 6)})"
      ]
     },
     "execution_count": 56,
     "metadata": {},
     "output_type": "execute_result"
    }
   ],
   "source": [
    "# RandomizedSearchCV for decision tree\n",
    "rand_tree= RandomizedSearchCV(estimator=tree,param_distributions=param_dict, cv=3) # cv=3 specified the number of folds\n",
    "\n",
    "rand_tree.fit(X_train_scaled,Y_train)"
   ]
  },
  {
   "cell_type": "code",
   "execution_count": 57,
   "id": "a9449c6b",
   "metadata": {},
   "outputs": [
    {
     "name": "stdout",
     "output_type": "stream",
     "text": [
      "Best Parameters : {'min_samples_split': 2, 'min_samples_leaf': 2, 'max_features': 'auto', 'max_depth': 15, 'criterion': 'entropy'}\n",
      "Best Score : 0.8339994634954202\n"
     ]
    }
   ],
   "source": [
    "print(\"Best Parameters :\",rand_tree.best_params_)\n",
    "print(\"Best Score :\",rand_tree.best_score_)"
   ]
  },
  {
   "cell_type": "code",
   "execution_count": 58,
   "id": "0db11439",
   "metadata": {},
   "outputs": [],
   "source": [
    "from sklearn.metrics import confusion_matrix,accuracy_score,classification_report"
   ]
  },
  {
   "cell_type": "code",
   "execution_count": 59,
   "id": "bfc7b06a",
   "metadata": {},
   "outputs": [
    {
     "name": "stdout",
     "output_type": "stream",
     "text": [
      "Training Accuracy Score:0.844125\n",
      "Testing Accuracy Score:0.8445\n",
      "Precision Score:0.9440832249674902\n",
      "Recall Score:0.7303822937625755\n",
      "F1 Score:0.8235961429381735\n",
      "\n",
      "\n",
      "Classification report\n",
      "               precision    recall  f1-score   support\n",
      "\n",
      "           0       0.78      0.96      0.86      1006\n",
      "           1       0.94      0.73      0.82       994\n",
      "\n",
      "    accuracy                           0.84      2000\n",
      "   macro avg       0.86      0.84      0.84      2000\n",
      "weighted avg       0.86      0.84      0.84      2000\n",
      "\n"
     ]
    }
   ],
   "source": [
    "# Predicting the model\n",
    "Dctree_test_pred= rand_tree.predict(X_test_scaled)\n",
    "Dctree_train_pred=rand_tree.predict(X_train_scaled)\n",
    "\n",
    "# Accuracy of the Model\n",
    "dt_train_acc=accuracy_score(Y_train,Dctree_train_pred)\n",
    "dt_test_acc=accuracy_score(Y_test,Dctree_test_pred)\n",
    "\n",
    "print('Training Accuracy Score:' + str(dt_train_acc))\n",
    "print('Testing Accuracy Score:' + str(dt_test_acc))\n",
    "\n",
    "print('Precision Score:'+ str(precision_score(Y_test,Dctree_test_pred)))\n",
    "print('Recall Score:'+ str(recall_score(Y_test, Dctree_test_pred)))\n",
    "print('F1 Score:' + str(f1_score(Y_test,Dctree_test_pred)))\n",
    "\n",
    "print(\"\\n\")\n",
    "print(\"Classification report\\n\",classification_report(Y_test,Dctree_test_pred))\n"
   ]
  },
  {
   "cell_type": "code",
   "execution_count": 60,
   "id": "44aeeb4c",
   "metadata": {},
   "outputs": [],
   "source": [
    "#storing the results\n",
    "Modelresults('Decision Tree', dt_train_acc, dt_test_acc)"
   ]
  },
  {
   "cell_type": "code",
   "execution_count": 61,
   "id": "5b1e7852",
   "metadata": {},
   "outputs": [
    {
     "data": {
      "text/plain": [
       "0.84381937749759"
      ]
     },
     "execution_count": 61,
     "metadata": {},
     "output_type": "execute_result"
    }
   ],
   "source": [
    "fpr, tpr, thresholds = roc_curve(Y_test, Dctree_test_pred)\n",
    "\n",
    "# Area Under Curve\n",
    "auc = roc_auc_score(Y_test, Dctree_test_pred)\n",
    "auc"
   ]
  },
  {
   "cell_type": "code",
   "execution_count": 62,
   "id": "9fb9335c",
   "metadata": {},
   "outputs": [
    {
     "data": {
      "image/png": "[encoded data removed]",
      "text/plain": [
       "<Figure size 432x288 with 1 Axes>"
      ]
     },
     "metadata": {
      "needs_background": "light"
     },
     "output_type": "display_data"
    }
   ],
   "source": [
    "plt.plot(fpr, tpr, color='orange', label='ROC')\n",
    "plt.plot([0, 1], [0, 1], color='darkblue', linestyle='--',label='ROC curve (area = %0.2f)' % auc)\n",
    "plt.xlabel('False Positive Rate')\n",
    "plt.ylabel('True Positive Rate')\n",
    "plt.title('Receiver Operating Characteristic (ROC) Curve')\n",
    "plt.legend()\n",
    "plt.show()"
   ]
  },
  {
   "cell_type": "markdown",
   "id": "632993e8",
   "metadata": {},
   "source": [
    "### **AUC=0.843 i.e model has probability of 84.3 to separate the classes**"
   ]
  },
  {
   "cell_type": "code",
   "execution_count": 63,
   "id": "b291897c",
   "metadata": {},
   "outputs": [
    {
     "data": {
      "text/plain": [
       "Text(0, 0.5, 'Feature Importance Score')"
      ]
     },
     "execution_count": 63,
     "metadata": {},
     "output_type": "execute_result"
    },
    {
     "data": {
      "image/png": "[encoded data removed]",
      "text/plain": [
       "<Figure size 1440x360 with 1 Axes>"
      ]
     },
     "metadata": {
      "needs_background": "light"
     },
     "output_type": "display_data"
    }
   ],
   "source": [
    "#Feature importance for top 100 predictors\n",
    "predictors = [x for x in X_train.columns]\n",
    "feat_imp = pd.Series(rand_tree.best_estimator_.feature_importances_, predictors).sort_values(ascending=False)\n",
    "feat_imp = feat_imp[0:100]\n",
    "plt.rcParams['figure.figsize'] = 20, 5\n",
    "feat_imp.plot(kind='bar', title='Feature Importance')\n",
    "plt.ylabel('Feature Importance Score')"
   ]
  },
  {
   "cell_type": "markdown",
   "id": "f7e3ed18",
   "metadata": {},
   "source": [
    "## Random Forest"
   ]
  },
  {
   "cell_type": "code",
   "execution_count": 64,
   "id": "c5d17242",
   "metadata": {},
   "outputs": [],
   "source": [
    "# Random Forest model\n",
    "from sklearn.ensemble import RandomForestClassifier\n",
    "from sklearn.model_selection import RandomizedSearchCV"
   ]
  },
  {
   "cell_type": "code",
   "execution_count": 65,
   "id": "62fd4cce",
   "metadata": {},
   "outputs": [
    {
     "name": "stdout",
     "output_type": "stream",
     "text": [
      "{'n_estimators': [200, 400, 600, 800, 1000, 1200, 1400, 1600, 1800], 'max_features': ['auto', 'sqrt'], 'max_depth': [10, 20, 30, 40, 50, 60, 70, 80, 90, 100, 110, None], 'min_samples_split': [2, 5, 10], 'min_samples_leaf': [1, 2, 4], 'bootstrap': [True, False]}\n"
     ]
    }
   ],
   "source": [
    "# No of trees in random forest\n",
    "n_estimators = [int(x) for x in range(200,2000,200)]\n",
    "\n",
    "# No of features to consider at every split\n",
    "max_features = ['auto', 'sqrt']\n",
    "\n",
    "# Maximum number of levels in tree\n",
    "max_depth = [int(x) for x in np.linspace(10, 110, num = 11)]\n",
    "max_depth.append(None)\n",
    "\n",
    "# Minimum number of samples required to split a node\n",
    "min_samples_split = [2, 5, 10]\n",
    "\n",
    "# Minimum number of samples required at each leaf node\n",
    "min_samples_leaf = [1, 2, 4]\n",
    "\n",
    "# Method of selecting samples for training each tree\n",
    "bootstrap = [True, False]\n",
    "\n",
    "# Create the random grid\n",
    "random_para = {'n_estimators': n_estimators,\n",
    "               'max_features': max_features,\n",
    "               'max_depth': max_depth,\n",
    "               'min_samples_split': min_samples_split,\n",
    "               'min_samples_leaf': min_samples_leaf,\n",
    "               'bootstrap': bootstrap}\n",
    "print(random_para)"
   ]
  },
  {
   "cell_type": "code",
   "execution_count": 66,
   "id": "7968a4ce",
   "metadata": {},
   "outputs": [
    {
     "name": "stdout",
     "output_type": "stream",
     "text": [
      "Fitting 3 folds for each of 100 candidates, totalling 300 fits\n"
     ]
    },
    {
     "data": {
      "text/plain": [
       "RandomizedSearchCV(cv=3, estimator=RandomForestClassifier(), n_iter=100,\n",
       "                   n_jobs=-1,\n",
       "                   param_distributions={'bootstrap': [True, False],\n",
       "                                        'max_depth': [10, 20, 30, 40, 50, 60,\n",
       "                                                      70, 80, 90, 100, 110,\n",
       "                                                      None],\n",
       "                                        'max_features': ['auto', 'sqrt'],\n",
       "                                        'min_samples_leaf': [1, 2, 4],\n",
       "                                        'min_samples_split': [2, 5, 10],\n",
       "                                        'n_estimators': [200, 400, 600, 800,\n",
       "                                                         1000, 1200, 1400, 1600,\n",
       "                                                         1800]},\n",
       "                   random_state=42, verbose=2)"
      ]
     },
     "execution_count": 66,
     "metadata": {},
     "output_type": "execute_result"
    }
   ],
   "source": [
    "# Creating a model to tune with help of best hyperparameters with the help of randomgrid search\n",
    "Rforest = RandomForestClassifier()\n",
    "\n",
    "# Random search of parameters, using 3 fold cross validation across 20 different combinations, and use all available cores\n",
    "random_rforest = RandomizedSearchCV(estimator = Rforest, param_distributions = random_para, n_iter = 100, cv = 3, verbose=2, random_state=42, n_jobs = -1)\n",
    "\n",
    "# Fit the random search model\n",
    "random_rforest.fit(X_train, Y_train)"
   ]
  },
  {
   "cell_type": "code",
   "execution_count": 67,
   "id": "c262f310",
   "metadata": {},
   "outputs": [
    {
     "name": "stdout",
     "output_type": "stream",
     "text": [
      "Best Parameters : {'n_estimators': 1600, 'min_samples_split': 5, 'min_samples_leaf': 1, 'max_features': 'auto', 'max_depth': 100, 'bootstrap': True}\n",
      "Best score : 0.8437492762766995\n"
     ]
    }
   ],
   "source": [
    "print(\"Best Parameters :\",random_rforest.best_params_)\n",
    "print(\"Best score :\",random_rforest.best_score_)"
   ]
  },
  {
   "cell_type": "code",
   "execution_count": 68,
   "id": "275a2248",
   "metadata": {},
   "outputs": [
    {
     "name": "stdout",
     "output_type": "stream",
     "text": [
      "Train Accuracy Score:0.850125\n",
      "Test Accuracy Score:0.848\n",
      "Precision Score:0.9323308270676691\n",
      "Recall Score:0.7484909456740443\n",
      "F1 Score:0.8303571428571428\n",
      "\n",
      "\n",
      "Classification Report :\n",
      "               precision    recall  f1-score   support\n",
      "\n",
      "           0       0.79      0.95      0.86      1006\n",
      "           1       0.93      0.75      0.83       994\n",
      "\n",
      "    accuracy                           0.85      2000\n",
      "   macro avg       0.86      0.85      0.85      2000\n",
      "weighted avg       0.86      0.85      0.85      2000\n",
      "\n"
     ]
    }
   ],
   "source": [
    "# Model Evaluation\n",
    "Rf_test_pred = random_rforest.predict(X_test)\n",
    "Rf_train_pred = random_rforest.predict(X_train)\n",
    "\n",
    "#Accuracy of the model\n",
    "Rf_test_acc= accuracy_score(Y_test,Rf_test_pred)\n",
    "Rf_train_acc = accuracy_score(Y_train,Rf_train_pred)\n",
    "\n",
    "# Metric of the model\n",
    "print('Train Accuracy Score:' + str(Rf_train_acc))\n",
    "print('Test Accuracy Score:' + str(Rf_test_acc))\n",
    "print('Precision Score:'+ str(precision_score(Y_test,Rf_test_pred)))\n",
    "print('Recall Score:'+ str(recall_score(Y_test, Rf_test_pred)))\n",
    "print('F1 Score:' + str(f1_score(Y_test,Rf_test_pred)))\n",
    "print(\"\\n\")\n",
    "print(\"Classification Report :\\n\",classification_report(Y_test,Rf_test_pred))"
   ]
  },
  {
   "cell_type": "code",
   "execution_count": 69,
   "id": "6415dadb",
   "metadata": {},
   "outputs": [],
   "source": [
    "#storing the results\n",
    "Modelresults('Random Forest', Rf_train_acc, Rf_test_acc)"
   ]
  },
  {
   "cell_type": "code",
   "execution_count": 70,
   "id": "274cd715",
   "metadata": {},
   "outputs": [
    {
     "data": {
      "text/plain": [
       "0.8474065066342388"
      ]
     },
     "execution_count": 70,
     "metadata": {},
     "output_type": "execute_result"
    }
   ],
   "source": [
    "fpr, tpr, thresholds = roc_curve(Y_test,Rf_test_pred)\n",
    "\n",
    "# Area Under Curve\n",
    "auc = roc_auc_score(Y_test, Rf_test_pred)\n",
    "auc"
   ]
  },
  {
   "cell_type": "code",
   "execution_count": 71,
   "id": "45a8736e",
   "metadata": {},
   "outputs": [
    {
     "data": {
      "image/png": "[encoded data removed]",
      "text/plain": [
       "<Figure size 1440x360 with 1 Axes>"
      ]
     },
     "metadata": {
      "needs_background": "light"
     },
     "output_type": "display_data"
    }
   ],
   "source": [
    "plt.plot(fpr, tpr, color='orange', label='ROC')\n",
    "plt.plot([0, 1], [0, 1], color='darkblue', linestyle='--',label='ROC curve (area = %0.2f)' % auc)\n",
    "plt.xlabel('False Positive Rate')\n",
    "plt.ylabel('True Positive Rate')\n",
    "plt.title('Receiver Operating Characteristic (ROC) Curve')\n",
    "plt.legend()\n",
    "plt.show()"
   ]
  },
  {
   "cell_type": "markdown",
   "id": "cca8762f",
   "metadata": {},
   "source": [
    "### **AUC= 0.847 i.e model has probability of 84.7  to separate the classes**"
   ]
  },
  {
   "cell_type": "code",
   "execution_count": 72,
   "id": "ef12c24d",
   "metadata": {},
   "outputs": [
    {
     "data": {
      "text/plain": [
       "Text(0, 0.5, 'Feature Importance Score')"
      ]
     },
     "execution_count": 72,
     "metadata": {},
     "output_type": "execute_result"
    },
    {
     "data": {
      "image/png": "[encoded data removed]",
      "text/plain": [
       "<Figure size 1440x360 with 1 Axes>"
      ]
     },
     "metadata": {
      "needs_background": "light"
     },
     "output_type": "display_data"
    }
   ],
   "source": [
    "#Feature importance for top 30 predictors\n",
    "predictors = [x for x in X_train.columns]\n",
    "feat_imp = pd.Series(random_rforest.best_estimator_.feature_importances_, predictors).sort_values(ascending=False)\n",
    "feat_imp = feat_imp[0:30]\n",
    "plt.rcParams['figure.figsize'] = 20, 5\n",
    "feat_imp.plot(kind='bar', title='Feature Importance')\n",
    "plt.ylabel('Feature Importance Score')"
   ]
  },
  {
   "cell_type": "markdown",
   "id": "01404ba6",
   "metadata": {},
   "source": [
    "# XGBoost"
   ]
  },
  {
   "cell_type": "code",
   "execution_count": 73,
   "id": "ddea21aa",
   "metadata": {},
   "outputs": [],
   "source": [
    "#!pip install xgboost\n",
    "from xgboost import XGBClassifier\n",
    "\n",
    "## Specify the parameters for optimization\n",
    "\n",
    "xg_params={\n",
    " \"learning_rate\"    : [0.05, 0.10, 0.15, 0.20, 0.25, 0.30 ] ,\n",
    " \"max_depth\"        : [ 3, 4, 5, 6, 8, 10, 12, 15],\n",
    " \"min_child_weight\" : [ 1, 3, 5, 7 ],\n",
    " \"gamma\"            : [ 0.0, 0.1, 0.2 , 0.3, 0.4 ],\n",
    " \"colsample_bytree\" : [ 0.3, 0.4, 0.5 , 0.7 ],\n",
    " \n",
    "}\n",
    "  "
   ]
  },
  {
   "cell_type": "code",
   "execution_count": 74,
   "id": "bdd24534",
   "metadata": {},
   "outputs": [
    {
     "name": "stdout",
     "output_type": "stream",
     "text": [
      "Fitting 5 folds for each of 5 candidates, totalling 25 fits\n",
      "[01:13:14] WARNING: C:/Users/Administrator/workspace/xgboost-win64_release_1.5.1/src/learner.cc:1115: Starting in XGBoost 1.3.0, the default evaluation metric used with the objective 'binary:logistic' was changed from 'error' to 'logloss'. Explicitly set eval_metric if you'd like to restore the old behavior.\n"
     ]
    },
    {
     "data": {
      "text/plain": [
       "RandomizedSearchCV(cv=5,\n",
       "                   estimator=XGBClassifier(base_score=None, booster=None,\n",
       "                                           colsample_bylevel=None,\n",
       "                                           colsample_bynode=None,\n",
       "                                           colsample_bytree=None,\n",
       "                                           enable_categorical=False, gamma=None,\n",
       "                                           gpu_id=None, importance_type=None,\n",
       "                                           interaction_constraints=None,\n",
       "                                           learning_rate=None,\n",
       "                                           max_delta_step=None, max_depth=None,\n",
       "                                           min_child_weight=None, missing=nan,\n",
       "                                           monotone_constraints...\n",
       "                                           scale_pos_weight=None,\n",
       "                                           subsample=None, tree_method=None,\n",
       "                                           use_label_encoder=False,\n",
       "                                           validate_parameters=None,\n",
       "                                           verbosity=None),\n",
       "                   n_iter=5, n_jobs=-1,\n",
       "                   param_distributions={'colsample_bytree': [0.3, 0.4, 0.5,\n",
       "                                                             0.7],\n",
       "                                        'gamma': [0.0, 0.1, 0.2, 0.3, 0.4],\n",
       "                                        'learning_rate': [0.05, 0.1, 0.15, 0.2,\n",
       "                                                          0.25, 0.3],\n",
       "                                        'max_depth': [3, 4, 5, 6, 8, 10, 12,\n",
       "                                                      15],\n",
       "                                        'min_child_weight': [1, 3, 5, 7]},\n",
       "                   scoring='roc_auc', verbose=3)"
      ]
     },
     "execution_count": 74,
     "metadata": {},
     "output_type": "execute_result"
    }
   ],
   "source": [
    "Xg_clf=XGBClassifier(use_label_encoder=False)\n",
    "\n",
    "# Use best hyperparameters to tune the model\n",
    "random_xg= RandomizedSearchCV(Xg_clf,param_distributions=xg_params,n_iter=5,scoring='roc_auc',n_jobs=-1,cv=5,verbose=3)\n",
    "\n",
    "random_xg.fit(X_train,Y_train)"
   ]
  },
  {
   "cell_type": "code",
   "execution_count": 75,
   "id": "f60351ee",
   "metadata": {},
   "outputs": [
    {
     "name": "stdout",
     "output_type": "stream",
     "text": [
      "Best estimators :\n",
      " XGBClassifier(base_score=0.5, booster='gbtree', colsample_bylevel=1,\n",
      "              colsample_bynode=1, colsample_bytree=0.5,\n",
      "              enable_categorical=False, gamma=0.4, gpu_id=-1,\n",
      "              importance_type=None, interaction_constraints='',\n",
      "              learning_rate=0.15, max_delta_step=0, max_depth=12,\n",
      "              min_child_weight=3, missing=nan, monotone_constraints='()',\n",
      "              n_estimators=100, n_jobs=8, num_parallel_tree=1, predictor='auto',\n",
      "              random_state=0, reg_alpha=0, reg_lambda=1, scale_pos_weight=1,\n",
      "              subsample=1, tree_method='exact', use_label_encoder=False,\n",
      "              validate_parameters=1, verbosity=None)\n",
      "\n",
      "\n",
      "Best parameters :\n",
      " {'min_child_weight': 3, 'max_depth': 12, 'learning_rate': 0.15, 'gamma': 0.4, 'colsample_bytree': 0.5}\n"
     ]
    }
   ],
   "source": [
    "print(\"Best estimators :\\n\",random_xg.best_estimator_)\n",
    "print(\"\\n\")\n",
    "print(\"Best parameters :\\n\",random_xg.best_params_)"
   ]
  },
  {
   "cell_type": "code",
   "execution_count": 76,
   "id": "1cde28ef",
   "metadata": {},
   "outputs": [
    {
     "name": "stdout",
     "output_type": "stream",
     "text": [
      "Train Accuracy Score:0.845125\n",
      "Test Accuracy Score:0.8465\n",
      "Precision Score:0.9194139194139194\n",
      "Recall Score:0.7575452716297787\n",
      "F1 Score:0.8306674020959735\n"
     ]
    }
   ],
   "source": [
    "# Evaluation of model\n",
    "Xg_test_pred = random_xg.predict(X_test)\n",
    "Xg_train_pred=random_xg.predict(X_train)\n",
    "\n",
    "# Accuracy of the model\n",
    "Xg_test_acc=accuracy_score(Y_test,Xg_test_pred)\n",
    "Xg_train_acc=accuracy_score(Y_train,Xg_train_pred)\n",
    "\n",
    "# Metrics of the model\n",
    "print('Train Accuracy Score:' + str(Xg_train_acc))\n",
    "print('Test Accuracy Score:' + str(Xg_test_acc))\n",
    "print('Precision Score:'+ str(precision_score(Y_test,Xg_test_pred)))\n",
    "print('Recall Score:'+ str(recall_score(Y_test, Xg_test_pred)))\n",
    "print('F1 Score:' + str(f1_score(Y_test,Xg_test_pred)))\n"
   ]
  },
  {
   "cell_type": "code",
   "execution_count": 77,
   "id": "5c9f3628",
   "metadata": {},
   "outputs": [],
   "source": [
    "#storing the results\n",
    "Modelresults('XGBoost', Xg_train_acc, Xg_test_acc)"
   ]
  },
  {
   "cell_type": "code",
   "execution_count": 78,
   "id": "eb972861",
   "metadata": {},
   "outputs": [
    {
     "data": {
      "text/plain": [
       "0.8459694549003763"
      ]
     },
     "execution_count": 78,
     "metadata": {},
     "output_type": "execute_result"
    }
   ],
   "source": [
    "fpr, tpr, thresholds = roc_curve(Y_test,Xg_test_pred)\n",
    "\n",
    "# Area Under Curve\n",
    "auc = roc_auc_score(Y_test, Xg_test_pred)\n",
    "auc"
   ]
  },
  {
   "cell_type": "code",
   "execution_count": 79,
   "id": "ad6d840c",
   "metadata": {},
   "outputs": [
    {
     "data": {
      "image/png": "[encoded data removed]",
      "text/plain": [
       "<Figure size 1440x360 with 1 Axes>"
      ]
     },
     "metadata": {
      "needs_background": "light"
     },
     "output_type": "display_data"
    }
   ],
   "source": [
    "plt.plot(fpr, tpr, color='orange', label='ROC')\n",
    "plt.plot([0, 1], [0, 1], color='darkblue', linestyle='--',label='ROC curve (area = %0.2f)' % auc)\n",
    "plt.xlabel('False Positive Rate')\n",
    "plt.ylabel('True Positive Rate')\n",
    "plt.title('Receiver Operating Characteristic (ROC) Curve')\n",
    "plt.legend()\n",
    "plt.show()"
   ]
  },
  {
   "cell_type": "markdown",
   "id": "1eb68698",
   "metadata": {},
   "source": [
    "### **AUC=84.6 i.e model has probability of 84.6 to separate the classes**"
   ]
  },
  {
   "cell_type": "code",
   "execution_count": 80,
   "id": "17c1e04b",
   "metadata": {},
   "outputs": [
    {
     "data": {
      "text/plain": [
       "Text(0, 0.5, 'Feature Importance Score')"
      ]
     },
     "execution_count": 80,
     "metadata": {},
     "output_type": "execute_result"
    },
    {
     "data": {
      "image/png": "[encoded data removed]",
      "text/plain": [
       "<Figure size 1440x360 with 1 Axes>"
      ]
     },
     "metadata": {
      "needs_background": "light"
     },
     "output_type": "display_data"
    }
   ],
   "source": [
    "#Feature importance for top 100 predictors\n",
    "predictors = [x for x in X_train.columns]\n",
    "feat_imp = pd.Series(random_xg.best_estimator_.feature_importances_, predictors).sort_values(ascending=False)\n",
    "feat_imp = feat_imp[0:100]\n",
    "plt.rcParams['figure.figsize'] = 20, 5\n",
    "feat_imp.plot(kind='bar', title='Feature Importance')\n",
    "plt.ylabel('Feature Importance Score')"
   ]
  },
  {
   "cell_type": "markdown",
   "id": "e8a227d6",
   "metadata": {},
   "source": [
    "## Catboost   \n",
    "**CatBoost is a high-performance open source library for gradient boosting on decision trees**    \n",
    "\n",
    "**Catboost - Category and Boosting**"
   ]
  },
  {
   "cell_type": "code",
   "execution_count": 81,
   "id": "188333c9",
   "metadata": {},
   "outputs": [],
   "source": [
    "import warnings\n",
    "warnings.filterwarnings(\"ignore\")x\n",
    "from catboost import CatBoostClassifier"
   ]
  },
  {
   "cell_type": "code",
   "execution_count": 82,
   "id": "a85e7a3b",
   "metadata": {},
   "outputs": [],
   "source": [
    "# iniating a model\n",
    "Ct_clf = CatBoostClassifier()"
   ]
  },
  {
   "cell_type": "code",
   "execution_count": 83,
   "id": "af6c7210",
   "metadata": {},
   "outputs": [
    {
     "name": "stdout",
     "output_type": "stream",
     "text": [
      "Fitting 5 folds for each of 20 candidates, totalling 100 fits\n",
      "0:\tlearn: 0.6635101\ttotal: 131ms\tremaining: 2m 10s\n",
      "1:\tlearn: 0.6369992\ttotal: 141ms\tremaining: 1m 10s\n",
      "2:\tlearn: 0.6151880\ttotal: 180ms\tremaining: 59.9s\n",
      "3:\tlearn: 0.5944326\ttotal: 218ms\tremaining: 54.3s\n",
      "4:\tlearn: 0.5769214\ttotal: 227ms\tremaining: 45.2s\n",
      "5:\tlearn: 0.5604661\ttotal: 264ms\tremaining: 43.7s\n",
      "6:\tlearn: 0.5454503\ttotal: 298ms\tremaining: 42.3s\n",
      "7:\tlearn: 0.5328725\ttotal: 334ms\tremaining: 41.5s\n",
      "8:\tlearn: 0.5212245\ttotal: 371ms\tremaining: 40.8s\n",
      "9:\tlearn: 0.5100830\ttotal: 408ms\tremaining: 40.4s\n",
      "10:\tlearn: 0.5004600\ttotal: 442ms\tremaining: 39.8s\n",
      "11:\tlearn: 0.4910638\ttotal: 463ms\tremaining: 38.1s\n",
      "12:\tlearn: 0.4823318\ttotal: 496ms\tremaining: 37.7s\n",
      "13:\tlearn: 0.4744846\ttotal: 531ms\tremaining: 37.4s\n",
      "14:\tlearn: 0.4672883\ttotal: 577ms\tremaining: 37.9s\n",
      "15:\tlearn: 0.4612823\ttotal: 585ms\tremaining: 36s\n",
      "16:\tlearn: 0.4556772\ttotal: 629ms\tremaining: 36.4s\n",
      "17:\tlearn: 0.4504221\ttotal: 652ms\tremaining: 35.6s\n",
      "18:\tlearn: 0.4459285\ttotal: 660ms\tremaining: 34.1s\n",
      "19:\tlearn: 0.4418671\ttotal: 668ms\tremaining: 32.7s\n",
      "20:\tlearn: 0.4377894\ttotal: 703ms\tremaining: 32.8s\n",
      "21:\tlearn: 0.4338152\ttotal: 741ms\tremaining: 32.9s\n",
      "22:\tlearn: 0.4301056\ttotal: 777ms\tremaining: 33s\n",
      "23:\tlearn: 0.4273039\ttotal: 783ms\tremaining: 31.8s\n",
      "24:\tlearn: 0.4241878\ttotal: 817ms\tremaining: 31.9s\n",
      "25:\tlearn: 0.4211667\ttotal: 851ms\tremaining: 31.9s\n",
      "26:\tlearn: 0.4178047\ttotal: 887ms\tremaining: 32s\n",
      "27:\tlearn: 0.4151242\ttotal: 927ms\tremaining: 32.2s\n",
      "28:\tlearn: 0.4126177\ttotal: 967ms\tremaining: 32.4s\n",
      "29:\tlearn: 0.4104409\ttotal: 1.01s\tremaining: 32.6s\n",
      "30:\tlearn: 0.4076573\ttotal: 1.05s\tremaining: 32.8s\n",
      "31:\tlearn: 0.4048372\ttotal: 1.09s\tremaining: 33s\n",
      "32:\tlearn: 0.4030450\ttotal: 1.13s\tremaining: 33.1s\n",
      "33:\tlearn: 0.4013304\ttotal: 1.14s\tremaining: 32.4s\n",
      "34:\tlearn: 0.3991749\ttotal: 1.18s\tremaining: 32.4s\n",
      "35:\tlearn: 0.3977102\ttotal: 1.2s\tremaining: 32.2s\n",
      "36:\tlearn: 0.3958071\ttotal: 1.24s\tremaining: 32.4s\n",
      "37:\tlearn: 0.3946360\ttotal: 1.26s\tremaining: 31.9s\n",
      "38:\tlearn: 0.3933723\ttotal: 1.27s\tremaining: 31.3s\n",
      "39:\tlearn: 0.3917943\ttotal: 1.31s\tremaining: 31.4s\n",
      "40:\tlearn: 0.3905400\ttotal: 1.34s\tremaining: 31.4s\n",
      "41:\tlearn: 0.3892665\ttotal: 1.38s\tremaining: 31.5s\n",
      "42:\tlearn: 0.3878592\ttotal: 1.42s\tremaining: 31.6s\n",
      "43:\tlearn: 0.3860323\ttotal: 1.46s\tremaining: 31.8s\n",
      "44:\tlearn: 0.3849430\ttotal: 1.5s\tremaining: 31.9s\n",
      "45:\tlearn: 0.3836455\ttotal: 1.54s\tremaining: 32s\n",
      "46:\tlearn: 0.3829729\ttotal: 1.55s\tremaining: 31.5s\n",
      "47:\tlearn: 0.3815494\ttotal: 1.59s\tremaining: 31.6s\n",
      "48:\tlearn: 0.3805068\ttotal: 1.63s\tremaining: 31.7s\n",
      "49:\tlearn: 0.3792394\ttotal: 1.67s\tremaining: 31.8s\n",
      "50:\tlearn: 0.3783103\ttotal: 1.71s\tremaining: 31.9s\n",
      "51:\tlearn: 0.3772405\ttotal: 1.75s\tremaining: 31.9s\n",
      "52:\tlearn: 0.3765055\ttotal: 1.78s\tremaining: 31.9s\n",
      "53:\tlearn: 0.3754062\ttotal: 1.82s\tremaining: 31.9s\n",
      "54:\tlearn: 0.3742791\ttotal: 1.86s\tremaining: 32s\n",
      "55:\tlearn: 0.3740328\ttotal: 1.87s\tremaining: 31.5s\n",
      "56:\tlearn: 0.3731758\ttotal: 1.92s\tremaining: 31.7s\n",
      "57:\tlearn: 0.3723440\ttotal: 1.96s\tremaining: 31.8s\n",
      "58:\tlearn: 0.3715364\ttotal: 2s\tremaining: 31.9s\n",
      "59:\tlearn: 0.3709756\ttotal: 2.04s\tremaining: 31.9s\n",
      "60:\tlearn: 0.3704923\ttotal: 2.05s\tremaining: 31.6s\n",
      "61:\tlearn: 0.3701132\ttotal: 2.06s\tremaining: 31.1s\n",
      "62:\tlearn: 0.3692240\ttotal: 2.1s\tremaining: 31.3s\n",
      "63:\tlearn: 0.3681433\ttotal: 2.15s\tremaining: 31.4s\n",
      "64:\tlearn: 0.3675802\ttotal: 2.19s\tremaining: 31.5s\n",
      "65:\tlearn: 0.3670699\ttotal: 2.21s\tremaining: 31.3s\n",
      "66:\tlearn: 0.3665975\ttotal: 2.25s\tremaining: 31.3s\n",
      "67:\tlearn: 0.3658496\ttotal: 2.29s\tremaining: 31.3s\n",
      "68:\tlearn: 0.3650754\ttotal: 2.32s\tremaining: 31.3s\n",
      "69:\tlearn: 0.3644108\ttotal: 2.36s\tremaining: 31.4s\n",
      "70:\tlearn: 0.3635108\ttotal: 2.4s\tremaining: 31.4s\n",
      "71:\tlearn: 0.3631627\ttotal: 2.44s\tremaining: 31.4s\n",
      "72:\tlearn: 0.3625238\ttotal: 2.47s\tremaining: 31.4s\n",
      "73:\tlearn: 0.3621157\ttotal: 2.51s\tremaining: 31.4s\n",
      "74:\tlearn: 0.3614507\ttotal: 2.55s\tremaining: 31.4s\n",
      "75:\tlearn: 0.3611481\ttotal: 2.57s\tremaining: 31.3s\n",
      "76:\tlearn: 0.3602837\ttotal: 2.61s\tremaining: 31.3s\n",
      "77:\tlearn: 0.3597786\ttotal: 2.65s\tremaining: 31.3s\n",
      "78:\tlearn: 0.3590441\ttotal: 2.69s\tremaining: 31.3s\n",
      "79:\tlearn: 0.3589990\ttotal: 2.69s\tremaining: 31s\n",
      "80:\tlearn: 0.3586965\ttotal: 2.73s\tremaining: 31s\n",
      "81:\tlearn: 0.3581209\ttotal: 2.77s\tremaining: 31s\n",
      "82:\tlearn: 0.3576469\ttotal: 2.81s\tremaining: 31.1s\n",
      "83:\tlearn: 0.3576138\ttotal: 2.82s\tremaining: 30.8s\n",
      "84:\tlearn: 0.3574311\ttotal: 2.83s\tremaining: 30.5s\n",
      "85:\tlearn: 0.3570622\ttotal: 2.87s\tremaining: 30.5s\n",
      "86:\tlearn: 0.3565193\ttotal: 2.9s\tremaining: 30.5s\n",
      "87:\tlearn: 0.3564584\ttotal: 2.91s\tremaining: 30.2s\n",
      "88:\tlearn: 0.3560171\ttotal: 2.94s\tremaining: 30.1s\n",
      "89:\tlearn: 0.3554980\ttotal: 2.98s\tremaining: 30.1s\n",
      "90:\tlearn: 0.3550566\ttotal: 3.01s\tremaining: 30.1s\n",
      "91:\tlearn: 0.3548664\ttotal: 3.02s\tremaining: 29.8s\n",
      "92:\tlearn: 0.3547539\ttotal: 3.03s\tremaining: 29.6s\n",
      "93:\tlearn: 0.3546558\ttotal: 3.04s\tremaining: 29.3s\n",
      "94:\tlearn: 0.3541865\ttotal: 3.07s\tremaining: 29.3s\n",
      "95:\tlearn: 0.3538787\ttotal: 3.09s\tremaining: 29.1s\n",
      "96:\tlearn: 0.3533263\ttotal: 3.13s\tremaining: 29.1s\n",
      "97:\tlearn: 0.3531853\ttotal: 3.14s\tremaining: 28.9s\n",
      "98:\tlearn: 0.3528542\ttotal: 3.17s\tremaining: 28.9s\n",
      "99:\tlearn: 0.3526760\ttotal: 3.21s\tremaining: 28.9s\n",
      "100:\tlearn: 0.3523259\ttotal: 3.25s\tremaining: 28.9s\n",
      "101:\tlearn: 0.3519325\ttotal: 3.28s\tremaining: 28.9s\n",
      "102:\tlearn: 0.3517808\ttotal: 3.29s\tremaining: 28.6s\n",
      "103:\tlearn: 0.3516793\ttotal: 3.29s\tremaining: 28.4s\n",
      "104:\tlearn: 0.3514570\ttotal: 3.33s\tremaining: 28.4s\n",
      "105:\tlearn: 0.3513062\ttotal: 3.34s\tremaining: 28.2s\n",
      "106:\tlearn: 0.3512199\ttotal: 3.35s\tremaining: 27.9s\n",
      "107:\tlearn: 0.3508499\ttotal: 3.38s\tremaining: 27.9s\n",
      "108:\tlearn: 0.3504994\ttotal: 3.42s\tremaining: 27.9s\n",
      "109:\tlearn: 0.3503068\ttotal: 3.45s\tremaining: 27.9s\n",
      "110:\tlearn: 0.3500992\ttotal: 3.49s\tremaining: 28s\n",
      "111:\tlearn: 0.3498312\ttotal: 3.53s\tremaining: 28s\n",
      "112:\tlearn: 0.3495455\ttotal: 3.56s\tremaining: 28s\n",
      "113:\tlearn: 0.3494201\ttotal: 3.58s\tremaining: 27.8s\n",
      "114:\tlearn: 0.3491586\ttotal: 3.61s\tremaining: 27.8s\n",
      "115:\tlearn: 0.3490336\ttotal: 3.63s\tremaining: 27.6s\n",
      "116:\tlearn: 0.3488185\ttotal: 3.66s\tremaining: 27.6s\n",
      "117:\tlearn: 0.3485056\ttotal: 3.69s\tremaining: 27.6s\n",
      "118:\tlearn: 0.3483332\ttotal: 3.73s\tremaining: 27.6s\n",
      "119:\tlearn: 0.3480060\ttotal: 3.76s\tremaining: 27.6s\n",
      "120:\tlearn: 0.3479689\ttotal: 3.77s\tremaining: 27.4s\n",
      "121:\tlearn: 0.3476025\ttotal: 3.8s\tremaining: 27.4s\n",
      "122:\tlearn: 0.3473384\ttotal: 3.84s\tremaining: 27.4s\n",
      "123:\tlearn: 0.3472854\ttotal: 3.85s\tremaining: 27.2s\n",
      "124:\tlearn: 0.3470319\ttotal: 3.89s\tremaining: 27.2s\n",
      "125:\tlearn: 0.3469416\ttotal: 3.89s\tremaining: 27s\n",
      "126:\tlearn: 0.3468213\ttotal: 3.93s\tremaining: 27s\n",
      "127:\tlearn: 0.3466978\ttotal: 3.94s\tremaining: 26.9s\n",
      "128:\tlearn: 0.3466450\ttotal: 3.95s\tremaining: 26.7s\n",
      "129:\tlearn: 0.3465286\ttotal: 3.96s\tremaining: 26.5s\n",
      "130:\tlearn: 0.3462620\ttotal: 3.99s\tremaining: 26.5s\n",
      "131:\tlearn: 0.3462335\ttotal: 4s\tremaining: 26.3s\n",
      "132:\tlearn: 0.3462202\ttotal: 4.01s\tremaining: 26.1s\n",
      "133:\tlearn: 0.3461149\ttotal: 4.03s\tremaining: 26s\n",
      "134:\tlearn: 0.3460604\ttotal: 4.04s\tremaining: 25.9s\n",
      "135:\tlearn: 0.3459393\ttotal: 4.07s\tremaining: 25.9s\n",
      "136:\tlearn: 0.3459206\ttotal: 4.08s\tremaining: 25.7s\n",
      "137:\tlearn: 0.3457283\ttotal: 4.11s\tremaining: 25.7s\n",
      "138:\tlearn: 0.3455451\ttotal: 4.13s\tremaining: 25.6s\n",
      "139:\tlearn: 0.3451434\ttotal: 4.17s\tremaining: 25.6s\n",
      "140:\tlearn: 0.3449058\ttotal: 4.2s\tremaining: 25.6s\n",
      "141:\tlearn: 0.3448867\ttotal: 4.21s\tremaining: 25.4s\n",
      "142:\tlearn: 0.3446591\ttotal: 4.24s\tremaining: 25.4s\n",
      "143:\tlearn: 0.3445508\ttotal: 4.27s\tremaining: 25.4s\n",
      "144:\tlearn: 0.3441824\ttotal: 4.3s\tremaining: 25.4s\n",
      "145:\tlearn: 0.3439344\ttotal: 4.34s\tremaining: 25.4s\n",
      "146:\tlearn: 0.3438111\ttotal: 4.37s\tremaining: 25.4s\n",
      "147:\tlearn: 0.3436125\ttotal: 4.41s\tremaining: 25.4s\n",
      "148:\tlearn: 0.3433860\ttotal: 4.44s\tremaining: 25.4s\n",
      "149:\tlearn: 0.3433777\ttotal: 4.45s\tremaining: 25.2s\n",
      "150:\tlearn: 0.3433586\ttotal: 4.45s\tremaining: 25s\n",
      "151:\tlearn: 0.3432684\ttotal: 4.49s\tremaining: 25s\n",
      "152:\tlearn: 0.3431649\ttotal: 4.52s\tremaining: 25s\n",
      "153:\tlearn: 0.3430665\ttotal: 4.54s\tremaining: 24.9s\n",
      "154:\tlearn: 0.3429042\ttotal: 4.57s\tremaining: 24.9s\n",
      "155:\tlearn: 0.3427695\ttotal: 4.6s\tremaining: 24.9s\n",
      "156:\tlearn: 0.3426508\ttotal: 4.64s\tremaining: 24.9s\n",
      "157:\tlearn: 0.3426171\ttotal: 4.65s\tremaining: 24.8s\n",
      "158:\tlearn: 0.3425752\ttotal: 4.65s\tremaining: 24.6s\n",
      "159:\tlearn: 0.3425348\ttotal: 4.66s\tremaining: 24.5s\n",
      "160:\tlearn: 0.3423430\ttotal: 4.7s\tremaining: 24.5s\n",
      "161:\tlearn: 0.3422042\ttotal: 4.73s\tremaining: 24.5s\n",
      "162:\tlearn: 0.3420942\ttotal: 4.77s\tremaining: 24.5s\n",
      "163:\tlearn: 0.3419829\ttotal: 4.8s\tremaining: 24.5s\n",
      "164:\tlearn: 0.3418543\ttotal: 4.83s\tremaining: 24.5s\n"
     ]
    },
    {
     "name": "stdout",
     "output_type": "stream",
     "text": [
      "165:\tlearn: 0.3418175\ttotal: 4.84s\tremaining: 24.3s\n",
      "166:\tlearn: 0.3417831\ttotal: 4.85s\tremaining: 24.2s\n",
      "167:\tlearn: 0.3417488\ttotal: 4.86s\tremaining: 24.1s\n",
      "168:\tlearn: 0.3416105\ttotal: 4.9s\tremaining: 24.1s\n",
      "169:\tlearn: 0.3413536\ttotal: 4.93s\tremaining: 24.1s\n",
      "170:\tlearn: 0.3413223\ttotal: 4.94s\tremaining: 24s\n",
      "171:\tlearn: 0.3410699\ttotal: 4.97s\tremaining: 23.9s\n",
      "172:\tlearn: 0.3409106\ttotal: 5.01s\tremaining: 23.9s\n",
      "173:\tlearn: 0.3407023\ttotal: 5.04s\tremaining: 23.9s\n",
      "174:\tlearn: 0.3405585\ttotal: 5.08s\tremaining: 23.9s\n",
      "175:\tlearn: 0.3404681\ttotal: 5.1s\tremaining: 23.9s\n",
      "176:\tlearn: 0.3404065\ttotal: 5.13s\tremaining: 23.9s\n",
      "177:\tlearn: 0.3403107\ttotal: 5.17s\tremaining: 23.9s\n",
      "178:\tlearn: 0.3402823\ttotal: 5.18s\tremaining: 23.8s\n",
      "179:\tlearn: 0.3401685\ttotal: 5.21s\tremaining: 23.7s\n",
      "180:\tlearn: 0.3400833\ttotal: 5.25s\tremaining: 23.7s\n",
      "181:\tlearn: 0.3398851\ttotal: 5.28s\tremaining: 23.7s\n",
      "182:\tlearn: 0.3398527\ttotal: 5.29s\tremaining: 23.6s\n",
      "183:\tlearn: 0.3397354\ttotal: 5.33s\tremaining: 23.6s\n",
      "184:\tlearn: 0.3396536\ttotal: 5.35s\tremaining: 23.6s\n",
      "185:\tlearn: 0.3396195\ttotal: 5.36s\tremaining: 23.4s\n",
      "186:\tlearn: 0.3396167\ttotal: 5.36s\tremaining: 23.3s\n",
      "187:\tlearn: 0.3395570\ttotal: 5.37s\tremaining: 23.2s\n",
      "188:\tlearn: 0.3395402\ttotal: 5.38s\tremaining: 23.1s\n",
      "189:\tlearn: 0.3394744\ttotal: 5.39s\tremaining: 23s\n",
      "190:\tlearn: 0.3392314\ttotal: 5.42s\tremaining: 23s\n",
      "191:\tlearn: 0.3391717\ttotal: 5.44s\tremaining: 22.9s\n",
      "192:\tlearn: 0.3390429\ttotal: 5.47s\tremaining: 22.9s\n",
      "193:\tlearn: 0.3389962\ttotal: 5.48s\tremaining: 22.8s\n",
      "194:\tlearn: 0.3389952\ttotal: 5.49s\tremaining: 22.7s\n",
      "195:\tlearn: 0.3389306\ttotal: 5.51s\tremaining: 22.6s\n",
      "196:\tlearn: 0.3388048\ttotal: 5.54s\tremaining: 22.6s\n",
      "197:\tlearn: 0.3387692\ttotal: 5.56s\tremaining: 22.5s\n",
      "198:\tlearn: 0.3387261\ttotal: 5.57s\tremaining: 22.4s\n",
      "199:\tlearn: 0.3385330\ttotal: 5.61s\tremaining: 22.4s\n",
      "200:\tlearn: 0.3384899\ttotal: 5.63s\tremaining: 22.4s\n",
      "201:\tlearn: 0.3382990\ttotal: 5.66s\tremaining: 22.4s\n",
      "202:\tlearn: 0.3382859\ttotal: 5.67s\tremaining: 22.3s\n",
      "203:\tlearn: 0.3382212\ttotal: 5.7s\tremaining: 22.3s\n",
      "204:\tlearn: 0.3380508\ttotal: 5.74s\tremaining: 22.3s\n",
      "205:\tlearn: 0.3379541\ttotal: 5.77s\tremaining: 22.3s\n",
      "206:\tlearn: 0.3378542\ttotal: 5.81s\tremaining: 22.2s\n",
      "207:\tlearn: 0.3377748\ttotal: 5.84s\tremaining: 22.2s\n",
      "208:\tlearn: 0.3376674\ttotal: 5.87s\tremaining: 22.2s\n",
      "209:\tlearn: 0.3376546\ttotal: 5.88s\tremaining: 22.1s\n",
      "210:\tlearn: 0.3374456\ttotal: 5.92s\tremaining: 22.1s\n",
      "211:\tlearn: 0.3373072\ttotal: 5.95s\tremaining: 22.1s\n",
      "212:\tlearn: 0.3372253\ttotal: 5.99s\tremaining: 22.1s\n",
      "213:\tlearn: 0.3371562\ttotal: 6.01s\tremaining: 22.1s\n",
      "214:\tlearn: 0.3371561\ttotal: 6.01s\tremaining: 21.9s\n",
      "215:\tlearn: 0.3371404\ttotal: 6.02s\tremaining: 21.8s\n",
      "216:\tlearn: 0.3371154\ttotal: 6.03s\tremaining: 21.7s\n",
      "217:\tlearn: 0.3370882\ttotal: 6.04s\tremaining: 21.7s\n",
      "218:\tlearn: 0.3369600\ttotal: 6.07s\tremaining: 21.7s\n",
      "219:\tlearn: 0.3368926\ttotal: 6.11s\tremaining: 21.7s\n",
      "220:\tlearn: 0.3368926\ttotal: 6.11s\tremaining: 21.5s\n",
      "221:\tlearn: 0.3368304\ttotal: 6.15s\tremaining: 21.5s\n",
      "222:\tlearn: 0.3367755\ttotal: 6.18s\tremaining: 21.5s\n",
      "223:\tlearn: 0.3367167\ttotal: 6.22s\tremaining: 21.5s\n",
      "224:\tlearn: 0.3366830\ttotal: 6.23s\tremaining: 21.4s\n",
      "225:\tlearn: 0.3366525\ttotal: 6.26s\tremaining: 21.4s\n",
      "226:\tlearn: 0.3366028\ttotal: 6.28s\tremaining: 21.4s\n",
      "227:\tlearn: 0.3365950\ttotal: 6.29s\tremaining: 21.3s\n",
      "228:\tlearn: 0.3365841\ttotal: 6.3s\tremaining: 21.2s\n",
      "229:\tlearn: 0.3363990\ttotal: 6.34s\tremaining: 21.2s\n",
      "230:\tlearn: 0.3363960\ttotal: 6.34s\tremaining: 21.1s\n",
      "231:\tlearn: 0.3363637\ttotal: 6.36s\tremaining: 21s\n",
      "232:\tlearn: 0.3363573\ttotal: 6.37s\tremaining: 21s\n",
      "233:\tlearn: 0.3363469\ttotal: 6.37s\tremaining: 20.9s\n",
      "234:\tlearn: 0.3362507\ttotal: 6.41s\tremaining: 20.9s\n",
      "235:\tlearn: 0.3362296\ttotal: 6.43s\tremaining: 20.8s\n",
      "236:\tlearn: 0.3362229\ttotal: 6.44s\tremaining: 20.7s\n",
      "237:\tlearn: 0.3362170\ttotal: 6.45s\tremaining: 20.7s\n",
      "238:\tlearn: 0.3362097\ttotal: 6.46s\tremaining: 20.6s\n",
      "239:\tlearn: 0.3361454\ttotal: 6.5s\tremaining: 20.6s\n",
      "240:\tlearn: 0.3360958\ttotal: 6.52s\tremaining: 20.5s\n",
      "241:\tlearn: 0.3360511\ttotal: 6.54s\tremaining: 20.5s\n",
      "242:\tlearn: 0.3359841\ttotal: 6.58s\tremaining: 20.5s\n",
      "243:\tlearn: 0.3359307\ttotal: 6.62s\tremaining: 20.5s\n",
      "244:\tlearn: 0.3358859\ttotal: 6.64s\tremaining: 20.5s\n",
      "245:\tlearn: 0.3358219\ttotal: 6.66s\tremaining: 20.4s\n",
      "246:\tlearn: 0.3357201\ttotal: 6.7s\tremaining: 20.4s\n",
      "247:\tlearn: 0.3356903\ttotal: 6.71s\tremaining: 20.3s\n",
      "248:\tlearn: 0.3356892\ttotal: 6.72s\tremaining: 20.3s\n",
      "249:\tlearn: 0.3356798\ttotal: 6.74s\tremaining: 20.2s\n",
      "250:\tlearn: 0.3356258\ttotal: 6.76s\tremaining: 20.2s\n",
      "251:\tlearn: 0.3355513\ttotal: 6.79s\tremaining: 20.2s\n",
      "252:\tlearn: 0.3355158\ttotal: 6.81s\tremaining: 20.1s\n",
      "253:\tlearn: 0.3354846\ttotal: 6.82s\tremaining: 20s\n",
      "254:\tlearn: 0.3354764\ttotal: 6.84s\tremaining: 20s\n",
      "255:\tlearn: 0.3353635\ttotal: 6.88s\tremaining: 20s\n",
      "256:\tlearn: 0.3353339\ttotal: 6.91s\tremaining: 20s\n",
      "257:\tlearn: 0.3353331\ttotal: 6.92s\tremaining: 19.9s\n",
      "258:\tlearn: 0.3352621\ttotal: 6.93s\tremaining: 19.8s\n",
      "259:\tlearn: 0.3352496\ttotal: 6.94s\tremaining: 19.8s\n",
      "260:\tlearn: 0.3352399\ttotal: 6.96s\tremaining: 19.7s\n",
      "261:\tlearn: 0.3352130\ttotal: 6.97s\tremaining: 19.6s\n",
      "262:\tlearn: 0.3351655\ttotal: 6.99s\tremaining: 19.6s\n",
      "263:\tlearn: 0.3350737\ttotal: 7.03s\tremaining: 19.6s\n",
      "264:\tlearn: 0.3350688\ttotal: 7.04s\tremaining: 19.5s\n",
      "265:\tlearn: 0.3350100\ttotal: 7.08s\tremaining: 19.5s\n",
      "266:\tlearn: 0.3348795\ttotal: 7.11s\tremaining: 19.5s\n",
      "267:\tlearn: 0.3348611\ttotal: 7.12s\tremaining: 19.5s\n",
      "268:\tlearn: 0.3347688\ttotal: 7.17s\tremaining: 19.5s\n",
      "269:\tlearn: 0.3346823\ttotal: 7.21s\tremaining: 19.5s\n",
      "270:\tlearn: 0.3346382\ttotal: 7.24s\tremaining: 19.5s\n",
      "271:\tlearn: 0.3346256\ttotal: 7.25s\tremaining: 19.4s\n",
      "272:\tlearn: 0.3345864\ttotal: 7.27s\tremaining: 19.4s\n",
      "273:\tlearn: 0.3344667\ttotal: 7.32s\tremaining: 19.4s\n",
      "274:\tlearn: 0.3343426\ttotal: 7.36s\tremaining: 19.4s\n",
      "275:\tlearn: 0.3343123\ttotal: 7.41s\tremaining: 19.4s\n",
      "276:\tlearn: 0.3342808\ttotal: 7.43s\tremaining: 19.4s\n",
      "277:\tlearn: 0.3342380\ttotal: 7.46s\tremaining: 19.4s\n",
      "278:\tlearn: 0.3342066\ttotal: 7.47s\tremaining: 19.3s\n",
      "279:\tlearn: 0.3341664\ttotal: 7.52s\tremaining: 19.3s\n",
      "280:\tlearn: 0.3340912\ttotal: 7.56s\tremaining: 19.3s\n",
      "281:\tlearn: 0.3340638\ttotal: 7.57s\tremaining: 19.3s\n",
      "282:\tlearn: 0.3340154\ttotal: 7.62s\tremaining: 19.3s\n",
      "283:\tlearn: 0.3339248\ttotal: 7.67s\tremaining: 19.3s\n",
      "284:\tlearn: 0.3339133\ttotal: 7.68s\tremaining: 19.3s\n",
      "285:\tlearn: 0.3338962\ttotal: 7.69s\tremaining: 19.2s\n",
      "286:\tlearn: 0.3338136\ttotal: 7.74s\tremaining: 19.2s\n",
      "287:\tlearn: 0.3337975\ttotal: 7.75s\tremaining: 19.2s\n",
      "288:\tlearn: 0.3337834\ttotal: 7.76s\tremaining: 19.1s\n",
      "289:\tlearn: 0.3337229\ttotal: 7.81s\tremaining: 19.1s\n",
      "290:\tlearn: 0.3336960\ttotal: 7.86s\tremaining: 19.2s\n",
      "291:\tlearn: 0.3336282\ttotal: 7.91s\tremaining: 19.2s\n",
      "292:\tlearn: 0.3336032\ttotal: 7.92s\tremaining: 19.1s\n",
      "293:\tlearn: 0.3335897\ttotal: 7.93s\tremaining: 19s\n",
      "294:\tlearn: 0.3335651\ttotal: 7.95s\tremaining: 19s\n",
      "295:\tlearn: 0.3335107\ttotal: 7.96s\tremaining: 18.9s\n",
      "296:\tlearn: 0.3334639\ttotal: 7.98s\tremaining: 18.9s\n",
      "297:\tlearn: 0.3334254\ttotal: 8.01s\tremaining: 18.9s\n",
      "298:\tlearn: 0.3332926\ttotal: 8.04s\tremaining: 18.9s\n",
      "299:\tlearn: 0.3332667\ttotal: 8.08s\tremaining: 18.8s\n",
      "300:\tlearn: 0.3332403\ttotal: 8.11s\tremaining: 18.8s\n",
      "301:\tlearn: 0.3332388\ttotal: 8.11s\tremaining: 18.8s\n",
      "302:\tlearn: 0.3330809\ttotal: 8.14s\tremaining: 18.7s\n",
      "303:\tlearn: 0.3330721\ttotal: 8.15s\tremaining: 18.7s\n",
      "304:\tlearn: 0.3329339\ttotal: 8.19s\tremaining: 18.7s\n",
      "305:\tlearn: 0.3329208\ttotal: 8.22s\tremaining: 18.6s\n",
      "306:\tlearn: 0.3328125\ttotal: 8.25s\tremaining: 18.6s\n",
      "307:\tlearn: 0.3327406\ttotal: 8.28s\tremaining: 18.6s\n",
      "308:\tlearn: 0.3326930\ttotal: 8.31s\tremaining: 18.6s\n",
      "309:\tlearn: 0.3326906\ttotal: 8.32s\tremaining: 18.5s\n",
      "310:\tlearn: 0.3326906\ttotal: 8.32s\tremaining: 18.4s\n",
      "311:\tlearn: 0.3326154\ttotal: 8.36s\tremaining: 18.4s\n",
      "312:\tlearn: 0.3326111\ttotal: 8.36s\tremaining: 18.4s\n",
      "313:\tlearn: 0.3325582\ttotal: 8.4s\tremaining: 18.3s\n",
      "314:\tlearn: 0.3325229\ttotal: 8.41s\tremaining: 18.3s\n",
      "315:\tlearn: 0.3325105\ttotal: 8.42s\tremaining: 18.2s\n",
      "316:\tlearn: 0.3324967\ttotal: 8.43s\tremaining: 18.2s\n",
      "317:\tlearn: 0.3324731\ttotal: 8.44s\tremaining: 18.1s\n",
      "318:\tlearn: 0.3324710\ttotal: 8.45s\tremaining: 18s\n",
      "319:\tlearn: 0.3323907\ttotal: 8.48s\tremaining: 18s\n",
      "320:\tlearn: 0.3323317\ttotal: 8.52s\tremaining: 18s\n",
      "321:\tlearn: 0.3323250\ttotal: 8.53s\tremaining: 18s\n",
      "322:\tlearn: 0.3322871\ttotal: 8.56s\tremaining: 18s\n",
      "323:\tlearn: 0.3321971\ttotal: 8.61s\tremaining: 18s\n"
     ]
    },
    {
     "name": "stdout",
     "output_type": "stream",
     "text": [
      "324:\tlearn: 0.3321452\ttotal: 8.65s\tremaining: 18s\n",
      "325:\tlearn: 0.3320192\ttotal: 8.7s\tremaining: 18s\n",
      "326:\tlearn: 0.3319689\ttotal: 8.74s\tremaining: 18s\n",
      "327:\tlearn: 0.3318637\ttotal: 8.77s\tremaining: 18s\n",
      "328:\tlearn: 0.3318046\ttotal: 8.8s\tremaining: 18s\n",
      "329:\tlearn: 0.3317787\ttotal: 8.84s\tremaining: 17.9s\n",
      "330:\tlearn: 0.3317465\ttotal: 8.87s\tremaining: 17.9s\n",
      "331:\tlearn: 0.3316896\ttotal: 8.9s\tremaining: 17.9s\n",
      "332:\tlearn: 0.3316827\ttotal: 8.91s\tremaining: 17.8s\n",
      "333:\tlearn: 0.3316753\ttotal: 8.91s\tremaining: 17.8s\n",
      "334:\tlearn: 0.3315974\ttotal: 8.96s\tremaining: 17.8s\n",
      "335:\tlearn: 0.3315067\ttotal: 9.03s\tremaining: 17.8s\n",
      "336:\tlearn: 0.3314055\ttotal: 9.08s\tremaining: 17.9s\n",
      "337:\tlearn: 0.3313485\ttotal: 9.11s\tremaining: 17.8s\n",
      "338:\tlearn: 0.3312465\ttotal: 9.14s\tremaining: 17.8s\n",
      "339:\tlearn: 0.3312006\ttotal: 9.17s\tremaining: 17.8s\n",
      "340:\tlearn: 0.3311651\ttotal: 9.2s\tremaining: 17.8s\n",
      "341:\tlearn: 0.3311008\ttotal: 9.22s\tremaining: 17.7s\n",
      "342:\tlearn: 0.3310211\ttotal: 9.25s\tremaining: 17.7s\n",
      "343:\tlearn: 0.3309656\ttotal: 9.28s\tremaining: 17.7s\n",
      "344:\tlearn: 0.3309210\ttotal: 9.31s\tremaining: 17.7s\n",
      "345:\tlearn: 0.3308253\ttotal: 9.34s\tremaining: 17.7s\n",
      "346:\tlearn: 0.3308140\ttotal: 9.36s\tremaining: 17.6s\n",
      "347:\tlearn: 0.3307884\ttotal: 9.38s\tremaining: 17.6s\n",
      "348:\tlearn: 0.3307186\ttotal: 9.41s\tremaining: 17.6s\n",
      "349:\tlearn: 0.3306512\ttotal: 9.45s\tremaining: 17.5s\n",
      "350:\tlearn: 0.3306114\ttotal: 9.48s\tremaining: 17.5s\n",
      "351:\tlearn: 0.3304958\ttotal: 9.52s\tremaining: 17.5s\n",
      "352:\tlearn: 0.3304630\ttotal: 9.56s\tremaining: 17.5s\n",
      "353:\tlearn: 0.3303903\ttotal: 9.61s\tremaining: 17.5s\n",
      "354:\tlearn: 0.3303839\ttotal: 9.62s\tremaining: 17.5s\n",
      "355:\tlearn: 0.3303512\ttotal: 9.65s\tremaining: 17.5s\n",
      "356:\tlearn: 0.3303496\ttotal: 9.66s\tremaining: 17.4s\n",
      "357:\tlearn: 0.3303000\ttotal: 9.69s\tremaining: 17.4s\n",
      "358:\tlearn: 0.3302313\ttotal: 9.72s\tremaining: 17.4s\n",
      "359:\tlearn: 0.3301992\ttotal: 9.76s\tremaining: 17.3s\n",
      "360:\tlearn: 0.3301247\ttotal: 9.78s\tremaining: 17.3s\n",
      "361:\tlearn: 0.3301090\ttotal: 9.79s\tremaining: 17.3s\n",
      "362:\tlearn: 0.3301070\ttotal: 9.79s\tremaining: 17.2s\n",
      "363:\tlearn: 0.3300453\ttotal: 9.82s\tremaining: 17.2s\n",
      "364:\tlearn: 0.3300049\ttotal: 9.85s\tremaining: 17.1s\n",
      "365:\tlearn: 0.3299741\ttotal: 9.88s\tremaining: 17.1s\n",
      "366:\tlearn: 0.3299406\ttotal: 9.92s\tremaining: 17.1s\n",
      "367:\tlearn: 0.3299063\ttotal: 9.96s\tremaining: 17.1s\n",
      "368:\tlearn: 0.3298776\ttotal: 9.99s\tremaining: 17.1s\n",
      "369:\tlearn: 0.3298203\ttotal: 10s\tremaining: 17.1s\n",
      "370:\tlearn: 0.3297729\ttotal: 10.1s\tremaining: 17.1s\n",
      "371:\tlearn: 0.3297522\ttotal: 10.1s\tremaining: 17s\n",
      "372:\tlearn: 0.3297127\ttotal: 10.1s\tremaining: 17s\n",
      "373:\tlearn: 0.3296804\ttotal: 10.2s\tremaining: 17s\n",
      "374:\tlearn: 0.3296312\ttotal: 10.2s\tremaining: 17s\n",
      "375:\tlearn: 0.3295817\ttotal: 10.2s\tremaining: 17s\n",
      "376:\tlearn: 0.3295547\ttotal: 10.3s\tremaining: 16.9s\n",
      "377:\tlearn: 0.3295278\ttotal: 10.3s\tremaining: 16.9s\n",
      "378:\tlearn: 0.3295201\ttotal: 10.3s\tremaining: 16.9s\n",
      "379:\tlearn: 0.3294998\ttotal: 10.3s\tremaining: 16.8s\n",
      "380:\tlearn: 0.3294717\ttotal: 10.4s\tremaining: 16.8s\n",
      "381:\tlearn: 0.3294407\ttotal: 10.4s\tremaining: 16.8s\n",
      "382:\tlearn: 0.3293872\ttotal: 10.4s\tremaining: 16.8s\n",
      "383:\tlearn: 0.3293239\ttotal: 10.5s\tremaining: 16.8s\n",
      "384:\tlearn: 0.3292935\ttotal: 10.5s\tremaining: 16.8s\n",
      "385:\tlearn: 0.3292573\ttotal: 10.5s\tremaining: 16.7s\n",
      "386:\tlearn: 0.3292390\ttotal: 10.5s\tremaining: 16.7s\n",
      "387:\tlearn: 0.3292321\ttotal: 10.6s\tremaining: 16.7s\n",
      "388:\tlearn: 0.3291997\ttotal: 10.6s\tremaining: 16.6s\n",
      "389:\tlearn: 0.3291668\ttotal: 10.6s\tremaining: 16.6s\n",
      "390:\tlearn: 0.3291144\ttotal: 10.7s\tremaining: 16.6s\n",
      "391:\tlearn: 0.3290858\ttotal: 10.7s\tremaining: 16.6s\n",
      "392:\tlearn: 0.3290674\ttotal: 10.7s\tremaining: 16.6s\n",
      "393:\tlearn: 0.3290369\ttotal: 10.7s\tremaining: 16.5s\n",
      "394:\tlearn: 0.3290345\ttotal: 10.8s\tremaining: 16.5s\n",
      "395:\tlearn: 0.3289955\ttotal: 10.8s\tremaining: 16.5s\n",
      "396:\tlearn: 0.3289753\ttotal: 10.8s\tremaining: 16.4s\n",
      "397:\tlearn: 0.3289605\ttotal: 10.9s\tremaining: 16.4s\n",
      "398:\tlearn: 0.3289236\ttotal: 10.9s\tremaining: 16.4s\n",
      "399:\tlearn: 0.3289113\ttotal: 10.9s\tremaining: 16.4s\n",
      "400:\tlearn: 0.3288666\ttotal: 10.9s\tremaining: 16.4s\n",
      "401:\tlearn: 0.3288312\ttotal: 11s\tremaining: 16.3s\n",
      "402:\tlearn: 0.3287960\ttotal: 11s\tremaining: 16.3s\n",
      "403:\tlearn: 0.3287631\ttotal: 11s\tremaining: 16.3s\n",
      "404:\tlearn: 0.3287444\ttotal: 11.1s\tremaining: 16.3s\n",
      "405:\tlearn: 0.3287336\ttotal: 11.1s\tremaining: 16.2s\n",
      "406:\tlearn: 0.3286978\ttotal: 11.1s\tremaining: 16.2s\n",
      "407:\tlearn: 0.3286805\ttotal: 11.2s\tremaining: 16.2s\n",
      "408:\tlearn: 0.3286629\ttotal: 11.2s\tremaining: 16.2s\n",
      "409:\tlearn: 0.3286273\ttotal: 11.2s\tremaining: 16.1s\n",
      "410:\tlearn: 0.3286086\ttotal: 11.2s\tremaining: 16.1s\n",
      "411:\tlearn: 0.3285739\ttotal: 11.3s\tremaining: 16.1s\n",
      "412:\tlearn: 0.3285610\ttotal: 11.3s\tremaining: 16.1s\n",
      "413:\tlearn: 0.3285305\ttotal: 11.3s\tremaining: 16s\n",
      "414:\tlearn: 0.3284977\ttotal: 11.4s\tremaining: 16s\n",
      "415:\tlearn: 0.3284687\ttotal: 11.4s\tremaining: 16s\n",
      "416:\tlearn: 0.3284359\ttotal: 11.4s\tremaining: 16s\n",
      "417:\tlearn: 0.3284054\ttotal: 11.5s\tremaining: 16s\n",
      "418:\tlearn: 0.3283767\ttotal: 11.5s\tremaining: 15.9s\n",
      "419:\tlearn: 0.3283397\ttotal: 11.5s\tremaining: 15.9s\n",
      "420:\tlearn: 0.3283143\ttotal: 11.6s\tremaining: 15.9s\n",
      "421:\tlearn: 0.3282850\ttotal: 11.6s\tremaining: 15.9s\n",
      "422:\tlearn: 0.3282518\ttotal: 11.6s\tremaining: 15.9s\n",
      "423:\tlearn: 0.3282292\ttotal: 11.7s\tremaining: 15.8s\n",
      "424:\tlearn: 0.3281868\ttotal: 11.7s\tremaining: 15.8s\n",
      "425:\tlearn: 0.3281665\ttotal: 11.7s\tremaining: 15.8s\n",
      "426:\tlearn: 0.3281360\ttotal: 11.7s\tremaining: 15.8s\n",
      "427:\tlearn: 0.3281027\ttotal: 11.8s\tremaining: 15.7s\n",
      "428:\tlearn: 0.3280861\ttotal: 11.8s\tremaining: 15.7s\n",
      "429:\tlearn: 0.3280515\ttotal: 11.8s\tremaining: 15.7s\n",
      "430:\tlearn: 0.3280283\ttotal: 11.9s\tremaining: 15.7s\n",
      "431:\tlearn: 0.3279999\ttotal: 11.9s\tremaining: 15.7s\n",
      "432:\tlearn: 0.3279638\ttotal: 11.9s\tremaining: 15.6s\n",
      "433:\tlearn: 0.3279397\ttotal: 12s\tremaining: 15.6s\n",
      "434:\tlearn: 0.3279184\ttotal: 12s\tremaining: 15.6s\n",
      "435:\tlearn: 0.3278964\ttotal: 12s\tremaining: 15.6s\n",
      "436:\tlearn: 0.3278733\ttotal: 12.1s\tremaining: 15.5s\n",
      "437:\tlearn: 0.3278472\ttotal: 12.1s\tremaining: 15.5s\n",
      "438:\tlearn: 0.3278168\ttotal: 12.1s\tremaining: 15.5s\n",
      "439:\tlearn: 0.3278040\ttotal: 12.2s\tremaining: 15.5s\n",
      "440:\tlearn: 0.3277820\ttotal: 12.2s\tremaining: 15.4s\n",
      "441:\tlearn: 0.3277453\ttotal: 12.2s\tremaining: 15.4s\n",
      "442:\tlearn: 0.3277248\ttotal: 12.2s\tremaining: 15.4s\n",
      "443:\tlearn: 0.3277019\ttotal: 12.3s\tremaining: 15.4s\n",
      "444:\tlearn: 0.3276631\ttotal: 12.3s\tremaining: 15.4s\n",
      "445:\tlearn: 0.3276483\ttotal: 12.3s\tremaining: 15.3s\n",
      "446:\tlearn: 0.3276162\ttotal: 12.4s\tremaining: 15.3s\n",
      "447:\tlearn: 0.3275774\ttotal: 12.4s\tremaining: 15.3s\n",
      "448:\tlearn: 0.3275631\ttotal: 12.4s\tremaining: 15.3s\n",
      "449:\tlearn: 0.3275334\ttotal: 12.5s\tremaining: 15.2s\n",
      "450:\tlearn: 0.3275054\ttotal: 12.5s\tremaining: 15.2s\n",
      "451:\tlearn: 0.3274818\ttotal: 12.5s\tremaining: 15.2s\n",
      "452:\tlearn: 0.3274536\ttotal: 12.6s\tremaining: 15.2s\n",
      "453:\tlearn: 0.3274304\ttotal: 12.6s\tremaining: 15.2s\n",
      "454:\tlearn: 0.3273945\ttotal: 12.6s\tremaining: 15.1s\n",
      "455:\tlearn: 0.3273805\ttotal: 12.7s\tremaining: 15.1s\n",
      "456:\tlearn: 0.3273540\ttotal: 12.7s\tremaining: 15.1s\n",
      "457:\tlearn: 0.3273235\ttotal: 12.7s\tremaining: 15.1s\n",
      "458:\tlearn: 0.3272994\ttotal: 12.8s\tremaining: 15s\n",
      "459:\tlearn: 0.3272654\ttotal: 12.8s\tremaining: 15s\n",
      "460:\tlearn: 0.3272384\ttotal: 12.8s\tremaining: 15s\n",
      "461:\tlearn: 0.3272131\ttotal: 12.9s\tremaining: 15s\n",
      "462:\tlearn: 0.3271902\ttotal: 12.9s\tremaining: 15s\n",
      "463:\tlearn: 0.3271677\ttotal: 12.9s\tremaining: 14.9s\n",
      "464:\tlearn: 0.3271508\ttotal: 13s\tremaining: 14.9s\n",
      "465:\tlearn: 0.3271104\ttotal: 13s\tremaining: 14.9s\n",
      "466:\tlearn: 0.3270899\ttotal: 13s\tremaining: 14.9s\n",
      "467:\tlearn: 0.3270679\ttotal: 13.1s\tremaining: 14.8s\n",
      "468:\tlearn: 0.3270474\ttotal: 13.1s\tremaining: 14.8s\n",
      "469:\tlearn: 0.3270188\ttotal: 13.1s\tremaining: 14.8s\n",
      "470:\tlearn: 0.3269986\ttotal: 13.1s\tremaining: 14.8s\n",
      "471:\tlearn: 0.3269775\ttotal: 13.2s\tremaining: 14.7s\n",
      "472:\tlearn: 0.3269497\ttotal: 13.2s\tremaining: 14.7s\n",
      "473:\tlearn: 0.3269308\ttotal: 13.2s\tremaining: 14.7s\n",
      "474:\tlearn: 0.3269044\ttotal: 13.3s\tremaining: 14.7s\n",
      "475:\tlearn: 0.3268803\ttotal: 13.3s\tremaining: 14.6s\n",
      "476:\tlearn: 0.3268634\ttotal: 13.3s\tremaining: 14.6s\n",
      "477:\tlearn: 0.3268402\ttotal: 13.4s\tremaining: 14.6s\n",
      "478:\tlearn: 0.3268206\ttotal: 13.4s\tremaining: 14.6s\n",
      "479:\tlearn: 0.3267871\ttotal: 13.4s\tremaining: 14.5s\n",
      "480:\tlearn: 0.3267611\ttotal: 13.5s\tremaining: 14.5s\n",
      "481:\tlearn: 0.3267274\ttotal: 13.5s\tremaining: 14.5s\n",
      "482:\tlearn: 0.3267094\ttotal: 13.5s\tremaining: 14.5s\n",
      "483:\tlearn: 0.3266911\ttotal: 13.6s\tremaining: 14.4s\n",
      "484:\tlearn: 0.3266752\ttotal: 13.6s\tremaining: 14.4s\n",
      "485:\tlearn: 0.3266509\ttotal: 13.6s\tremaining: 14.4s\n"
     ]
    },
    {
     "name": "stdout",
     "output_type": "stream",
     "text": [
      "486:\tlearn: 0.3266266\ttotal: 13.6s\tremaining: 14.4s\n",
      "487:\tlearn: 0.3266044\ttotal: 13.7s\tremaining: 14.3s\n",
      "488:\tlearn: 0.3265887\ttotal: 13.7s\tremaining: 14.3s\n",
      "489:\tlearn: 0.3265678\ttotal: 13.7s\tremaining: 14.3s\n",
      "490:\tlearn: 0.3265525\ttotal: 13.8s\tremaining: 14.3s\n",
      "491:\tlearn: 0.3265231\ttotal: 13.8s\tremaining: 14.2s\n",
      "492:\tlearn: 0.3265016\ttotal: 13.8s\tremaining: 14.2s\n",
      "493:\tlearn: 0.3264694\ttotal: 13.9s\tremaining: 14.2s\n",
      "494:\tlearn: 0.3264534\ttotal: 13.9s\tremaining: 14.2s\n",
      "495:\tlearn: 0.3264257\ttotal: 13.9s\tremaining: 14.1s\n",
      "496:\tlearn: 0.3264068\ttotal: 13.9s\tremaining: 14.1s\n",
      "497:\tlearn: 0.3263884\ttotal: 14s\tremaining: 14.1s\n",
      "498:\tlearn: 0.3263745\ttotal: 14s\tremaining: 14.1s\n",
      "499:\tlearn: 0.3263484\ttotal: 14s\tremaining: 14s\n",
      "500:\tlearn: 0.3263345\ttotal: 14.1s\tremaining: 14s\n",
      "501:\tlearn: 0.3263210\ttotal: 14.1s\tremaining: 14s\n",
      "502:\tlearn: 0.3263009\ttotal: 14.1s\tremaining: 14s\n",
      "503:\tlearn: 0.3262822\ttotal: 14.2s\tremaining: 13.9s\n",
      "504:\tlearn: 0.3262723\ttotal: 14.2s\tremaining: 13.9s\n",
      "505:\tlearn: 0.3262589\ttotal: 14.2s\tremaining: 13.9s\n",
      "506:\tlearn: 0.3262575\ttotal: 14.2s\tremaining: 13.9s\n",
      "507:\tlearn: 0.3262479\ttotal: 14.3s\tremaining: 13.8s\n",
      "508:\tlearn: 0.3262311\ttotal: 14.3s\tremaining: 13.8s\n",
      "509:\tlearn: 0.3262284\ttotal: 14.3s\tremaining: 13.8s\n",
      "510:\tlearn: 0.3262033\ttotal: 14.4s\tremaining: 13.7s\n",
      "511:\tlearn: 0.3261940\ttotal: 14.4s\tremaining: 13.7s\n",
      "512:\tlearn: 0.3261830\ttotal: 14.4s\tremaining: 13.7s\n",
      "513:\tlearn: 0.3261719\ttotal: 14.4s\tremaining: 13.7s\n",
      "514:\tlearn: 0.3261650\ttotal: 14.5s\tremaining: 13.6s\n",
      "515:\tlearn: 0.3261550\ttotal: 14.5s\tremaining: 13.6s\n",
      "516:\tlearn: 0.3261480\ttotal: 14.5s\tremaining: 13.6s\n",
      "517:\tlearn: 0.3261330\ttotal: 14.6s\tremaining: 13.6s\n",
      "518:\tlearn: 0.3261115\ttotal: 14.6s\tremaining: 13.5s\n",
      "519:\tlearn: 0.3260923\ttotal: 14.6s\tremaining: 13.5s\n",
      "520:\tlearn: 0.3260691\ttotal: 14.7s\tremaining: 13.5s\n",
      "521:\tlearn: 0.3260585\ttotal: 14.7s\tremaining: 13.5s\n",
      "522:\tlearn: 0.3260452\ttotal: 14.7s\tremaining: 13.4s\n",
      "523:\tlearn: 0.3260361\ttotal: 14.8s\tremaining: 13.4s\n",
      "524:\tlearn: 0.3260208\ttotal: 14.8s\tremaining: 13.4s\n",
      "525:\tlearn: 0.3260118\ttotal: 14.8s\tremaining: 13.4s\n",
      "526:\tlearn: 0.3260013\ttotal: 14.9s\tremaining: 13.3s\n",
      "527:\tlearn: 0.3259940\ttotal: 14.9s\tremaining: 13.3s\n",
      "528:\tlearn: 0.3259798\ttotal: 14.9s\tremaining: 13.3s\n",
      "529:\tlearn: 0.3259784\ttotal: 14.9s\tremaining: 13.2s\n",
      "530:\tlearn: 0.3259793\ttotal: 14.9s\tremaining: 13.2s\n",
      "531:\tlearn: 0.3259766\ttotal: 14.9s\tremaining: 13.2s\n",
      "532:\tlearn: 0.3259760\ttotal: 15s\tremaining: 13.1s\n",
      "533:\tlearn: 0.3259677\ttotal: 15s\tremaining: 13.1s\n",
      "534:\tlearn: 0.3259668\ttotal: 15s\tremaining: 13s\n",
      "535:\tlearn: 0.3259555\ttotal: 15s\tremaining: 13s\n",
      "536:\tlearn: 0.3259547\ttotal: 15s\tremaining: 13s\n",
      "537:\tlearn: 0.3259550\ttotal: 15.1s\tremaining: 12.9s\n",
      "538:\tlearn: 0.3259456\ttotal: 15.1s\tremaining: 12.9s\n",
      "539:\tlearn: 0.3259443\ttotal: 15.1s\tremaining: 12.9s\n",
      "540:\tlearn: 0.3259450\ttotal: 15.1s\tremaining: 12.8s\n",
      "541:\tlearn: 0.3259443\ttotal: 15.1s\tremaining: 12.8s\n",
      "542:\tlearn: 0.3259424\ttotal: 15.1s\tremaining: 12.7s\n",
      "543:\tlearn: 0.3259418\ttotal: 15.2s\tremaining: 12.7s\n",
      "544:\tlearn: 0.3259413\ttotal: 15.2s\tremaining: 12.7s\n",
      "545:\tlearn: 0.3259409\ttotal: 15.2s\tremaining: 12.6s\n",
      "546:\tlearn: 0.3259419\ttotal: 15.2s\tremaining: 12.6s\n",
      "547:\tlearn: 0.3259412\ttotal: 15.2s\tremaining: 12.5s\n",
      "548:\tlearn: 0.3259408\ttotal: 15.2s\tremaining: 12.5s\n",
      "549:\tlearn: 0.3259409\ttotal: 15.2s\tremaining: 12.4s\n",
      "550:\tlearn: 0.3259296\ttotal: 15.2s\tremaining: 12.4s\n",
      "551:\tlearn: 0.3259279\ttotal: 15.2s\tremaining: 12.4s\n",
      "552:\tlearn: 0.3259277\ttotal: 15.2s\tremaining: 12.3s\n",
      "553:\tlearn: 0.3259276\ttotal: 15.3s\tremaining: 12.3s\n",
      "554:\tlearn: 0.3259285\ttotal: 15.3s\tremaining: 12.2s\n",
      "555:\tlearn: 0.3259277\ttotal: 15.3s\tremaining: 12.2s\n",
      "556:\tlearn: 0.3259268\ttotal: 15.3s\tremaining: 12.1s\n",
      "557:\tlearn: 0.3259278\ttotal: 15.3s\tremaining: 12.1s\n",
      "558:\tlearn: 0.3259164\ttotal: 15.3s\tremaining: 12.1s\n",
      "559:\tlearn: 0.3259163\ttotal: 15.3s\tremaining: 12s\n",
      "560:\tlearn: 0.3259164\ttotal: 15.3s\tremaining: 12s\n",
      "561:\tlearn: 0.3259159\ttotal: 15.3s\tremaining: 11.9s\n",
      "562:\tlearn: 0.3259009\ttotal: 15.4s\tremaining: 11.9s\n",
      "563:\tlearn: 0.3259012\ttotal: 15.4s\tremaining: 11.9s\n",
      "564:\tlearn: 0.3259017\ttotal: 15.4s\tremaining: 11.8s\n",
      "565:\tlearn: 0.3259006\ttotal: 15.4s\tremaining: 11.8s\n",
      "566:\tlearn: 0.3259018\ttotal: 15.4s\tremaining: 11.7s\n",
      "567:\tlearn: 0.3259009\ttotal: 15.4s\tremaining: 11.7s\n",
      "568:\tlearn: 0.3259002\ttotal: 15.4s\tremaining: 11.7s\n",
      "569:\tlearn: 0.3258864\ttotal: 15.4s\tremaining: 11.6s\n",
      "570:\tlearn: 0.3258864\ttotal: 15.4s\tremaining: 11.6s\n",
      "571:\tlearn: 0.3258688\ttotal: 15.5s\tremaining: 11.6s\n",
      "572:\tlearn: 0.3258597\ttotal: 15.5s\tremaining: 11.6s\n",
      "573:\tlearn: 0.3258593\ttotal: 15.5s\tremaining: 11.5s\n",
      "574:\tlearn: 0.3258593\ttotal: 15.5s\tremaining: 11.5s\n",
      "575:\tlearn: 0.3258493\ttotal: 15.6s\tremaining: 11.4s\n",
      "576:\tlearn: 0.3258486\ttotal: 15.6s\tremaining: 11.4s\n",
      "577:\tlearn: 0.3258424\ttotal: 15.6s\tremaining: 11.4s\n",
      "578:\tlearn: 0.3258423\ttotal: 15.6s\tremaining: 11.3s\n",
      "579:\tlearn: 0.3258419\ttotal: 15.6s\tremaining: 11.3s\n",
      "580:\tlearn: 0.3258409\ttotal: 15.6s\tremaining: 11.3s\n",
      "581:\tlearn: 0.3258281\ttotal: 15.6s\tremaining: 11.2s\n",
      "582:\tlearn: 0.3258279\ttotal: 15.7s\tremaining: 11.2s\n",
      "583:\tlearn: 0.3258276\ttotal: 15.7s\tremaining: 11.2s\n",
      "584:\tlearn: 0.3258279\ttotal: 15.7s\tremaining: 11.1s\n",
      "585:\tlearn: 0.3258279\ttotal: 15.7s\tremaining: 11.1s\n",
      "586:\tlearn: 0.3258181\ttotal: 15.7s\tremaining: 11s\n",
      "587:\tlearn: 0.3258182\ttotal: 15.7s\tremaining: 11s\n",
      "588:\tlearn: 0.3258185\ttotal: 15.7s\tremaining: 11s\n",
      "589:\tlearn: 0.3258176\ttotal: 15.7s\tremaining: 10.9s\n",
      "590:\tlearn: 0.3258091\ttotal: 15.8s\tremaining: 10.9s\n",
      "591:\tlearn: 0.3258091\ttotal: 15.8s\tremaining: 10.9s\n",
      "592:\tlearn: 0.3258091\ttotal: 15.8s\tremaining: 10.8s\n",
      "593:\tlearn: 0.3258091\ttotal: 15.8s\tremaining: 10.8s\n",
      "594:\tlearn: 0.3257951\ttotal: 15.8s\tremaining: 10.8s\n",
      "595:\tlearn: 0.3257882\ttotal: 15.8s\tremaining: 10.7s\n",
      "596:\tlearn: 0.3257751\ttotal: 15.9s\tremaining: 10.7s\n",
      "597:\tlearn: 0.3257752\ttotal: 15.9s\tremaining: 10.7s\n",
      "598:\tlearn: 0.3257701\ttotal: 15.9s\tremaining: 10.6s\n",
      "599:\tlearn: 0.3257620\ttotal: 15.9s\tremaining: 10.6s\n",
      "600:\tlearn: 0.3257612\ttotal: 15.9s\tremaining: 10.6s\n",
      "601:\tlearn: 0.3257624\ttotal: 15.9s\tremaining: 10.5s\n",
      "602:\tlearn: 0.3257619\ttotal: 16s\tremaining: 10.5s\n",
      "603:\tlearn: 0.3257612\ttotal: 16s\tremaining: 10.5s\n",
      "604:\tlearn: 0.3257612\ttotal: 16s\tremaining: 10.4s\n",
      "605:\tlearn: 0.3257614\ttotal: 16s\tremaining: 10.4s\n",
      "606:\tlearn: 0.3257605\ttotal: 16s\tremaining: 10.3s\n",
      "607:\tlearn: 0.3257520\ttotal: 16s\tremaining: 10.3s\n",
      "608:\tlearn: 0.3257372\ttotal: 16s\tremaining: 10.3s\n",
      "609:\tlearn: 0.3257372\ttotal: 16s\tremaining: 10.3s\n",
      "610:\tlearn: 0.3257372\ttotal: 16s\tremaining: 10.2s\n",
      "611:\tlearn: 0.3257372\ttotal: 16.1s\tremaining: 10.2s\n",
      "612:\tlearn: 0.3257372\ttotal: 16.1s\tremaining: 10.1s\n",
      "613:\tlearn: 0.3257318\ttotal: 16.1s\tremaining: 10.1s\n",
      "614:\tlearn: 0.3257216\ttotal: 16.1s\tremaining: 10.1s\n",
      "615:\tlearn: 0.3257127\ttotal: 16.1s\tremaining: 10.1s\n",
      "616:\tlearn: 0.3256963\ttotal: 16.2s\tremaining: 10s\n",
      "617:\tlearn: 0.3256970\ttotal: 16.2s\tremaining: 10s\n",
      "618:\tlearn: 0.3256866\ttotal: 16.2s\tremaining: 9.98s\n",
      "619:\tlearn: 0.3256749\ttotal: 16.3s\tremaining: 9.96s\n",
      "620:\tlearn: 0.3256624\ttotal: 16.3s\tremaining: 9.94s\n",
      "621:\tlearn: 0.3256490\ttotal: 16.3s\tremaining: 9.92s\n",
      "622:\tlearn: 0.3256369\ttotal: 16.4s\tremaining: 9.89s\n",
      "623:\tlearn: 0.3256290\ttotal: 16.4s\tremaining: 9.87s\n",
      "624:\tlearn: 0.3256170\ttotal: 16.4s\tremaining: 9.85s\n",
      "625:\tlearn: 0.3256018\ttotal: 16.4s\tremaining: 9.82s\n",
      "626:\tlearn: 0.3255933\ttotal: 16.5s\tremaining: 9.8s\n",
      "627:\tlearn: 0.3255836\ttotal: 16.5s\tremaining: 9.78s\n",
      "628:\tlearn: 0.3255712\ttotal: 16.5s\tremaining: 9.75s\n",
      "629:\tlearn: 0.3255636\ttotal: 16.6s\tremaining: 9.73s\n",
      "630:\tlearn: 0.3255518\ttotal: 16.6s\tremaining: 9.71s\n",
      "631:\tlearn: 0.3255378\ttotal: 16.6s\tremaining: 9.68s\n",
      "632:\tlearn: 0.3255303\ttotal: 16.7s\tremaining: 9.65s\n",
      "633:\tlearn: 0.3255218\ttotal: 16.7s\tremaining: 9.63s\n",
      "634:\tlearn: 0.3255117\ttotal: 16.7s\tremaining: 9.61s\n",
      "635:\tlearn: 0.3255009\ttotal: 16.7s\tremaining: 9.58s\n",
      "636:\tlearn: 0.3254953\ttotal: 16.8s\tremaining: 9.56s\n",
      "637:\tlearn: 0.3254845\ttotal: 16.8s\tremaining: 9.54s\n",
      "638:\tlearn: 0.3254781\ttotal: 16.8s\tremaining: 9.52s\n",
      "639:\tlearn: 0.3254698\ttotal: 16.9s\tremaining: 9.49s\n",
      "640:\tlearn: 0.3254614\ttotal: 16.9s\tremaining: 9.47s\n",
      "641:\tlearn: 0.3254542\ttotal: 16.9s\tremaining: 9.45s\n",
      "642:\tlearn: 0.3254404\ttotal: 17s\tremaining: 9.42s\n",
      "643:\tlearn: 0.3254301\ttotal: 17s\tremaining: 9.4s\n",
      "644:\tlearn: 0.3254213\ttotal: 17s\tremaining: 9.38s\n",
      "645:\tlearn: 0.3254149\ttotal: 17.1s\tremaining: 9.35s\n",
      "646:\tlearn: 0.3254059\ttotal: 17.1s\tremaining: 9.33s\n",
      "647:\tlearn: 0.3253986\ttotal: 17.1s\tremaining: 9.3s\n",
      "648:\tlearn: 0.3253900\ttotal: 17.2s\tremaining: 9.28s\n",
      "649:\tlearn: 0.3253801\ttotal: 17.2s\tremaining: 9.26s\n"
     ]
    },
    {
     "name": "stdout",
     "output_type": "stream",
     "text": [
      "650:\tlearn: 0.3253735\ttotal: 17.2s\tremaining: 9.23s\n",
      "651:\tlearn: 0.3253675\ttotal: 17.3s\tremaining: 9.21s\n",
      "652:\tlearn: 0.3253581\ttotal: 17.3s\tremaining: 9.19s\n",
      "653:\tlearn: 0.3253515\ttotal: 17.3s\tremaining: 9.17s\n",
      "654:\tlearn: 0.3253416\ttotal: 17.4s\tremaining: 9.15s\n",
      "655:\tlearn: 0.3253365\ttotal: 17.4s\tremaining: 9.13s\n",
      "656:\tlearn: 0.3253306\ttotal: 17.4s\tremaining: 9.1s\n",
      "657:\tlearn: 0.3253191\ttotal: 17.5s\tremaining: 9.08s\n",
      "658:\tlearn: 0.3253110\ttotal: 17.5s\tremaining: 9.06s\n",
      "659:\tlearn: 0.3253032\ttotal: 17.5s\tremaining: 9.04s\n",
      "660:\tlearn: 0.3252906\ttotal: 17.6s\tremaining: 9.01s\n",
      "661:\tlearn: 0.3252854\ttotal: 17.6s\tremaining: 8.99s\n",
      "662:\tlearn: 0.3252811\ttotal: 17.6s\tremaining: 8.96s\n",
      "663:\tlearn: 0.3252748\ttotal: 17.7s\tremaining: 8.94s\n",
      "664:\tlearn: 0.3252694\ttotal: 17.7s\tremaining: 8.92s\n",
      "665:\tlearn: 0.3252644\ttotal: 17.7s\tremaining: 8.89s\n",
      "666:\tlearn: 0.3252569\ttotal: 17.8s\tremaining: 8.87s\n",
      "667:\tlearn: 0.3252523\ttotal: 17.8s\tremaining: 8.84s\n",
      "668:\tlearn: 0.3252480\ttotal: 17.8s\tremaining: 8.82s\n",
      "669:\tlearn: 0.3252422\ttotal: 17.9s\tremaining: 8.79s\n",
      "670:\tlearn: 0.3252367\ttotal: 17.9s\tremaining: 8.77s\n",
      "671:\tlearn: 0.3252304\ttotal: 17.9s\tremaining: 8.74s\n",
      "672:\tlearn: 0.3252198\ttotal: 17.9s\tremaining: 8.72s\n",
      "673:\tlearn: 0.3252161\ttotal: 18s\tremaining: 8.7s\n",
      "674:\tlearn: 0.3252020\ttotal: 18s\tremaining: 8.67s\n",
      "675:\tlearn: 0.3251961\ttotal: 18s\tremaining: 8.65s\n",
      "676:\tlearn: 0.3251910\ttotal: 18.1s\tremaining: 8.62s\n",
      "677:\tlearn: 0.3251841\ttotal: 18.1s\tremaining: 8.6s\n",
      "678:\tlearn: 0.3251711\ttotal: 18.1s\tremaining: 8.58s\n",
      "679:\tlearn: 0.3251663\ttotal: 18.2s\tremaining: 8.55s\n",
      "680:\tlearn: 0.3251606\ttotal: 18.2s\tremaining: 8.53s\n",
      "681:\tlearn: 0.3251562\ttotal: 18.2s\tremaining: 8.5s\n",
      "682:\tlearn: 0.3251469\ttotal: 18.3s\tremaining: 8.48s\n",
      "683:\tlearn: 0.3251409\ttotal: 18.3s\tremaining: 8.45s\n",
      "684:\tlearn: 0.3251367\ttotal: 18.3s\tremaining: 8.43s\n",
      "685:\tlearn: 0.3251321\ttotal: 18.4s\tremaining: 8.41s\n",
      "686:\tlearn: 0.3251213\ttotal: 18.4s\tremaining: 8.38s\n",
      "687:\tlearn: 0.3251169\ttotal: 18.4s\tremaining: 8.36s\n",
      "688:\tlearn: 0.3251096\ttotal: 18.5s\tremaining: 8.33s\n",
      "689:\tlearn: 0.3251057\ttotal: 18.5s\tremaining: 8.31s\n",
      "690:\tlearn: 0.3250974\ttotal: 18.5s\tremaining: 8.28s\n",
      "691:\tlearn: 0.3250871\ttotal: 18.5s\tremaining: 8.26s\n",
      "692:\tlearn: 0.3250731\ttotal: 18.6s\tremaining: 8.23s\n",
      "693:\tlearn: 0.3250632\ttotal: 18.6s\tremaining: 8.2s\n",
      "694:\tlearn: 0.3250584\ttotal: 18.6s\tremaining: 8.18s\n",
      "695:\tlearn: 0.3250531\ttotal: 18.7s\tremaining: 8.15s\n",
      "696:\tlearn: 0.3250511\ttotal: 18.7s\tremaining: 8.13s\n",
      "697:\tlearn: 0.3250389\ttotal: 18.7s\tremaining: 8.1s\n",
      "698:\tlearn: 0.3250273\ttotal: 18.8s\tremaining: 8.08s\n",
      "699:\tlearn: 0.3250197\ttotal: 18.8s\tremaining: 8.05s\n",
      "700:\tlearn: 0.3250130\ttotal: 18.8s\tremaining: 8.03s\n",
      "701:\tlearn: 0.3250015\ttotal: 18.9s\tremaining: 8.01s\n",
      "702:\tlearn: 0.3249959\ttotal: 18.9s\tremaining: 7.98s\n",
      "703:\tlearn: 0.3249907\ttotal: 18.9s\tremaining: 7.95s\n",
      "704:\tlearn: 0.3249868\ttotal: 18.9s\tremaining: 7.93s\n",
      "705:\tlearn: 0.3249813\ttotal: 19s\tremaining: 7.91s\n",
      "706:\tlearn: 0.3249769\ttotal: 19s\tremaining: 7.88s\n",
      "707:\tlearn: 0.3249724\ttotal: 19s\tremaining: 7.86s\n",
      "708:\tlearn: 0.3249686\ttotal: 19.1s\tremaining: 7.83s\n",
      "709:\tlearn: 0.3249649\ttotal: 19.1s\tremaining: 7.8s\n",
      "710:\tlearn: 0.3249520\ttotal: 19.1s\tremaining: 7.78s\n",
      "711:\tlearn: 0.3249481\ttotal: 19.2s\tremaining: 7.75s\n",
      "712:\tlearn: 0.3249423\ttotal: 19.2s\tremaining: 7.73s\n",
      "713:\tlearn: 0.3249330\ttotal: 19.2s\tremaining: 7.7s\n",
      "714:\tlearn: 0.3249261\ttotal: 19.3s\tremaining: 7.67s\n",
      "715:\tlearn: 0.3249223\ttotal: 19.3s\tremaining: 7.65s\n",
      "716:\tlearn: 0.3249149\ttotal: 19.3s\tremaining: 7.62s\n",
      "717:\tlearn: 0.3249029\ttotal: 19.3s\tremaining: 7.6s\n",
      "718:\tlearn: 0.3248937\ttotal: 19.4s\tremaining: 7.57s\n",
      "719:\tlearn: 0.3248889\ttotal: 19.4s\tremaining: 7.54s\n",
      "720:\tlearn: 0.3248770\ttotal: 19.5s\tremaining: 7.53s\n",
      "721:\tlearn: 0.3248716\ttotal: 19.5s\tremaining: 7.5s\n",
      "722:\tlearn: 0.3248655\ttotal: 19.5s\tremaining: 7.47s\n",
      "723:\tlearn: 0.3248618\ttotal: 19.5s\tremaining: 7.45s\n",
      "724:\tlearn: 0.3248580\ttotal: 19.6s\tremaining: 7.42s\n",
      "725:\tlearn: 0.3248530\ttotal: 19.6s\tremaining: 7.39s\n",
      "726:\tlearn: 0.3248492\ttotal: 19.6s\tremaining: 7.37s\n",
      "727:\tlearn: 0.3248454\ttotal: 19.7s\tremaining: 7.34s\n",
      "728:\tlearn: 0.3248360\ttotal: 19.7s\tremaining: 7.32s\n",
      "729:\tlearn: 0.3248333\ttotal: 19.7s\tremaining: 7.29s\n",
      "730:\tlearn: 0.3248270\ttotal: 19.7s\tremaining: 7.26s\n",
      "731:\tlearn: 0.3248215\ttotal: 19.8s\tremaining: 7.24s\n",
      "732:\tlearn: 0.3248113\ttotal: 19.8s\tremaining: 7.21s\n",
      "733:\tlearn: 0.3248049\ttotal: 19.8s\tremaining: 7.18s\n",
      "734:\tlearn: 0.3247988\ttotal: 19.9s\tremaining: 7.16s\n",
      "735:\tlearn: 0.3247935\ttotal: 19.9s\tremaining: 7.13s\n",
      "736:\tlearn: 0.3247903\ttotal: 19.9s\tremaining: 7.11s\n",
      "737:\tlearn: 0.3247870\ttotal: 19.9s\tremaining: 7.08s\n",
      "738:\tlearn: 0.3247783\ttotal: 20s\tremaining: 7.05s\n",
      "739:\tlearn: 0.3247704\ttotal: 20s\tremaining: 7.03s\n",
      "740:\tlearn: 0.3247663\ttotal: 20s\tremaining: 7s\n",
      "741:\tlearn: 0.3247544\ttotal: 20.1s\tremaining: 6.97s\n",
      "742:\tlearn: 0.3247465\ttotal: 20.1s\tremaining: 6.95s\n",
      "743:\tlearn: 0.3247370\ttotal: 20.1s\tremaining: 6.92s\n",
      "744:\tlearn: 0.3247331\ttotal: 20.1s\tremaining: 6.89s\n",
      "745:\tlearn: 0.3247290\ttotal: 20.2s\tremaining: 6.87s\n",
      "746:\tlearn: 0.3247236\ttotal: 20.2s\tremaining: 6.84s\n",
      "747:\tlearn: 0.3247205\ttotal: 20.2s\tremaining: 6.82s\n",
      "748:\tlearn: 0.3247169\ttotal: 20.3s\tremaining: 6.79s\n",
      "749:\tlearn: 0.3247133\ttotal: 20.3s\tremaining: 6.76s\n",
      "750:\tlearn: 0.3247107\ttotal: 20.3s\tremaining: 6.74s\n",
      "751:\tlearn: 0.3246985\ttotal: 20.3s\tremaining: 6.71s\n",
      "752:\tlearn: 0.3246940\ttotal: 20.4s\tremaining: 6.68s\n",
      "753:\tlearn: 0.3246859\ttotal: 20.4s\tremaining: 6.66s\n",
      "754:\tlearn: 0.3246819\ttotal: 20.4s\tremaining: 6.63s\n",
      "755:\tlearn: 0.3246768\ttotal: 20.5s\tremaining: 6.6s\n",
      "756:\tlearn: 0.3246721\ttotal: 20.5s\tremaining: 6.58s\n",
      "757:\tlearn: 0.3246691\ttotal: 20.5s\tremaining: 6.55s\n",
      "758:\tlearn: 0.3246638\ttotal: 20.5s\tremaining: 6.53s\n",
      "759:\tlearn: 0.3246570\ttotal: 20.6s\tremaining: 6.5s\n",
      "760:\tlearn: 0.3246522\ttotal: 20.6s\tremaining: 6.47s\n",
      "761:\tlearn: 0.3246436\ttotal: 20.6s\tremaining: 6.45s\n",
      "762:\tlearn: 0.3246317\ttotal: 20.7s\tremaining: 6.42s\n",
      "763:\tlearn: 0.3246192\ttotal: 20.7s\tremaining: 6.39s\n",
      "764:\tlearn: 0.3246127\ttotal: 20.7s\tremaining: 6.37s\n",
      "765:\tlearn: 0.3246092\ttotal: 20.8s\tremaining: 6.34s\n",
      "766:\tlearn: 0.3246037\ttotal: 20.8s\tremaining: 6.32s\n",
      "767:\tlearn: 0.3245986\ttotal: 20.8s\tremaining: 6.29s\n",
      "768:\tlearn: 0.3245909\ttotal: 20.9s\tremaining: 6.27s\n",
      "769:\tlearn: 0.3245886\ttotal: 20.9s\tremaining: 6.24s\n",
      "770:\tlearn: 0.3245834\ttotal: 20.9s\tremaining: 6.22s\n",
      "771:\tlearn: 0.3245732\ttotal: 21s\tremaining: 6.19s\n",
      "772:\tlearn: 0.3245614\ttotal: 21s\tremaining: 6.16s\n",
      "773:\tlearn: 0.3245547\ttotal: 21s\tremaining: 6.14s\n",
      "774:\tlearn: 0.3245505\ttotal: 21.1s\tremaining: 6.11s\n",
      "775:\tlearn: 0.3245455\ttotal: 21.1s\tremaining: 6.09s\n",
      "776:\tlearn: 0.3245418\ttotal: 21.1s\tremaining: 6.06s\n",
      "777:\tlearn: 0.3245344\ttotal: 21.1s\tremaining: 6.03s\n",
      "778:\tlearn: 0.3245304\ttotal: 21.2s\tremaining: 6.01s\n",
      "779:\tlearn: 0.3245249\ttotal: 21.2s\tremaining: 5.98s\n",
      "780:\tlearn: 0.3245206\ttotal: 21.2s\tremaining: 5.96s\n",
      "781:\tlearn: 0.3245162\ttotal: 21.3s\tremaining: 5.93s\n",
      "782:\tlearn: 0.3245131\ttotal: 21.3s\tremaining: 5.9s\n",
      "783:\tlearn: 0.3245067\ttotal: 21.3s\tremaining: 5.88s\n",
      "784:\tlearn: 0.3245012\ttotal: 21.4s\tremaining: 5.85s\n",
      "785:\tlearn: 0.3244979\ttotal: 21.4s\tremaining: 5.82s\n",
      "786:\tlearn: 0.3244947\ttotal: 21.4s\tremaining: 5.8s\n",
      "787:\tlearn: 0.3244913\ttotal: 21.5s\tremaining: 5.77s\n",
      "788:\tlearn: 0.3244878\ttotal: 21.5s\tremaining: 5.75s\n",
      "789:\tlearn: 0.3244828\ttotal: 21.5s\tremaining: 5.72s\n",
      "790:\tlearn: 0.3244786\ttotal: 21.5s\tremaining: 5.69s\n",
      "791:\tlearn: 0.3244713\ttotal: 21.6s\tremaining: 5.67s\n",
      "792:\tlearn: 0.3244695\ttotal: 21.6s\tremaining: 5.64s\n",
      "793:\tlearn: 0.3244659\ttotal: 21.6s\tremaining: 5.61s\n",
      "794:\tlearn: 0.3244570\ttotal: 21.7s\tremaining: 5.59s\n",
      "795:\tlearn: 0.3244503\ttotal: 21.7s\tremaining: 5.56s\n",
      "796:\tlearn: 0.3244423\ttotal: 21.7s\tremaining: 5.54s\n",
      "797:\tlearn: 0.3244348\ttotal: 21.8s\tremaining: 5.51s\n",
      "798:\tlearn: 0.3244305\ttotal: 21.8s\tremaining: 5.48s\n",
      "799:\tlearn: 0.3244242\ttotal: 21.8s\tremaining: 5.46s\n",
      "800:\tlearn: 0.3244242\ttotal: 21.9s\tremaining: 5.43s\n",
      "801:\tlearn: 0.3244136\ttotal: 21.9s\tremaining: 5.4s\n",
      "802:\tlearn: 0.3244053\ttotal: 21.9s\tremaining: 5.38s\n",
      "803:\tlearn: 0.3243992\ttotal: 22s\tremaining: 5.35s\n",
      "804:\tlearn: 0.3243897\ttotal: 22s\tremaining: 5.33s\n",
      "805:\tlearn: 0.3243829\ttotal: 22s\tremaining: 5.3s\n",
      "806:\tlearn: 0.3243768\ttotal: 22.1s\tremaining: 5.28s\n",
      "807:\tlearn: 0.3243688\ttotal: 22.1s\tremaining: 5.25s\n",
      "808:\tlearn: 0.3243597\ttotal: 22.1s\tremaining: 5.23s\n",
      "809:\tlearn: 0.3243553\ttotal: 22.2s\tremaining: 5.2s\n"
     ]
    },
    {
     "name": "stdout",
     "output_type": "stream",
     "text": [
      "810:\tlearn: 0.3243489\ttotal: 22.2s\tremaining: 5.18s\n",
      "811:\tlearn: 0.3243424\ttotal: 22.3s\tremaining: 5.16s\n",
      "812:\tlearn: 0.3243389\ttotal: 22.3s\tremaining: 5.13s\n",
      "813:\tlearn: 0.3243313\ttotal: 22.4s\tremaining: 5.11s\n",
      "814:\tlearn: 0.3243242\ttotal: 22.4s\tremaining: 5.08s\n",
      "815:\tlearn: 0.3243164\ttotal: 22.4s\tremaining: 5.06s\n",
      "816:\tlearn: 0.3243077\ttotal: 22.5s\tremaining: 5.04s\n",
      "817:\tlearn: 0.3243027\ttotal: 22.5s\tremaining: 5.01s\n",
      "818:\tlearn: 0.3242969\ttotal: 22.6s\tremaining: 4.99s\n",
      "819:\tlearn: 0.3242905\ttotal: 22.6s\tremaining: 4.96s\n",
      "820:\tlearn: 0.3242819\ttotal: 22.6s\tremaining: 4.93s\n",
      "821:\tlearn: 0.3242767\ttotal: 22.7s\tremaining: 4.91s\n",
      "822:\tlearn: 0.3242699\ttotal: 22.7s\tremaining: 4.88s\n",
      "823:\tlearn: 0.3242635\ttotal: 22.8s\tremaining: 4.86s\n",
      "824:\tlearn: 0.3242532\ttotal: 22.8s\tremaining: 4.83s\n",
      "825:\tlearn: 0.3242474\ttotal: 22.8s\tremaining: 4.81s\n",
      "826:\tlearn: 0.3242418\ttotal: 22.9s\tremaining: 4.78s\n",
      "827:\tlearn: 0.3242339\ttotal: 22.9s\tremaining: 4.76s\n",
      "828:\tlearn: 0.3242283\ttotal: 22.9s\tremaining: 4.73s\n",
      "829:\tlearn: 0.3242233\ttotal: 23s\tremaining: 4.71s\n",
      "830:\tlearn: 0.3242155\ttotal: 23s\tremaining: 4.68s\n",
      "831:\tlearn: 0.3242119\ttotal: 23s\tremaining: 4.65s\n",
      "832:\tlearn: 0.3242049\ttotal: 23.1s\tremaining: 4.63s\n",
      "833:\tlearn: 0.3242013\ttotal: 23.1s\tremaining: 4.6s\n",
      "834:\tlearn: 0.3241967\ttotal: 23.1s\tremaining: 4.57s\n",
      "835:\tlearn: 0.3241900\ttotal: 23.2s\tremaining: 4.54s\n",
      "836:\tlearn: 0.3241852\ttotal: 23.2s\tremaining: 4.52s\n",
      "837:\tlearn: 0.3241793\ttotal: 23.3s\tremaining: 4.5s\n",
      "838:\tlearn: 0.3241750\ttotal: 23.3s\tremaining: 4.48s\n",
      "839:\tlearn: 0.3241704\ttotal: 23.4s\tremaining: 4.45s\n",
      "840:\tlearn: 0.3241654\ttotal: 23.4s\tremaining: 4.42s\n",
      "841:\tlearn: 0.3241593\ttotal: 23.4s\tremaining: 4.4s\n",
      "842:\tlearn: 0.3241553\ttotal: 23.5s\tremaining: 4.38s\n",
      "843:\tlearn: 0.3241486\ttotal: 23.5s\tremaining: 4.35s\n",
      "844:\tlearn: 0.3241459\ttotal: 23.6s\tremaining: 4.33s\n",
      "845:\tlearn: 0.3241411\ttotal: 23.6s\tremaining: 4.3s\n",
      "846:\tlearn: 0.3241366\ttotal: 23.6s\tremaining: 4.27s\n",
      "847:\tlearn: 0.3241337\ttotal: 23.7s\tremaining: 4.24s\n",
      "848:\tlearn: 0.3241289\ttotal: 23.7s\tremaining: 4.22s\n",
      "849:\tlearn: 0.3241249\ttotal: 23.8s\tremaining: 4.19s\n",
      "850:\tlearn: 0.3241176\ttotal: 23.8s\tremaining: 4.17s\n",
      "851:\tlearn: 0.3241119\ttotal: 23.9s\tremaining: 4.14s\n",
      "852:\tlearn: 0.3241078\ttotal: 23.9s\tremaining: 4.12s\n",
      "853:\tlearn: 0.3241036\ttotal: 24s\tremaining: 4.1s\n",
      "854:\tlearn: 0.3240968\ttotal: 24s\tremaining: 4.07s\n",
      "855:\tlearn: 0.3240935\ttotal: 24.1s\tremaining: 4.05s\n",
      "856:\tlearn: 0.3240861\ttotal: 24.1s\tremaining: 4.02s\n",
      "857:\tlearn: 0.3240824\ttotal: 24.1s\tremaining: 4s\n",
      "858:\tlearn: 0.3240773\ttotal: 24.2s\tremaining: 3.97s\n",
      "859:\tlearn: 0.3240733\ttotal: 24.2s\tremaining: 3.95s\n",
      "860:\tlearn: 0.3240697\ttotal: 24.3s\tremaining: 3.92s\n",
      "861:\tlearn: 0.3240649\ttotal: 24.3s\tremaining: 3.89s\n",
      "862:\tlearn: 0.3240571\ttotal: 24.4s\tremaining: 3.87s\n",
      "863:\tlearn: 0.3240538\ttotal: 24.4s\tremaining: 3.84s\n",
      "864:\tlearn: 0.3240508\ttotal: 24.4s\tremaining: 3.82s\n",
      "865:\tlearn: 0.3240464\ttotal: 24.5s\tremaining: 3.79s\n",
      "866:\tlearn: 0.3240413\ttotal: 24.5s\tremaining: 3.76s\n",
      "867:\tlearn: 0.3240376\ttotal: 24.6s\tremaining: 3.74s\n",
      "868:\tlearn: 0.3240333\ttotal: 24.6s\tremaining: 3.71s\n",
      "869:\tlearn: 0.3240289\ttotal: 24.7s\tremaining: 3.68s\n",
      "870:\tlearn: 0.3240244\ttotal: 24.7s\tremaining: 3.66s\n",
      "871:\tlearn: 0.3240206\ttotal: 24.7s\tremaining: 3.63s\n",
      "872:\tlearn: 0.3240176\ttotal: 24.8s\tremaining: 3.61s\n",
      "873:\tlearn: 0.3240135\ttotal: 24.9s\tremaining: 3.59s\n",
      "874:\tlearn: 0.3240106\ttotal: 24.9s\tremaining: 3.56s\n",
      "875:\tlearn: 0.3240052\ttotal: 25s\tremaining: 3.54s\n",
      "876:\tlearn: 0.3240021\ttotal: 25.1s\tremaining: 3.52s\n",
      "877:\tlearn: 0.3239997\ttotal: 25.1s\tremaining: 3.49s\n",
      "878:\tlearn: 0.3239946\ttotal: 25.2s\tremaining: 3.46s\n",
      "879:\tlearn: 0.3239916\ttotal: 25.2s\tremaining: 3.43s\n",
      "880:\tlearn: 0.3239897\ttotal: 25.2s\tremaining: 3.4s\n",
      "881:\tlearn: 0.3239852\ttotal: 25.2s\tremaining: 3.38s\n",
      "882:\tlearn: 0.3239824\ttotal: 25.3s\tremaining: 3.35s\n",
      "883:\tlearn: 0.3239781\ttotal: 25.3s\tremaining: 3.32s\n",
      "884:\tlearn: 0.3239736\ttotal: 25.3s\tremaining: 3.29s\n",
      "885:\tlearn: 0.3239718\ttotal: 25.4s\tremaining: 3.26s\n",
      "886:\tlearn: 0.3239690\ttotal: 25.4s\tremaining: 3.24s\n",
      "887:\tlearn: 0.3239669\ttotal: 25.4s\tremaining: 3.21s\n",
      "888:\tlearn: 0.3239637\ttotal: 25.5s\tremaining: 3.18s\n",
      "889:\tlearn: 0.3239600\ttotal: 25.5s\tremaining: 3.15s\n",
      "890:\tlearn: 0.3239553\ttotal: 25.6s\tremaining: 3.13s\n",
      "891:\tlearn: 0.3239526\ttotal: 25.6s\tremaining: 3.1s\n",
      "892:\tlearn: 0.3239497\ttotal: 25.6s\tremaining: 3.07s\n",
      "893:\tlearn: 0.3239474\ttotal: 25.7s\tremaining: 3.04s\n",
      "894:\tlearn: 0.3239445\ttotal: 25.7s\tremaining: 3.02s\n",
      "895:\tlearn: 0.3239401\ttotal: 25.8s\tremaining: 2.99s\n",
      "896:\tlearn: 0.3239327\ttotal: 25.8s\tremaining: 2.96s\n",
      "897:\tlearn: 0.3239313\ttotal: 25.8s\tremaining: 2.94s\n",
      "898:\tlearn: 0.3239280\ttotal: 25.9s\tremaining: 2.91s\n",
      "899:\tlearn: 0.3239250\ttotal: 25.9s\tremaining: 2.88s\n",
      "900:\tlearn: 0.3239211\ttotal: 26s\tremaining: 2.85s\n",
      "901:\tlearn: 0.3239177\ttotal: 26s\tremaining: 2.83s\n",
      "902:\tlearn: 0.3239150\ttotal: 26.1s\tremaining: 2.8s\n",
      "903:\tlearn: 0.3239118\ttotal: 26.1s\tremaining: 2.77s\n",
      "904:\tlearn: 0.3239081\ttotal: 26.2s\tremaining: 2.75s\n",
      "905:\tlearn: 0.3239017\ttotal: 26.2s\tremaining: 2.72s\n",
      "906:\tlearn: 0.3238968\ttotal: 26.3s\tremaining: 2.69s\n",
      "907:\tlearn: 0.3238952\ttotal: 26.3s\tremaining: 2.67s\n",
      "908:\tlearn: 0.3238932\ttotal: 26.4s\tremaining: 2.64s\n",
      "909:\tlearn: 0.3238879\ttotal: 26.4s\tremaining: 2.61s\n",
      "910:\tlearn: 0.3238850\ttotal: 26.4s\tremaining: 2.58s\n",
      "911:\tlearn: 0.3238815\ttotal: 26.5s\tremaining: 2.56s\n",
      "912:\tlearn: 0.3238798\ttotal: 26.5s\tremaining: 2.53s\n",
      "913:\tlearn: 0.3238770\ttotal: 26.6s\tremaining: 2.5s\n",
      "914:\tlearn: 0.3238715\ttotal: 26.6s\tremaining: 2.47s\n",
      "915:\tlearn: 0.3238670\ttotal: 26.6s\tremaining: 2.44s\n",
      "916:\tlearn: 0.3238629\ttotal: 26.7s\tremaining: 2.41s\n",
      "917:\tlearn: 0.3238604\ttotal: 26.7s\tremaining: 2.38s\n",
      "918:\tlearn: 0.3238572\ttotal: 26.7s\tremaining: 2.36s\n",
      "919:\tlearn: 0.3238557\ttotal: 26.8s\tremaining: 2.33s\n",
      "920:\tlearn: 0.3238526\ttotal: 26.8s\tremaining: 2.3s\n",
      "921:\tlearn: 0.3238457\ttotal: 26.8s\tremaining: 2.27s\n",
      "922:\tlearn: 0.3238424\ttotal: 26.9s\tremaining: 2.24s\n",
      "923:\tlearn: 0.3238393\ttotal: 26.9s\tremaining: 2.21s\n",
      "924:\tlearn: 0.3238344\ttotal: 26.9s\tremaining: 2.18s\n",
      "925:\tlearn: 0.3238327\ttotal: 26.9s\tremaining: 2.15s\n",
      "926:\tlearn: 0.3238257\ttotal: 27s\tremaining: 2.12s\n",
      "927:\tlearn: 0.3238243\ttotal: 27s\tremaining: 2.1s\n",
      "928:\tlearn: 0.3238242\ttotal: 27s\tremaining: 2.07s\n",
      "929:\tlearn: 0.3238174\ttotal: 27.1s\tremaining: 2.04s\n",
      "930:\tlearn: 0.3238152\ttotal: 27.1s\tremaining: 2.01s\n",
      "931:\tlearn: 0.3238120\ttotal: 27.1s\tremaining: 1.98s\n",
      "932:\tlearn: 0.3238087\ttotal: 27.2s\tremaining: 1.95s\n",
      "933:\tlearn: 0.3238058\ttotal: 27.2s\tremaining: 1.92s\n",
      "934:\tlearn: 0.3238009\ttotal: 27.2s\tremaining: 1.89s\n",
      "935:\tlearn: 0.3237971\ttotal: 27.3s\tremaining: 1.86s\n",
      "936:\tlearn: 0.3237947\ttotal: 27.3s\tremaining: 1.84s\n",
      "937:\tlearn: 0.3237918\ttotal: 27.4s\tremaining: 1.81s\n",
      "938:\tlearn: 0.3237859\ttotal: 27.4s\tremaining: 1.78s\n",
      "939:\tlearn: 0.3237819\ttotal: 27.4s\tremaining: 1.75s\n",
      "940:\tlearn: 0.3237783\ttotal: 27.5s\tremaining: 1.72s\n",
      "941:\tlearn: 0.3237757\ttotal: 27.5s\tremaining: 1.69s\n",
      "942:\tlearn: 0.3237725\ttotal: 27.6s\tremaining: 1.67s\n",
      "943:\tlearn: 0.3237682\ttotal: 27.6s\tremaining: 1.64s\n",
      "944:\tlearn: 0.3237657\ttotal: 27.6s\tremaining: 1.61s\n",
      "945:\tlearn: 0.3237621\ttotal: 27.7s\tremaining: 1.58s\n",
      "946:\tlearn: 0.3237600\ttotal: 27.7s\tremaining: 1.55s\n",
      "947:\tlearn: 0.3237568\ttotal: 27.7s\tremaining: 1.52s\n",
      "948:\tlearn: 0.3237530\ttotal: 27.8s\tremaining: 1.49s\n",
      "949:\tlearn: 0.3237495\ttotal: 27.8s\tremaining: 1.46s\n",
      "950:\tlearn: 0.3237454\ttotal: 27.8s\tremaining: 1.43s\n",
      "951:\tlearn: 0.3237361\ttotal: 27.9s\tremaining: 1.4s\n",
      "952:\tlearn: 0.3237321\ttotal: 27.9s\tremaining: 1.38s\n",
      "953:\tlearn: 0.3237292\ttotal: 27.9s\tremaining: 1.35s\n",
      "954:\tlearn: 0.3237260\ttotal: 27.9s\tremaining: 1.32s\n",
      "955:\tlearn: 0.3237198\ttotal: 28s\tremaining: 1.29s\n",
      "956:\tlearn: 0.3237131\ttotal: 28s\tremaining: 1.26s\n",
      "957:\tlearn: 0.3237101\ttotal: 28s\tremaining: 1.23s\n",
      "958:\tlearn: 0.3237075\ttotal: 28.1s\tremaining: 1.2s\n",
      "959:\tlearn: 0.3237025\ttotal: 28.1s\tremaining: 1.17s\n",
      "960:\tlearn: 0.3236998\ttotal: 28.1s\tremaining: 1.14s\n",
      "961:\tlearn: 0.3236967\ttotal: 28.1s\tremaining: 1.11s\n",
      "962:\tlearn: 0.3236929\ttotal: 28.2s\tremaining: 1.08s\n",
      "963:\tlearn: 0.3236911\ttotal: 28.2s\tremaining: 1.05s\n",
      "964:\tlearn: 0.3236882\ttotal: 28.2s\tremaining: 1.02s\n",
      "965:\tlearn: 0.3236851\ttotal: 28.3s\tremaining: 994ms\n",
      "966:\tlearn: 0.3236772\ttotal: 28.3s\tremaining: 965ms\n",
      "967:\tlearn: 0.3236729\ttotal: 28.3s\tremaining: 936ms\n",
      "968:\tlearn: 0.3236724\ttotal: 28.3s\tremaining: 906ms\n",
      "969:\tlearn: 0.3236657\ttotal: 28.4s\tremaining: 877ms\n",
      "970:\tlearn: 0.3236615\ttotal: 28.4s\tremaining: 848ms\n",
      "971:\tlearn: 0.3236588\ttotal: 28.4s\tremaining: 818ms\n"
     ]
    },
    {
     "name": "stdout",
     "output_type": "stream",
     "text": [
      "972:\tlearn: 0.3236551\ttotal: 28.4s\tremaining: 789ms\n",
      "973:\tlearn: 0.3236534\ttotal: 28.5s\tremaining: 760ms\n",
      "974:\tlearn: 0.3236522\ttotal: 28.5s\tremaining: 731ms\n",
      "975:\tlearn: 0.3236497\ttotal: 28.5s\tremaining: 702ms\n",
      "976:\tlearn: 0.3236489\ttotal: 28.6s\tremaining: 672ms\n",
      "977:\tlearn: 0.3236449\ttotal: 28.6s\tremaining: 643ms\n",
      "978:\tlearn: 0.3236421\ttotal: 28.6s\tremaining: 614ms\n",
      "979:\tlearn: 0.3236400\ttotal: 28.6s\tremaining: 584ms\n",
      "980:\tlearn: 0.3236373\ttotal: 28.7s\tremaining: 555ms\n",
      "981:\tlearn: 0.3236354\ttotal: 28.7s\tremaining: 526ms\n",
      "982:\tlearn: 0.3236324\ttotal: 28.7s\tremaining: 497ms\n",
      "983:\tlearn: 0.3236298\ttotal: 28.7s\tremaining: 467ms\n",
      "984:\tlearn: 0.3236267\ttotal: 28.8s\tremaining: 438ms\n",
      "985:\tlearn: 0.3236235\ttotal: 28.8s\tremaining: 409ms\n",
      "986:\tlearn: 0.3236210\ttotal: 28.8s\tremaining: 380ms\n",
      "987:\tlearn: 0.3236176\ttotal: 28.8s\tremaining: 350ms\n",
      "988:\tlearn: 0.3236148\ttotal: 28.9s\tremaining: 321ms\n",
      "989:\tlearn: 0.3236119\ttotal: 28.9s\tremaining: 292ms\n",
      "990:\tlearn: 0.3236101\ttotal: 28.9s\tremaining: 263ms\n",
      "991:\tlearn: 0.3236063\ttotal: 29s\tremaining: 234ms\n",
      "992:\tlearn: 0.3236034\ttotal: 29s\tremaining: 204ms\n",
      "993:\tlearn: 0.3235984\ttotal: 29s\tremaining: 175ms\n",
      "994:\tlearn: 0.3235950\ttotal: 29.1s\tremaining: 146ms\n",
      "995:\tlearn: 0.3235909\ttotal: 29.1s\tremaining: 117ms\n",
      "996:\tlearn: 0.3235876\ttotal: 29.1s\tremaining: 87.6ms\n",
      "997:\tlearn: 0.3235852\ttotal: 29.1s\tremaining: 58.4ms\n",
      "998:\tlearn: 0.3235801\ttotal: 29.2s\tremaining: 29.2ms\n",
      "999:\tlearn: 0.3235787\ttotal: 29.2s\tremaining: 0us\n"
     ]
    },
    {
     "data": {
      "text/plain": [
       "RandomizedSearchCV(cv=5,\n",
       "                   estimator=<catboost.core.CatBoostClassifier object at 0x00000279D56083D0>,\n",
       "                   n_iter=20, n_jobs=-1,\n",
       "                   param_distributions={'depth': [4, 6, 10],\n",
       "                                        'l2_leaf_reg': [1, 3, 5, 7, 9],\n",
       "                                        'learning_rate': [0.03, 0.1]},\n",
       "                   scoring='roc_auc', verbose=3)"
      ]
     },
     "execution_count": 83,
     "metadata": {},
     "output_type": "execute_result"
    }
   ],
   "source": [
    "# Creating parameters for Optimization\n",
    "Ct_params = { 'learning_rate': [0.03, 0.1],\n",
    "        'depth': [4, 6, 10],\n",
    "        'l2_leaf_reg': [1, 3, 5, 7,9],\n",
    "}\n",
    "\n",
    "# Finding best hyperparameters to tune the model to fit data\n",
    "random_ctb= RandomizedSearchCV(Ct_clf,param_distributions=Ct_params,scoring='roc_auc',cv=5,verbose=3,n_jobs=-1,n_iter=20)\n",
    "random_ctb.fit(X_train,Y_train)"
   ]
  },
  {
   "cell_type": "code",
   "execution_count": 84,
   "id": "e7368669",
   "metadata": {},
   "outputs": [
    {
     "name": "stdout",
     "output_type": "stream",
     "text": [
      "Best Estimators :\n",
      " <catboost.core.CatBoostClassifier object at 0x00000279D51DDCD0>\n",
      "\n",
      "\n",
      "Best parameters :\n",
      " {'learning_rate': 0.03, 'l2_leaf_reg': 7, 'depth': 10}\n",
      "\n",
      "\n",
      "Best Score : 0.9067885146465324\n"
     ]
    }
   ],
   "source": [
    "print(\"Best Estimators :\\n\",random_ctb.best_estimator_)\n",
    "print(\"\\n\")\n",
    "print(\"Best parameters :\\n\",random_ctb.best_params_)\n",
    "print(\"\\n\")\n",
    "print(\"Best Score :\",random_ctb.best_score_)"
   ]
  },
  {
   "cell_type": "code",
   "execution_count": 85,
   "id": "809e7d04",
   "metadata": {},
   "outputs": [
    {
     "name": "stdout",
     "output_type": "stream",
     "text": [
      "Training Accuracy Score:0.85025\n",
      "Testing Accuracy Score:0.8495\n",
      "Precision Score:0.9325842696629213\n",
      "Recall Score:0.7515090543259557\n",
      "F1 Score:0.8323119777158775\n"
     ]
    }
   ],
   "source": [
    "# Evaluating the model by prediction and Accuracy\n",
    "Ct_test_pred = random_ctb.predict(X_test)\n",
    "Ct_train_pred = random_ctb.predict(X_train)\n",
    "\n",
    "# Accuracy of the model\n",
    "Ctb_test_acc=accuracy_score(Y_test,Ct_test_pred)\n",
    "Ctb_train_acc=accuracy_score(Y_train,Ct_train_pred)\n",
    "\n",
    "# Metrics of the model\n",
    "print('Training Accuracy Score:' + str(Ctb_train_acc))\n",
    "print('Testing Accuracy Score:' + str(Ctb_test_acc))\n",
    "print('Precision Score:'+ str(precision_score(Y_test,Ct_test_pred)))\n",
    "print('Recall Score:'+ str(recall_score(Y_test, Ct_test_pred)))\n",
    "print('F1 Score:' + str(f1_score(Y_test,Ct_test_pred)))"
   ]
  },
  {
   "cell_type": "code",
   "execution_count": 86,
   "id": "046d7816",
   "metadata": {},
   "outputs": [],
   "source": [
    "#storing the results\n",
    "Modelresults('CatGBoost', Ctb_train_acc, Ctb_test_acc)"
   ]
  },
  {
   "cell_type": "code",
   "execution_count": 87,
   "id": "107708df",
   "metadata": {},
   "outputs": [
    {
     "data": {
      "text/plain": [
       "0.8489155609601946"
      ]
     },
     "execution_count": 87,
     "metadata": {},
     "output_type": "execute_result"
    }
   ],
   "source": [
    "fpr, tpr, thresholds = roc_curve(Y_test,Ct_test_pred)\n",
    "\n",
    "# Area Under Curve\n",
    "auc = roc_auc_score(Y_test, Ct_test_pred)\n",
    "auc"
   ]
  },
  {
   "cell_type": "code",
   "execution_count": 88,
   "id": "2a7f84b1",
   "metadata": {},
   "outputs": [
    {
     "data": {
      "image/png": "[encoded data removed]",
      "text/plain": [
       "<Figure size 1440x360 with 1 Axes>"
      ]
     },
     "metadata": {
      "needs_background": "light"
     },
     "output_type": "display_data"
    }
   ],
   "source": [
    "plt.plot(fpr, tpr, color='orange', label='ROC')\n",
    "plt.plot([0, 1], [0, 1], color='darkblue', linestyle='--',label='ROC curve (area = %0.2f)' % auc)\n",
    "plt.xlabel('False Positive Rate')\n",
    "plt.ylabel('True Positive Rate')\n",
    "plt.title('Receiver Operating Characteristic (ROC) Curve')\n",
    "plt.legend()\n",
    "plt.show()"
   ]
  },
  {
   "cell_type": "markdown",
   "id": "384256d4",
   "metadata": {},
   "source": [
    "### **AUC=85 i.e model has probability of 85%  to separate the classes**"
   ]
  },
  {
   "cell_type": "code",
   "execution_count": 89,
   "id": "e1b3fdca",
   "metadata": {},
   "outputs": [
    {
     "data": {
      "text/plain": [
       "Text(0, 0.5, 'Feature Importance Score')"
      ]
     },
     "execution_count": 89,
     "metadata": {},
     "output_type": "execute_result"
    },
    {
     "data": {
      "image/png": "[encoded data removed]",
      "text/plain": [
       "<Figure size 1440x360 with 1 Axes>"
      ]
     },
     "metadata": {
      "needs_background": "light"
     },
     "output_type": "display_data"
    }
   ],
   "source": [
    "#Feature importance for top 100 predictors\n",
    "predictors = [x for x in X_train.columns]\n",
    "feat_imp = pd.Series(random_ctb.best_estimator_.feature_importances_, predictors).sort_values(ascending=False)\n",
    "feat_imp = feat_imp[0:100]\n",
    "plt.rcParams['figure.figsize'] = 20, 5\n",
    "feat_imp.plot(kind='bar', title='Feature Importance')\n",
    "plt.ylabel('Feature Importance Score')"
   ]
  },
  {
   "cell_type": "code",
   "execution_count": 90,
   "id": "01bef6e7",
   "metadata": {
    "scrolled": true
   },
   "outputs": [
    {
     "data": {
      "text/html": [
       "<div>\n",
       "<style scoped>\n",
       "    .dataframe tbody tr th:only-of-type {\n",
       "        vertical-align: middle;\n",
       "    }\n",
       "\n",
       "    .dataframe tbody tr th {\n",
       "        vertical-align: top;\n",
       "    }\n",
       "\n",
       "    .dataframe thead th {\n",
       "        text-align: right;\n",
       "    }\n",
       "</style>\n",
       "<table border=\"1\" class=\"dataframe\">\n",
       "  <thead>\n",
       "    <tr style=\"text-align: right;\">\n",
       "      <th></th>\n",
       "      <th>ML Model</th>\n",
       "      <th>Train Accuracy</th>\n",
       "      <th>Test Accuracy</th>\n",
       "    </tr>\n",
       "  </thead>\n",
       "  <tbody>\n",
       "    <tr>\n",
       "      <th>6</th>\n",
       "      <td>CatGBoost</td>\n",
       "      <td>0.850</td>\n",
       "      <td>0.850</td>\n",
       "    </tr>\n",
       "    <tr>\n",
       "      <th>4</th>\n",
       "      <td>Random Forest</td>\n",
       "      <td>0.850</td>\n",
       "      <td>0.848</td>\n",
       "    </tr>\n",
       "    <tr>\n",
       "      <th>5</th>\n",
       "      <td>XGBoost</td>\n",
       "      <td>0.845</td>\n",
       "      <td>0.846</td>\n",
       "    </tr>\n",
       "    <tr>\n",
       "      <th>3</th>\n",
       "      <td>Decision Tree</td>\n",
       "      <td>0.844</td>\n",
       "      <td>0.844</td>\n",
       "    </tr>\n",
       "    <tr>\n",
       "      <th>2</th>\n",
       "      <td>SVM</td>\n",
       "      <td>0.828</td>\n",
       "      <td>0.834</td>\n",
       "    </tr>\n",
       "    <tr>\n",
       "      <th>1</th>\n",
       "      <td>KNN</td>\n",
       "      <td>0.838</td>\n",
       "      <td>0.814</td>\n",
       "    </tr>\n",
       "    <tr>\n",
       "      <th>0</th>\n",
       "      <td>Logistic Regression</td>\n",
       "      <td>0.798</td>\n",
       "      <td>0.808</td>\n",
       "    </tr>\n",
       "  </tbody>\n",
       "</table>\n",
       "</div>"
      ],
      "text/plain": [
       "              ML Model  Train Accuracy  Test Accuracy\n",
       "6            CatGBoost           0.850          0.850\n",
       "4        Random Forest           0.850          0.848\n",
       "5              XGBoost           0.845          0.846\n",
       "3        Decision Tree           0.844          0.844\n",
       "2                  SVM           0.828          0.834\n",
       "1                  KNN           0.838          0.814\n",
       "0  Logistic Regression           0.798          0.808"
      ]
     },
     "execution_count": 90,
     "metadata": {},
     "output_type": "execute_result"
    }
   ],
   "source": [
    "results = pd.DataFrame({ 'ML Model': Mlmodel,    \n",
    "    'Train Accuracy': train_ac,\n",
    "    'Test Accuracy': test_ac})\n",
    "results\n",
    "\n",
    "#Sorting the datafram on accuracy\n",
    "results.sort_values(by=['Test Accuracy', 'Train Accuracy'], ascending=False)"
   ]
  },
  {
   "cell_type": "code",
   "execution_count": 104,
   "id": "04c7aaef",
   "metadata": {},
   "outputs": [
    {
     "data": {
      "image/png": "[encoded data removed]",
      "text/plain": [
       "<Figure size 720x360 with 1 Axes>"
      ]
     },
     "metadata": {
      "needs_background": "light"
     },
     "output_type": "display_data"
    }
   ],
   "source": [
    "import matplotlib.pyplot as plt\n",
    "CatBoost_Metrics= ['Accuracy','Precision','F1 Score','Recall','ROC']\n",
    "Percentage = [85,93.25,83.23,75.15,85]\n",
    "c=[\"green\",\"blue\",\"yellow\",\"red\"]\n",
    "fig = plt.figure(figsize = (10, 5))\n",
    "plt.bar(CatBoost_Metrics,Percentage, width=0.7,color=c)\n",
    "for i in range(len(Percentage)):\n",
    "    plt.text(i,Percentage[i],Percentage[i],ha=\"center\",va=\"bottom\")\n",
    "plt.xlabel(\"CatBoost_Metrics\")\n",
    "plt.ylabel(\"Percentage\")\n",
    "plt.title(\"CatBoost Metrics\")\n",
    "plt.ylim([70,100])\n",
    "plt.show()"
   ]
  },
  {
   "cell_type": "code",
   "execution_count": null,
   "id": "1b341eda",
   "metadata": {},
   "outputs": [],
   "source": []
  }
 ],
 "metadata": {
  "kernelspec": {
   "display_name": "Python 3",
   "language": "python",
   "name": "python3"
  },
  "language_info": {
   "codemirror_mode": {
    "name": "ipython",
    "version": 3
   },
   "file_extension": ".py",
   "mimetype": "text/x-python",
   "name": "python",
   "nbconvert_exporter": "python",
   "pygments_lexer": "ipython3",
   "version": "3.8.8"
  }
 },
 "nbformat": 4,
 "nbformat_minor": 5
}
